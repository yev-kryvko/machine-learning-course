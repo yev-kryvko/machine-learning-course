{
  "cells": [
    {
      "cell_type": "markdown",
      "source": [
        "Функції `groupby`, `pivot` і `pivot_table` дозволяють нам групувати дані в датафреймі за певними критеріями. Вони є потужними інструментами для аналізу даних і можуть використовуватися для вирішення широкого спектру завдань.\n"
      ],
      "metadata": {
        "id": "O5pI6gP2htDg"
      }
    },
    {
      "cell_type": "markdown",
      "source": [
        "# Функція groupby()\n",
        "\n",
        "Функція `groupby()` дозволяє нам групувати дані в датафреймі за одним або кількома стовпцями. Вона повертає об'єкт `DataFrameGroupBy`, який містить груповані дані."
      ],
      "metadata": {
        "id": "UFXCr6l35wsa"
      }
    },
    {
      "cell_type": "markdown",
      "source": [
        "![](https://drive.google.com/uc?export=view&id=1uR0eMkvSiH0HXSX8c_CegYnl-FBf74-V)\n",
        "\n",
        "\n"
      ],
      "metadata": {
        "id": "PDiZpAg_hu5w"
      }
    },
    {
      "cell_type": "code",
      "source": [
        "import pandas as pd"
      ],
      "metadata": {
        "id": "jGX5Sy2IuG9u"
      },
      "execution_count": null,
      "outputs": []
    },
    {
      "cell_type": "code",
      "source": [
        "pd.__version__"
      ],
      "metadata": {
        "id": "a5qopaIUvnCD"
      },
      "execution_count": null,
      "outputs": []
    },
    {
      "cell_type": "code",
      "source": [
        "df = pd.DataFrame({\n",
        "    \"A\": [7, 7, 5, 1, 1, 5, 1, 9, 1, 8, 5, 7, 3, 4, 3, 7, 7, 6, 9, 7],\n",
        "    \"B\": [1, 2, 3, 1, 1, 2, 4, 1, 3, 4, 4, 3, 3, 4, 1, 3, 4, 3, 4, 1],\n",
        "    \"C\": ['green', 'green', 'red', 'blue', 'blue', 'green', 'red', 'red',\n",
        "       'blue', 'green', 'red', 'green', 'blue', 'red', 'blue', 'blue',\n",
        "       'blue', 'green', 'green', 'red']\n",
        "})\n",
        "\n",
        "# Групування за стовпцем \"A\"\n",
        "grouped = df.groupby(\"A\")\n",
        "\n",
        "# Показуємо згруповані дані\n",
        "grouped"
      ],
      "outputs": [],
      "execution_count": null,
      "metadata": {
        "id": "V9BAF2jQt5Rw"
      }
    },
    {
      "cell_type": "markdown",
      "source": [
        "Ми маємо обрати агрегаційну функцію, яку ми виконаємо надо обʼєктом `DataFrameGroupBy` , аби отримати значення. Агрегаційних функцій є багато. Наприклад, ми можемо використовувати метод `size()` для отримання кількості елементів у кожній групі:"
      ],
      "metadata": {
        "id": "8tZ9lkv_t5Rx"
      }
    },
    {
      "cell_type": "code",
      "source": [
        "grouped.size()"
      ],
      "outputs": [],
      "execution_count": null,
      "metadata": {
        "id": "-TLBC1DGt5Ry"
      }
    },
    {
      "cell_type": "markdown",
      "source": [
        "Ми також можемо використовувати метод `mean()` для обчислення середнього значення для кожної групи:"
      ],
      "metadata": {
        "id": "5WOEoZlgt5Ry"
      }
    },
    {
      "cell_type": "code",
      "source": [
        "df"
      ],
      "metadata": {
        "id": "cpoP_iF9dP4B"
      },
      "execution_count": null,
      "outputs": []
    },
    {
      "cell_type": "code",
      "source": [
        "grouped.mean()"
      ],
      "outputs": [],
      "execution_count": null,
      "metadata": {
        "id": "hQiPWxNjt5Ry"
      }
    },
    {
      "cell_type": "markdown",
      "source": [
        "Зверніть увагу на `FutureWarning`. Якщо у Вас версія pandas вища за ту, що використовується тут, то дана операція може викликати помилку, оскільки не всі колонки в датафреймі ми можемо усереднити, адже колонка `C` не є чисельного типу.\n",
        "\n",
        "Аби позбутись `FutureWarning` ми можемо, як і показує нам повідомлення, додати аргумент до виклику методу агрегації `numeric_only=True`."
      ],
      "metadata": {
        "id": "U8CdbpqfvjHa"
      }
    },
    {
      "cell_type": "code",
      "source": [
        "grouped.mean(numeric_only=True)"
      ],
      "metadata": {
        "id": "CJz-q3zgvieS"
      },
      "execution_count": null,
      "outputs": []
    },
    {
      "cell_type": "markdown",
      "source": [
        "Або ж, і це - рекомендований метод, перед використанням агрегаційної функції ми маємо обрати колонки, значення яких саме будемо агрегувати."
      ],
      "metadata": {
        "id": "KVCzMMPiwIPK"
      }
    },
    {
      "cell_type": "code",
      "source": [
        "grouped['B'].mean()"
      ],
      "metadata": {
        "id": "J2bHLU3LwVX6"
      },
      "execution_count": null,
      "outputs": []
    },
    {
      "cell_type": "markdown",
      "source": [
        "Ось 13 вбудованих функцій агрегування, доступних у Pandas, та короткий опис того, що вони роблять:\n",
        "- mean(): Обчислює середнє значення у групі\n",
        "- sum(): Обчислює суму значень групи\n",
        "- size(): Обчислює кількість елементів у групі\n",
        "- count(): Обчислює кількість елементів у групі\n",
        "- std(): Стандартне відхилення груп\n",
        "- var(): Обчислює варіацію груп\n",
        "- sem(): Стандартна помилка середнього значення груп\n",
        "- describe(): Генерує описову статистику\n",
        "- first(): Обчислює перше значення групи\n",
        "- last(): Обчислює останнє значення групи\n",
        "- nth(): Вибирає n-те значення, або підмножину, якщо n є списком\n",
        "- min(): Обчислює мінімальне значення групи\n",
        "- max(): Обчислює максимальне значення групи\n",
        "\n",
        "Але ми можемо також використовувати агрегаційні функції з `numpy` та написані власноруч."
      ],
      "metadata": {
        "id": "7OU4AH-dwyhm"
      }
    },
    {
      "cell_type": "code",
      "source": [
        "df.groupby('A').min()"
      ],
      "metadata": {
        "id": "-jR9KilWyWJr"
      },
      "execution_count": null,
      "outputs": []
    },
    {
      "cell_type": "code",
      "source": [
        "df.groupby('A').describe()"
      ],
      "metadata": {
        "id": "MiLV0TyXyu6e"
      },
      "execution_count": null,
      "outputs": []
    },
    {
      "cell_type": "markdown",
      "source": [
        "Також ми можемо передавати агрегаційні функції наступним чином:"
      ],
      "metadata": {
        "id": "SLKyewxMyy1f"
      }
    },
    {
      "cell_type": "code",
      "source": [
        "df.groupby('A').agg('max')"
      ],
      "metadata": {
        "id": "WEpj87-ly3r1"
      },
      "execution_count": null,
      "outputs": []
    },
    {
      "cell_type": "markdown",
      "source": [
        "Якщо ми хочемо передати кілька функцій, то передаємо їх списоком в метод `agg()`"
      ],
      "metadata": {
        "id": "ZFUmmoxYy8Ky"
      }
    },
    {
      "cell_type": "code",
      "source": [
        "df.groupby('A')['B'].agg(['size', 'max', 'min', 'mean', 'std'])"
      ],
      "metadata": {
        "id": "DtS_XfurzGVg"
      },
      "execution_count": null,
      "outputs": []
    },
    {
      "cell_type": "markdown",
      "source": [
        "Із створеною нами агрегаційною функцією все так само"
      ],
      "metadata": {
        "id": "fcN2sQWMziZ_"
      }
    },
    {
      "cell_type": "code",
      "source": [
        "def min_minus_one(values):\n",
        "  return values.min() - 1"
      ],
      "metadata": {
        "id": "c2tThVFazn7v"
      },
      "execution_count": null,
      "outputs": []
    },
    {
      "cell_type": "code",
      "source": [
        "df.groupby('A')['B'].agg(min_minus_one)"
      ],
      "metadata": {
        "id": "2xQ6qaq0zwc9"
      },
      "execution_count": null,
      "outputs": []
    },
    {
      "cell_type": "markdown",
      "source": [
        "Якщо хочемо застосувати різні агрегаційні функції до різних колонок, то передаємо в аргумент `agg` словник, де ключ - назва колонки, значення - список агрегаційних функцій."
      ],
      "metadata": {
        "id": "qhTxk5ydx4aL"
      }
    },
    {
      "cell_type": "code",
      "source": [
        "df.groupby('A').agg({'B': max, 'C': [pd.Series.mode, min]})"
      ],
      "metadata": {
        "id": "cECa6SSayIUr"
      },
      "execution_count": null,
      "outputs": []
    },
    {
      "cell_type": "markdown",
      "source": [
        "Агрегаційна функція `pd.Series.mode` дає найбільш частотне значення за групою."
      ],
      "metadata": {
        "id": "4zV2QQdCysZb"
      }
    },
    {
      "cell_type": "markdown",
      "source": [
        "# Функція pivot()\n",
        "\n",
        "Функція pivot() дозволяє нам змінити форму вихідного датафрейму, перемістити деякі колонки в рядки і навпаки. Вона приймає три обов'язкові аргументи:\n",
        "\n",
        "- `index`: Цей аргумент визначає стовпець (стовпці), за яким будуть групуватися дані в новому датафреймі - це будуть рядки в новому датафреймі.\n",
        "- `columns`: Стовпець (стовпці), який (які) потрібно використовувати для створення у новому датафреймі.\n",
        "- `values`: Стовпець (стовпці), значення якого (яких) будуть агреговані і записані в значення нового датафрейма."
      ],
      "metadata": {
        "id": "0d7c5W7t-buT"
      }
    },
    {
      "cell_type": "markdown",
      "source": [
        "![](https://drive.google.com/uc?export=view&id=168JIovy0USoPfqynGlzvYlFWIErP0nP3)"
      ],
      "metadata": {
        "id": "N9L_MUUDiVmJ"
      }
    },
    {
      "cell_type": "code",
      "source": [
        "df = pd.DataFrame({'foo': ['one', 'one', 'one', 'two', 'two', 'two'],\n",
        "                    'bar': ['A', 'B', 'C', 'A', 'B', 'C'],\n",
        "                    'baz': [1, 2, 3, 4, 5, 6],\n",
        "                    'zoo': ['x', 'y', 'z', 'q', 'w', 't']})"
      ],
      "outputs": [],
      "execution_count": null,
      "metadata": {
        "id": "dnlBT2SUt5Rz"
      }
    },
    {
      "cell_type": "code",
      "source": [
        "df"
      ],
      "metadata": {
        "id": "zLAzmfQFAA7e"
      },
      "execution_count": null,
      "outputs": []
    },
    {
      "cell_type": "code",
      "source": [
        "# Створюємо новий датафрейм, групований за стовпцем \"A\"\n",
        "pivoted = df.pivot(index='foo', columns='bar', values='baz')\n",
        "\n",
        "# Показуємо новий датафрейм\n",
        "pivoted"
      ],
      "metadata": {
        "id": "ivqJUnMA__U2"
      },
      "execution_count": null,
      "outputs": []
    },
    {
      "cell_type": "markdown",
      "source": [
        "Якщо ми не вкажемо values, буде наступне:"
      ],
      "metadata": {
        "id": "_1nih2ejt5Rz"
      }
    },
    {
      "cell_type": "code",
      "source": [
        "df.pivot(index='foo', columns='bar')"
      ],
      "outputs": [],
      "execution_count": null,
      "metadata": {
        "id": "1U1w-79Ht5Rz"
      }
    },
    {
      "cell_type": "markdown",
      "source": [
        "Функція `pivot` не дає можливості виокнувати різні агрегаційні функції над даними. Вона фактично дозволяє змінити форму даних.\n",
        "\n",
        "Або використати певну агрегаційну фукнцію, нам необхідно застосувати іншу функцію `pandas.pivot_table`."
      ],
      "metadata": {
        "id": "SdRwlcFX_a47"
      }
    },
    {
      "cell_type": "markdown",
      "source": [
        "# Функція pivot_table()\n",
        "\n",
        "Функція pivot_table() дозволяє нам створювати зведену таблицю в стилі електронної таблиці як DataFrame.\n",
        "\n",
        "Рівні у зведеній таблиці зберігатимуться в об’єктах MultiIndex (ієрархічних індексах) в індексі та стовпцях результату DataFrame.\n",
        "\n",
        "Ця фукнція містить ті самі обовʼязкові аргументи, як і `pivot`, але дозволяє також обрати агрегаційну функцію `aggfunc`. За замовченням це - `mean`."
      ],
      "metadata": {
        "id": "nd_mrKo6ARtu"
      }
    },
    {
      "cell_type": "markdown",
      "source": [
        "![](https://drive.google.com/uc?export=view&id=19NwmrgcHiTthC3Zp9mqYmBqQtZicIXAz)"
      ],
      "metadata": {
        "id": "IHV6zjjhjDGi"
      }
    },
    {
      "cell_type": "code",
      "source": [
        "df = pd.DataFrame({\"A\": [\"foo\", \"foo\", \"foo\", \"foo\", \"foo\",\n",
        "                          \"bar\", \"bar\", \"bar\", \"bar\"],\n",
        "                    \"B\": [\"one\", \"one\", \"one\", \"two\", \"two\",\n",
        "                          \"one\", \"one\", \"two\", \"two\"],\n",
        "                    \"C\": [\"small\", \"large\", \"large\", \"small\",\n",
        "                          \"small\", \"large\", \"small\", \"small\",\n",
        "                          \"large\"],\n",
        "                    \"D\": [1, 2, 2, 3, 3, 4, 5, 6, 7],\n",
        "                    \"E\": [2, 4, 5, 5, 6, 6, 8, 9, 9]})\n"
      ],
      "metadata": {
        "id": "9bo5S13jA3RW"
      },
      "execution_count": null,
      "outputs": []
    },
    {
      "cell_type": "code",
      "source": [
        "df"
      ],
      "metadata": {
        "id": "GL0nPFkif5oA"
      },
      "execution_count": null,
      "outputs": []
    },
    {
      "cell_type": "code",
      "source": [
        "res1 = pd.pivot_table(df, index='A', columns='C', values='D', aggfunc='sum')"
      ],
      "metadata": {
        "id": "xetUh_IPC-or"
      },
      "execution_count": null,
      "outputs": []
    },
    {
      "cell_type": "code",
      "source": [
        "res1"
      ],
      "metadata": {
        "id": "GPQ1RlISgXhU"
      },
      "execution_count": null,
      "outputs": []
    },
    {
      "cell_type": "markdown",
      "source": [
        "Зверніть увагу, якщо ми передами values як список, то зміниться формат датафрейму."
      ],
      "metadata": {
        "id": "KQqdP9WDDOVO"
      }
    },
    {
      "cell_type": "code",
      "source": [
        "res2 = pd.pivot_table(df, index='A', columns='C', values=['D'], aggfunc=\"sum\")"
      ],
      "metadata": {
        "id": "ksOnY20cDHYO"
      },
      "execution_count": null,
      "outputs": []
    },
    {
      "cell_type": "code",
      "source": [
        "res2"
      ],
      "metadata": {
        "id": "gH4ulTEGgeZI"
      },
      "execution_count": null,
      "outputs": []
    },
    {
      "cell_type": "code",
      "source": [
        "display(res1.columns, res2.columns)"
      ],
      "metadata": {
        "id": "_u8jtbLxDbF6"
      },
      "execution_count": null,
      "outputs": []
    },
    {
      "cell_type": "markdown",
      "source": [
        "Можемо позбутись зайвого рівня індексу наступним чином:"
      ],
      "metadata": {
        "id": "26N6h_lgDqmU"
      }
    },
    {
      "cell_type": "code",
      "source": [
        "res2.columns.droplevel(0)"
      ],
      "metadata": {
        "id": "-4yu-tm9D2rR"
      },
      "execution_count": null,
      "outputs": []
    },
    {
      "cell_type": "code",
      "source": [
        "res2.columns = res2.columns.droplevel(0)"
      ],
      "metadata": {
        "id": "qI4UJA-kDuOV"
      },
      "execution_count": null,
      "outputs": []
    },
    {
      "cell_type": "code",
      "source": [
        "res2"
      ],
      "metadata": {
        "id": "qBINxfCfD4Wc"
      },
      "execution_count": null,
      "outputs": []
    },
    {
      "cell_type": "code",
      "source": [
        "display(res1.columns, res2.columns)"
      ],
      "metadata": {
        "id": "iVKy1UZ_gs0W"
      },
      "execution_count": null,
      "outputs": []
    },
    {
      "cell_type": "markdown",
      "source": [
        "Приклад, коли в індексі кілька колонок:"
      ],
      "metadata": {
        "id": "dFMvi4z9DmIu"
      }
    },
    {
      "cell_type": "code",
      "source": [
        "pd.pivot_table(df, values='D', index=['A', 'B'],\n",
        "                columns=['C'], aggfunc=\"sum\")"
      ],
      "metadata": {
        "id": "cs-WZeTyBBcQ"
      },
      "execution_count": null,
      "outputs": []
    },
    {
      "cell_type": "markdown",
      "source": [
        "Якщо б ми викликали тут функцію `pivot`, то у нас би висвітилась помилка, адже цей функціонал призначений аби змінювати форму (робити reshape), але не агрегувати дані!"
      ],
      "metadata": {
        "id": "VZbs_rWFBMgF"
      }
    },
    {
      "cell_type": "code",
      "source": [
        "df.sort_values(['A','B', 'C'])"
      ],
      "metadata": {
        "id": "lzlI820jg4uE"
      },
      "execution_count": null,
      "outputs": []
    },
    {
      "cell_type": "code",
      "source": [
        "pd.pivot(df.drop_duplicates(subset=['A', 'B', 'C']), index=['A', 'B'], columns=['C'], values='D')"
      ],
      "metadata": {
        "id": "_IswrkxNBFMi"
      },
      "execution_count": null,
      "outputs": []
    },
    {
      "cell_type": "code",
      "source": [
        "df"
      ],
      "metadata": {
        "id": "hRja4if0haPM"
      },
      "execution_count": null,
      "outputs": []
    },
    {
      "cell_type": "code",
      "source": [
        "df.drop_duplicates(subset=['A', 'B', 'C'])"
      ],
      "metadata": {
        "id": "meSK8kcdhVPy"
      },
      "execution_count": null,
      "outputs": []
    },
    {
      "cell_type": "markdown",
      "source": [
        "Заповнити пусті значення."
      ],
      "metadata": {
        "id": "msZoWTHeBo_0"
      }
    },
    {
      "cell_type": "code",
      "source": [
        "pd.pivot_table(df.drop_duplicates(subset=['A', 'B', 'C']), values='D', index=['A', 'B'],\n",
        "               columns=['C'], aggfunc=\"sum\", fill_value=0)"
      ],
      "metadata": {
        "id": "4M4DvIHVBILz"
      },
      "execution_count": null,
      "outputs": []
    },
    {
      "cell_type": "markdown",
      "source": [
        "Обчислити різні агрегаційні функції для різних стовпців"
      ],
      "metadata": {
        "id": "DGRBP-g9BvpD"
      }
    },
    {
      "cell_type": "code",
      "source": [
        "pd.pivot_table(df, values=['D', 'E'], index=['A', 'C'],\n",
        "               aggfunc={'D': \"mean\", 'E': \"max\"})"
      ],
      "metadata": {
        "id": "-fNyIQ6_Bu8i"
      },
      "execution_count": null,
      "outputs": []
    },
    {
      "cell_type": "markdown",
      "source": [
        "Ми також можемо обчислити кілька типів агрегацій для будь-якого стовпця зі значеннями."
      ],
      "metadata": {
        "id": "3v5yb4sJCI9b"
      }
    },
    {
      "cell_type": "code",
      "source": [
        "res3 = pd.pivot_table(df, values=['D', 'E'], index=['A', 'C'],\n",
        "               aggfunc={\n",
        "                  'D': \"mean\",\n",
        "                  'E': [\"min\", \"max\", \"mean\"]\n",
        "                  }\n",
        "              )"
      ],
      "metadata": {
        "id": "f8kU7n1ICLYq"
      },
      "execution_count": null,
      "outputs": []
    },
    {
      "cell_type": "code",
      "source": [
        "res3.columns"
      ],
      "metadata": {
        "id": "Hg-9SwEvh_NZ"
      },
      "execution_count": null,
      "outputs": []
    }
  ],
  "metadata": {
    "colab": {
      "provenance": []
    },
    "kernelspec": {
      "display_name": "Python 3",
      "name": "python3"
    }
  },
  "nbformat": 4,
  "nbformat_minor": 0
}
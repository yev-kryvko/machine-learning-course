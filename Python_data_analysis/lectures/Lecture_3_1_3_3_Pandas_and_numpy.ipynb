{
  "cells": [
    {
      "cell_type": "markdown",
      "metadata": {
        "id": "mQQF8UZFEgbw"
      },
      "source": [
        "# **Pandas**"
      ]
    },
    {
      "cell_type": "markdown",
      "metadata": {
        "ExecuteTime": {
          "end_time": "2022-10-27T09:38:23.963898Z",
          "start_time": "2022-10-27T09:38:23.956873Z"
        },
        "id": "muHQcDEAEgby"
      },
      "source": [
        "У цій лекції познайомимось з бібліотекою pandas, її основними структурами, що з ними можна робити.   \n",
        "Також дізнаємось про бібліотеку для роботи з векторами і матрицями - numpy, як вона повʼязана з pandas і як її можна використовувати для роботи з табличними даними."
      ]
    },
    {
      "cell_type": "markdown",
      "metadata": {
        "id": "_W6rT8yNEgbz"
      },
      "source": [
        "## Що таке Pandas?"
      ]
    },
    {
      "cell_type": "markdown",
      "metadata": {
        "id": "Ey_f-6ztEgbz"
      },
      "source": [
        "**`Pandas`** - високорівнева бібліотека на Python, призначена для дослідження, очищення, оброблення та аналізу даних, що зберігаються в табличному форматі (.csv, .tsv, .xlsx та ін.) або базах даних.\n",
        "\n",
        "Pandas - основний інструмент роботи з табличними даними для Data Analysis та Data Science фахівця. Ми використовуємо Pandas щодня для **аналізу даних, маніпуляцій над ними та побудови моделей на них**.\n",
        "\n",
        "Pandas гнучкіший за Excel і дає змогу ефективно працювати з великими таблицями. Проста інтеграція Pandas з Numpy (Numeric Python - бібліотека для обчислень над векторами і матрицями), Matplotlib, Seaborn (бібліотеки візуалізації), scikit-learn (бібліотека з великою кількістю реалізованих методів машинного навчання) робить його незамінним під час розв'язання задач аналізу даних та ML задач на табличних даних."
      ]
    },
    {
      "cell_type": "markdown",
      "metadata": {
        "id": "flnYd9ElEgb0"
      },
      "source": [
        "Спершу перевіряємо, чи встановлені у вас pandas i numpy. Бібліотеки можуть бути встановлені через pip, якщо ви колись встановили їх самостійно, перевірити наступним чином"
      ]
    },
    {
      "cell_type": "code",
      "execution_count": 4,
      "metadata": {
        "ExecuteTime": {
          "end_time": "2024-03-07T16:51:40.770581Z",
          "start_time": "2024-03-07T16:51:28.203197Z"
        },
        "id": "pH5FAx7OEgb0"
      },
      "outputs": [
        {
          "name": "stdout",
          "output_type": "stream",
          "text": [
            "# packages in environment at C:\\Users\\Yevheniia_Kryvko\\AppData\\Local\\anaconda3\\envs\\ml-course:\n",
            "#\n",
            "# Name                    Version                   Build  Channel\n",
            "pandas                    2.2.2                    pypi_0    pypi\n"
          ]
        }
      ],
      "source": [
        "! conda list pandas"
      ]
    },
    {
      "cell_type": "code",
      "execution_count": 5,
      "metadata": {
        "ExecuteTime": {
          "end_time": "2024-03-07T16:52:01.031570Z",
          "start_time": "2024-03-07T16:51:46.774003Z"
        },
        "id": "Tz4NgPcQEgb2"
      },
      "outputs": [
        {
          "name": "stdout",
          "output_type": "stream",
          "text": [
            "# packages in environment at C:\\Users\\Yevheniia_Kryvko\\AppData\\Local\\anaconda3\\envs\\ml-course:\n",
            "#\n",
            "# Name                    Version                   Build  Channel\n",
            "numpy                     1.26.4                   pypi_0    pypi\n"
          ]
        }
      ],
      "source": [
        "! conda list numpy"
      ]
    },
    {
      "cell_type": "markdown",
      "metadata": {
        "id": "_PG1KMLGEgb2"
      },
      "source": [
        "Якщо у Вас пакет анаконда - бібліотеки можуть бути встановлені за замовченням в базовому оточенні. Перевірити наявність бібліотек - наступним чином."
      ]
    },
    {
      "cell_type": "code",
      "execution_count": 6,
      "metadata": {
        "ExecuteTime": {
          "end_time": "2024-03-07T16:52:22.760965Z",
          "start_time": "2024-03-07T16:52:15.962740Z"
        },
        "id": "Z5SNlqb3Egb2"
      },
      "outputs": [
        {
          "name": "stdout",
          "output_type": "stream",
          "text": [
            "Name: pandas\n",
            "Version: 2.2.2\n",
            "Summary: Powerful data structures for data analysis, time series, and statistics\n",
            "Home-page: https://pandas.pydata.org\n",
            "Author: \n",
            "Author-email: The Pandas Development Team <pandas-dev@python.org>\n",
            "License: BSD 3-Clause License\n",
            "\n",
            "Copyright (c) 2008-2011, AQR Capital Management, LLC, Lambda Foundry, Inc. and PyData Development Team\n",
            "All rights reserved.\n",
            "\n",
            "Copyright (c) 2011-2023, Open source contributors.\n",
            "\n",
            "Redistribution and use in source and binary forms, with or without\n",
            "modification, are permitted provided that the following conditions are met:\n",
            "\n",
            "* Redistributions of source code must retain the above copyright notice, this\n",
            "  list of conditions and the following disclaimer.\n",
            "\n",
            "* Redistributions in binary form must reproduce the above copyright notice,\n",
            "  this list of conditions and the following disclaimer in the documentation\n",
            "  and/or other materials provided with the distribution.\n",
            "\n",
            "* Neither the name of the copyright holder nor the names of its\n",
            "  contributors may be used to endorse or promote products derived from\n",
            "  this software without specific prior written permission.\n",
            "\n",
            "THIS SOFTWARE IS PROVIDED BY THE COPYRIGHT HOLDERS AND CONTRIBUTORS \"AS IS\"\n",
            "AND ANY EXPRESS OR IMPLIED WARRANTIES, INCLUDING, BUT NOT LIMITED TO, THE\n",
            "IMPLIED WARRANTIES OF MERCHANTABILITY AND FITNESS FOR A PARTICULAR PURPOSE ARE\n",
            "DISCLAIMED. IN NO EVENT SHALL THE COPYRIGHT HOLDER OR CONTRIBUTORS BE LIABLE\n",
            "FOR ANY DIRECT, INDIRECT, INCIDENTAL, SPECIAL, EXEMPLARY, OR CONSEQUENTIAL\n",
            "DAMAGES (INCLUDING, BUT NOT LIMITED TO, PROCUREMENT OF SUBSTITUTE GOODS OR\n",
            "SERVICES; LOSS OF USE, DATA, OR PROFITS; OR BUSINESS INTERRUPTION) HOWEVER\n",
            "CAUSED AND ON ANY THEORY OF LIABILITY, WHETHER IN CONTRACT, STRICT LIABILITY,\n",
            "OR TORT (INCLUDING NEGLIGENCE OR OTHERWISE) ARISING IN ANY WAY OUT OF THE USE\n",
            "OF THIS SOFTWARE, EVEN IF ADVISED OF THE POSSIBILITY OF SUCH DAMAGE.\n",
            "Location: C:\\Users\\Yevheniia_Kryvko\\AppData\\Local\\anaconda3\\envs\\ml-course\\Lib\\site-packages\n",
            "Requires: numpy, python-dateutil, pytz, tzdata\n",
            "Required-by: seaborn\n"
          ]
        }
      ],
      "source": [
        "! pip show pandas"
      ]
    },
    {
      "cell_type": "code",
      "execution_count": 7,
      "metadata": {
        "ExecuteTime": {
          "end_time": "2024-03-07T16:52:36.203104Z",
          "start_time": "2024-03-07T16:52:35.353935Z"
        },
        "id": "0bPsfOjdEgb2"
      },
      "outputs": [
        {
          "name": "stderr",
          "output_type": "stream",
          "text": [
            "WARNING: Package(s) not found: numpyr\n"
          ]
        }
      ],
      "source": [
        "! pip show numpyr"
      ]
    },
    {
      "cell_type": "markdown",
      "metadata": {
        "ExecuteTime": {
          "end_time": "2022-10-27T09:52:22.502833Z",
          "start_time": "2022-10-27T09:52:22.482288Z"
        },
        "id": "2T81LBZZEgb2"
      },
      "source": [
        "Якщо щось повернулось, значить - є ці бібліотеки. Якщо повернулось повідомлення \"Package(s) not found\" - встановлюємо одним зі способів:"
      ]
    },
    {
      "cell_type": "code",
      "execution_count": 8,
      "metadata": {
        "id": "olud2cH9Egb3"
      },
      "outputs": [
        {
          "name": "stdout",
          "output_type": "stream",
          "text": [
            "Requirement already satisfied: pandas in c:\\users\\yevheniia_kryvko\\appdata\\local\\anaconda3\\envs\\ml-course\\lib\\site-packages (2.2.2)\n",
            "Requirement already satisfied: numpy in c:\\users\\yevheniia_kryvko\\appdata\\local\\anaconda3\\envs\\ml-course\\lib\\site-packages (1.26.4)\n",
            "Requirement already satisfied: python-dateutil>=2.8.2 in c:\\users\\yevheniia_kryvko\\appdata\\local\\anaconda3\\envs\\ml-course\\lib\\site-packages (from pandas) (2.9.0.post0)\n",
            "Requirement already satisfied: pytz>=2020.1 in c:\\users\\yevheniia_kryvko\\appdata\\local\\anaconda3\\envs\\ml-course\\lib\\site-packages (from pandas) (2024.1)\n",
            "Requirement already satisfied: tzdata>=2022.7 in c:\\users\\yevheniia_kryvko\\appdata\\local\\anaconda3\\envs\\ml-course\\lib\\site-packages (from pandas) (2024.1)\n",
            "Requirement already satisfied: six>=1.5 in c:\\users\\yevheniia_kryvko\\appdata\\local\\anaconda3\\envs\\ml-course\\lib\\site-packages (from python-dateutil>=2.8.2->pandas) (1.16.0)\n"
          ]
        }
      ],
      "source": [
        "! pip install pandas numpy"
      ]
    },
    {
      "cell_type": "code",
      "execution_count": 9,
      "metadata": {
        "id": "ADXZjzmzEgb3"
      },
      "outputs": [
        {
          "name": "stdout",
          "output_type": "stream",
          "text": [
            "^C\n"
          ]
        }
      ],
      "source": [
        "! conda install pandas numpy"
      ]
    },
    {
      "cell_type": "markdown",
      "metadata": {
        "id": "uXWYF5xOEgb3"
      },
      "source": [
        "# Імпорт бібліотек"
      ]
    },
    {
      "cell_type": "markdown",
      "metadata": {
        "id": "65fnXCGhEgb3"
      },
      "source": [
        "Є така конвенція, що імпортуємо ми pandas саме наступним чином з перейменуванням:"
      ]
    },
    {
      "cell_type": "code",
      "execution_count": 15,
      "metadata": {
        "ExecuteTime": {
          "end_time": "2024-03-07T16:53:19.285623Z",
          "start_time": "2024-03-07T16:53:18.170354Z"
        },
        "id": "WdUirF8UEgb3",
        "scrolled": true
      },
      "outputs": [],
      "source": [
        "import numpy as np\n",
        "import pandas as pd\n"
      ]
    },
    {
      "cell_type": "markdown",
      "metadata": {
        "ExecuteTime": {
          "end_time": "2022-10-26T11:34:45.188255Z",
          "start_time": "2022-10-26T11:34:45.183520Z"
        },
        "id": "vpqYTGOGEgb3"
      },
      "source": [
        "Так теж буде працювати, але так не прийнято:"
      ]
    },
    {
      "cell_type": "code",
      "execution_count": 11,
      "metadata": {
        "id": "M5uxniKnEgb3"
      },
      "outputs": [],
      "source": [
        "import pandas\n",
        "from pandas import *"
      ]
    },
    {
      "cell_type": "markdown",
      "metadata": {
        "id": "hrtzmjcZEgb4"
      },
      "source": [
        "# Основні структури даних у бібліотеці"
      ]
    },
    {
      "cell_type": "markdown",
      "metadata": {
        "id": "5pKAfW--Egb4"
      },
      "source": [
        "**`Series`** - одновимірний індексований масив даних деякого                фіксованого типу."
      ]
    },
    {
      "cell_type": "markdown",
      "metadata": {
        "id": "uVPveyRjEgb4"
      },
      "source": [
        "**`DataFrame`** - двовимірна структура даних, що являє собою таблицю, кожен стовпець якої містить дані одного типу. DataFrame можна розуміти як словник об'єктів типу Series. Структура DataFrame добре підходить для зберігання реальних табличних даних: рядки відповідають описам окремих об'єктів, а стовпці відповідають ознакам.\n"
      ]
    },
    {
      "cell_type": "markdown",
      "metadata": {
        "id": "01t3RxZcEgb4"
      },
      "source": [
        "![](https://drive.google.com/uc?export=view&id=1MAi0fPWBlwmmirRvDRFahhvC7xKwSitZ)"
      ]
    },
    {
      "cell_type": "markdown",
      "metadata": {
        "id": "bdVg40OsEgb4"
      },
      "source": [
        "![](https://drive.google.com/uc?export=view&id=1zQRemyTmUNwIuzGbIoLJq8vfJUwy7lHW)"
      ]
    },
    {
      "cell_type": "markdown",
      "metadata": {
        "id": "CKt1G4ROEgb4"
      },
      "source": [
        "# Дані для роботи"
      ]
    },
    {
      "cell_type": "markdown",
      "metadata": {
        "ExecuteTime": {
          "end_time": "2021-09-04T19:27:55.439343Z",
          "start_time": "2021-09-04T19:27:55.430251Z"
        },
        "id": "Cc_lta9VEgb4"
      },
      "source": [
        "З pandas ми працюємо з табличними даними. В цьому ноутбуці ми будемо працювати з даними зі [змагання на Kaggle](https://www.kaggle.com/datasets/anmolkumar/health-insurance-cross-sell-prediction?select=train.csv).   \n",
        "\n",
        "Опис даних:\n",
        "\n",
        "\n",
        "Оригінальна назва | Змінна           | Визначення\n",
        "------------------|------------------|---------------------------------------------\n",
        "id                | id               | Унікальний ідентифікатор клієнта\n",
        "Gender            | Стать            | Стать клієнта\n",
        "Age               | Вік              | Вік клієнта\n",
        "Driving_License   | Водійське посвідчення | 0: Клієнт не має водійського посвідчення, 1: Клієнт вже має водійське посвідчення\n",
        "Region_Code       | Код регіону      | Унікальний код регіону клієнта\n",
        "Previously_Insured | Раніше мали страховку | 1: Клієнт вже мав страховку автомобіля, 0: Клієнт не мав страховку автомобіля\n",
        "Vehicle_Age       | Вік автомобіля   | Вік автомобіля\n",
        "Vehicle_Damage    | Пошкодження автомобіля | 1: Клієнт отримав/ла шкоду на своєму автомобілі в минулому, 0: Клієнт не отримав/ла шкоду на своєму автомобілі в минулому\n",
        "Annual_Premium    | Річний преміум   | Сума, яку клієнт повинен сплатити як преміум за рік\n",
        "Policy_Sales_Channel | Канал продажу полісу | Анонімізований код для каналу звернення до клієнта, тобто різні агенти, поштою, по телефону, особисто і т. д.\n",
        "Vintage           | Стаж             | Кількість днів, протягом яких клієнт пов'язаний з компанією\n",
        "Response          | Відповідь        | 1: Клієнт зацікавлений, 0: Клієнт не зацікавлений\n",
        "\n",
        "Суть аналізу цих даних - вивчити чи буде цікава людині, в якої є медичне страхування, страховка на транспортний засіб.\n",
        "Побудова системи прийняття рішень для прогнозування того, чи зацікавить клієнта страхування транспортних засобів, надзвичайно корисна для компанії, оскільки вона може відповідно спланувати свою комунікаційну стратегію, щоб охопити цих клієнтів і оптимізувати свою бізнес-модель і дохід.\n",
        "Щоб передбачити, чи зацікавить клієнта страхування транспортного засобу, у нас є інформація про демографічні дані (стать, вік, код регіону), інформація про транспортні засоби (вік транспортного засобу, пошкодження), поліс (його вартість, канал постачання) тощо.\n",
        "\n",
        "Завантажуємо датасет `health_insurance_cross_sell_prediction` собі у папку `data/` на рівні з папкою з ноутбуками. Тобто рекоменудую мати таку організацію ваших файлів\n",
        "```\n",
        "- data/  \n",
        "  -- dataset_1.csv  \n",
        "  -- dataset_2.csv  \n",
        "- lectures/\n",
        "  -- notebook_1.ipynb\n",
        "  -- notebook_2.ipynb\n",
        "- hometasks/\n",
        "  -- hw_notebook_1.ipynb\n",
        "  -- hw_notebook_2.ipynb\n",
        "```\n"
      ]
    },
    {
      "cell_type": "markdown",
      "metadata": {
        "id": "6r5RUdFmEgb4"
      },
      "source": [
        "# Читання даних з файлу"
      ]
    },
    {
      "cell_type": "markdown",
      "metadata": {
        "id": "f9XlP5TKEgb4"
      },
      "source": [
        "Коли ми працюємо з даними в Python, зазвичай нам потрібно зчитати їх з зовнішніх джерел. Одним з найпоширеніших форматів файлів для збереження даних є CSV (Comma-Separated Values), адже він є досить простим та зрозумілим для багатьох програм та інструментів.\n",
        "\n",
        "У бібліотеці pandas для зчитування даних з CSV файлів ми використовуємо функцію `read_csv()`. Ця функція автоматично розпізнає роздільник полів (зазвичай це кома) та створює DataFrame з отриманими даними. Вона надає широкі можливості налаштування, такі як вибір рядка-заголовка, вказання конкретних стовпців, обробка пропущених значень, визначення типів даних та багато іншого.\n",
        "\n",
        "Щоб прочитати дані з інших форматів файлів, таких як Excel, JSON, HTML, SQL, в бібліотеці pandas також існують відповідні функції, які починаються з `read_`, наприклад: `read_excel()`, `read_json()`, `read_html()`, `read_sql()` тощо.\n",
        "\n",
        "Більше інформації про різні методи зчитування даних в бібліотеці pandas можна знайти у [офіційній документації](https://pandas.pydata.org/pandas-docs/stable/reference/io.html).\n",
        "\n",
        "Для зчитування файлу нам треба вказати шлях до нього і додаткові параметри.\n",
        "\n",
        "## Як отримати шлях до файлу?\n",
        "\n",
        "Одним із способів отримання шляху до файлу є використання методу os.listdir(), який доступний в модулі os. Цей метод дозволяє отримати список файлів та папок у поточній директорії (місці, де знаходиться виконуваний Python процес)."
      ]
    },
    {
      "cell_type": "code",
      "execution_count": 25,
      "metadata": {
        "ExecuteTime": {
          "end_time": "2024-03-07T17:10:41.518990Z",
          "start_time": "2024-03-07T17:10:41.513355Z"
        },
        "id": "NtLWPYwUEgb5",
        "scrolled": true
      },
      "outputs": [
        {
          "data": {
            "text/plain": [
              "['data', 'hw', 'lectures']"
            ]
          },
          "execution_count": 25,
          "metadata": {},
          "output_type": "execute_result"
        }
      ],
      "source": [
        "import os\n",
        "os.listdir()\n",
        "os.listdir(\"../\")"
      ]
    },
    {
      "cell_type": "markdown",
      "metadata": {
        "id": "UAtNdTLrEgb5"
      },
      "source": [
        "Ми можемо вказувати в дужках шлях до різних папок і так знайти, в якій саме лежить наш файл."
      ]
    },
    {
      "cell_type": "code",
      "execution_count": 24,
      "metadata": {
        "ExecuteTime": {
          "end_time": "2024-03-07T17:10:48.213064Z",
          "start_time": "2024-03-07T17:10:48.207936Z"
        },
        "id": "z2Rnl4B1Egb5"
      },
      "outputs": [
        {
          "data": {
            "text/plain": [
              "['health_insurance_cross_sell_prediction.csv']"
            ]
          },
          "execution_count": 24,
          "metadata": {},
          "output_type": "execute_result"
        }
      ],
      "source": [
        "os.listdir('../data/')"
      ]
    },
    {
      "cell_type": "markdown",
      "metadata": {
        "id": "SnpXWs3HEgb5"
      },
      "source": [
        "Давайте зачитаємо наші дані у змінну, яка матиме тип `pd.DataFrame`."
      ]
    },
    {
      "cell_type": "code",
      "execution_count": 27,
      "metadata": {
        "ExecuteTime": {
          "end_time": "2024-03-07T17:11:25.121692Z",
          "start_time": "2024-03-07T17:11:24.550965Z"
        },
        "id": "RkBup0_REgb5",
        "scrolled": true
      },
      "outputs": [
        {
          "data": {
            "text/html": [
              "<div>\n",
              "<style scoped>\n",
              "    .dataframe tbody tr th:only-of-type {\n",
              "        vertical-align: middle;\n",
              "    }\n",
              "\n",
              "    .dataframe tbody tr th {\n",
              "        vertical-align: top;\n",
              "    }\n",
              "\n",
              "    .dataframe thead th {\n",
              "        text-align: right;\n",
              "    }\n",
              "</style>\n",
              "<table border=\"1\" class=\"dataframe\">\n",
              "  <thead>\n",
              "    <tr style=\"text-align: right;\">\n",
              "      <th></th>\n",
              "      <th>id</th>\n",
              "      <th>Gender</th>\n",
              "      <th>Age</th>\n",
              "      <th>Driving_License</th>\n",
              "      <th>Region_Code</th>\n",
              "      <th>Previously_Insured</th>\n",
              "      <th>Vehicle_Age</th>\n",
              "      <th>Vehicle_Damage</th>\n",
              "      <th>Annual_Premium</th>\n",
              "      <th>Policy_Sales_Channel</th>\n",
              "      <th>Vintage</th>\n",
              "      <th>Response</th>\n",
              "    </tr>\n",
              "  </thead>\n",
              "  <tbody>\n",
              "    <tr>\n",
              "      <th>0</th>\n",
              "      <td>1</td>\n",
              "      <td>Male</td>\n",
              "      <td>44</td>\n",
              "      <td>1</td>\n",
              "      <td>28.0</td>\n",
              "      <td>0</td>\n",
              "      <td>&gt; 2 Years</td>\n",
              "      <td>Yes</td>\n",
              "      <td>40454.0</td>\n",
              "      <td>26.0</td>\n",
              "      <td>217</td>\n",
              "      <td>1</td>\n",
              "    </tr>\n",
              "    <tr>\n",
              "      <th>1</th>\n",
              "      <td>2</td>\n",
              "      <td>Male</td>\n",
              "      <td>76</td>\n",
              "      <td>1</td>\n",
              "      <td>3.0</td>\n",
              "      <td>0</td>\n",
              "      <td>1-2 Year</td>\n",
              "      <td>No</td>\n",
              "      <td>33536.0</td>\n",
              "      <td>26.0</td>\n",
              "      <td>183</td>\n",
              "      <td>0</td>\n",
              "    </tr>\n",
              "    <tr>\n",
              "      <th>2</th>\n",
              "      <td>3</td>\n",
              "      <td>Male</td>\n",
              "      <td>47</td>\n",
              "      <td>1</td>\n",
              "      <td>28.0</td>\n",
              "      <td>0</td>\n",
              "      <td>&gt; 2 Years</td>\n",
              "      <td>Yes</td>\n",
              "      <td>38294.0</td>\n",
              "      <td>26.0</td>\n",
              "      <td>27</td>\n",
              "      <td>1</td>\n",
              "    </tr>\n",
              "    <tr>\n",
              "      <th>3</th>\n",
              "      <td>4</td>\n",
              "      <td>Male</td>\n",
              "      <td>21</td>\n",
              "      <td>1</td>\n",
              "      <td>11.0</td>\n",
              "      <td>1</td>\n",
              "      <td>&lt; 1 Year</td>\n",
              "      <td>No</td>\n",
              "      <td>28619.0</td>\n",
              "      <td>152.0</td>\n",
              "      <td>203</td>\n",
              "      <td>0</td>\n",
              "    </tr>\n",
              "    <tr>\n",
              "      <th>4</th>\n",
              "      <td>5</td>\n",
              "      <td>Female</td>\n",
              "      <td>29</td>\n",
              "      <td>1</td>\n",
              "      <td>41.0</td>\n",
              "      <td>1</td>\n",
              "      <td>&lt; 1 Year</td>\n",
              "      <td>No</td>\n",
              "      <td>27496.0</td>\n",
              "      <td>152.0</td>\n",
              "      <td>39</td>\n",
              "      <td>0</td>\n",
              "    </tr>\n",
              "    <tr>\n",
              "      <th>...</th>\n",
              "      <td>...</td>\n",
              "      <td>...</td>\n",
              "      <td>...</td>\n",
              "      <td>...</td>\n",
              "      <td>...</td>\n",
              "      <td>...</td>\n",
              "      <td>...</td>\n",
              "      <td>...</td>\n",
              "      <td>...</td>\n",
              "      <td>...</td>\n",
              "      <td>...</td>\n",
              "      <td>...</td>\n",
              "    </tr>\n",
              "    <tr>\n",
              "      <th>381104</th>\n",
              "      <td>381105</td>\n",
              "      <td>Male</td>\n",
              "      <td>74</td>\n",
              "      <td>1</td>\n",
              "      <td>26.0</td>\n",
              "      <td>1</td>\n",
              "      <td>1-2 Year</td>\n",
              "      <td>No</td>\n",
              "      <td>30170.0</td>\n",
              "      <td>26.0</td>\n",
              "      <td>88</td>\n",
              "      <td>0</td>\n",
              "    </tr>\n",
              "    <tr>\n",
              "      <th>381105</th>\n",
              "      <td>381106</td>\n",
              "      <td>Male</td>\n",
              "      <td>30</td>\n",
              "      <td>1</td>\n",
              "      <td>37.0</td>\n",
              "      <td>1</td>\n",
              "      <td>&lt; 1 Year</td>\n",
              "      <td>No</td>\n",
              "      <td>40016.0</td>\n",
              "      <td>152.0</td>\n",
              "      <td>131</td>\n",
              "      <td>0</td>\n",
              "    </tr>\n",
              "    <tr>\n",
              "      <th>381106</th>\n",
              "      <td>381107</td>\n",
              "      <td>Male</td>\n",
              "      <td>21</td>\n",
              "      <td>1</td>\n",
              "      <td>30.0</td>\n",
              "      <td>1</td>\n",
              "      <td>&lt; 1 Year</td>\n",
              "      <td>No</td>\n",
              "      <td>35118.0</td>\n",
              "      <td>160.0</td>\n",
              "      <td>161</td>\n",
              "      <td>0</td>\n",
              "    </tr>\n",
              "    <tr>\n",
              "      <th>381107</th>\n",
              "      <td>381108</td>\n",
              "      <td>Female</td>\n",
              "      <td>68</td>\n",
              "      <td>1</td>\n",
              "      <td>14.0</td>\n",
              "      <td>0</td>\n",
              "      <td>&gt; 2 Years</td>\n",
              "      <td>Yes</td>\n",
              "      <td>44617.0</td>\n",
              "      <td>124.0</td>\n",
              "      <td>74</td>\n",
              "      <td>0</td>\n",
              "    </tr>\n",
              "    <tr>\n",
              "      <th>381108</th>\n",
              "      <td>381109</td>\n",
              "      <td>Male</td>\n",
              "      <td>46</td>\n",
              "      <td>1</td>\n",
              "      <td>29.0</td>\n",
              "      <td>0</td>\n",
              "      <td>1-2 Year</td>\n",
              "      <td>No</td>\n",
              "      <td>41777.0</td>\n",
              "      <td>26.0</td>\n",
              "      <td>237</td>\n",
              "      <td>0</td>\n",
              "    </tr>\n",
              "  </tbody>\n",
              "</table>\n",
              "<p>381109 rows × 12 columns</p>\n",
              "</div>"
            ],
            "text/plain": [
              "            id  Gender  Age  Driving_License  Region_Code  Previously_Insured  \\\n",
              "0            1    Male   44                1         28.0                   0   \n",
              "1            2    Male   76                1          3.0                   0   \n",
              "2            3    Male   47                1         28.0                   0   \n",
              "3            4    Male   21                1         11.0                   1   \n",
              "4            5  Female   29                1         41.0                   1   \n",
              "...        ...     ...  ...              ...          ...                 ...   \n",
              "381104  381105    Male   74                1         26.0                   1   \n",
              "381105  381106    Male   30                1         37.0                   1   \n",
              "381106  381107    Male   21                1         30.0                   1   \n",
              "381107  381108  Female   68                1         14.0                   0   \n",
              "381108  381109    Male   46                1         29.0                   0   \n",
              "\n",
              "       Vehicle_Age Vehicle_Damage  Annual_Premium  Policy_Sales_Channel  \\\n",
              "0        > 2 Years            Yes         40454.0                  26.0   \n",
              "1         1-2 Year             No         33536.0                  26.0   \n",
              "2        > 2 Years            Yes         38294.0                  26.0   \n",
              "3         < 1 Year             No         28619.0                 152.0   \n",
              "4         < 1 Year             No         27496.0                 152.0   \n",
              "...            ...            ...             ...                   ...   \n",
              "381104    1-2 Year             No         30170.0                  26.0   \n",
              "381105    < 1 Year             No         40016.0                 152.0   \n",
              "381106    < 1 Year             No         35118.0                 160.0   \n",
              "381107   > 2 Years            Yes         44617.0                 124.0   \n",
              "381108    1-2 Year             No         41777.0                  26.0   \n",
              "\n",
              "        Vintage  Response  \n",
              "0           217         1  \n",
              "1           183         0  \n",
              "2            27         1  \n",
              "3           203         0  \n",
              "4            39         0  \n",
              "...         ...       ...  \n",
              "381104       88         0  \n",
              "381105      131         0  \n",
              "381106      161         0  \n",
              "381107       74         0  \n",
              "381108      237         0  \n",
              "\n",
              "[381109 rows x 12 columns]"
            ]
          },
          "execution_count": 27,
          "metadata": {},
          "output_type": "execute_result"
        }
      ],
      "source": [
        "data_path = '../data/health_insurance_cross_sell_prediction.csv'\n",
        "df = pd.read_csv(data_path)\n",
        "df"
      ]
    },
    {
      "cell_type": "code",
      "execution_count": 29,
      "metadata": {
        "ExecuteTime": {
          "end_time": "2024-03-07T17:11:39.703745Z",
          "start_time": "2024-03-07T17:11:39.699428Z"
        },
        "id": "f71RGDNwEgb5"
      },
      "outputs": [
        {
          "data": {
            "text/plain": [
              "pandas.core.frame.DataFrame"
            ]
          },
          "execution_count": 29,
          "metadata": {},
          "output_type": "execute_result"
        }
      ],
      "source": [
        "type(df)"
      ]
    },
    {
      "cell_type": "markdown",
      "metadata": {
        "id": "zMYQnNj2Egb6"
      },
      "source": [
        "Для початку дивимося на розмір датасету."
      ]
    },
    {
      "cell_type": "code",
      "execution_count": 37,
      "metadata": {
        "ExecuteTime": {
          "end_time": "2024-03-07T17:11:57.387683Z",
          "start_time": "2024-03-07T17:11:57.384099Z"
        },
        "id": "fZZUPoTEEgb6"
      },
      "outputs": [],
      "source": [
        "df_shape = df.shape"
      ]
    },
    {
      "cell_type": "code",
      "execution_count": 31,
      "metadata": {
        "ExecuteTime": {
          "end_time": "2024-03-07T17:12:39.977596Z",
          "start_time": "2024-03-07T17:12:39.973076Z"
        },
        "id": "NIr8oXTSEgb6"
      },
      "outputs": [
        {
          "data": {
            "text/plain": [
              "(381109, 12)"
            ]
          },
          "execution_count": 31,
          "metadata": {},
          "output_type": "execute_result"
        }
      ],
      "source": [
        "df_shape"
      ]
    },
    {
      "cell_type": "markdown",
      "metadata": {
        "id": "GhQELaCOEgb6"
      },
      "source": [
        "Набір даних досить великий, тому очима його весь переглядати точно буде проблематично ;)\n",
        "До слова, набір даних може бути настільки великим, що не вміщатись у оперативну памʼять компʼютера. Як це зрозуміти? У набора даних є розмір, який він займає в памʼяті:"
      ]
    },
    {
      "cell_type": "code",
      "execution_count": 38,
      "metadata": {
        "ExecuteTime": {
          "end_time": "2024-03-07T17:15:48.406216Z",
          "start_time": "2024-03-07T17:15:48.399634Z"
        },
        "id": "qRVSZygJEgb7"
      },
      "outputs": [
        {
          "data": {
            "text/plain": [
              "Index                       132\n",
              "id                      3048872\n",
              "Gender                  3048872\n",
              "Age                     3048872\n",
              "Driving_License         3048872\n",
              "Region_Code             3048872\n",
              "Previously_Insured      3048872\n",
              "Vehicle_Age             3048872\n",
              "Vehicle_Damage          3048872\n",
              "Annual_Premium          3048872\n",
              "Policy_Sales_Channel    3048872\n",
              "Vintage                 3048872\n",
              "Response                3048872\n",
              "dtype: int64"
            ]
          },
          "execution_count": 38,
          "metadata": {},
          "output_type": "execute_result"
        }
      ],
      "source": [
        "df.memory_usage()"
      ]
    },
    {
      "cell_type": "code",
      "execution_count": 39,
      "metadata": {
        "ExecuteTime": {
          "end_time": "2024-03-07T17:16:13.073744Z",
          "start_time": "2024-03-07T17:16:13.065553Z"
        },
        "id": "2frx-FLAEgb7"
      },
      "outputs": [
        {
          "data": {
            "text/plain": [
              "36586596"
            ]
          },
          "execution_count": 39,
          "metadata": {},
          "output_type": "execute_result"
        }
      ],
      "source": [
        "df.memory_usage().sum()"
      ]
    },
    {
      "cell_type": "markdown",
      "metadata": {
        "id": "CXDCZJYkEgb7"
      },
      "source": [
        "Таким чином ми отримали кількість байтів, які займають дані. Аби перевести це значення в мегабайти, виконаємо наступний код."
      ]
    },
    {
      "cell_type": "code",
      "execution_count": 40,
      "metadata": {
        "ExecuteTime": {
          "end_time": "2024-03-07T17:16:39.931729Z",
          "start_time": "2024-03-07T17:16:39.924234Z"
        },
        "id": "qnDZe7aXEgb7"
      },
      "outputs": [
        {
          "data": {
            "text/plain": [
              "34.89169692993164"
            ]
          },
          "execution_count": 40,
          "metadata": {},
          "output_type": "execute_result"
        }
      ],
      "source": [
        "total_bytes = df.memory_usage().sum()\n",
        "total_megabytes = total_bytes / (1024 * 1024)\n",
        "total_megabytes"
      ]
    },
    {
      "cell_type": "markdown",
      "metadata": {
        "id": "b5nVKkLvEgb8"
      },
      "source": [
        "Під час роботи може бути доцільно зчитати частину даних - це можна зробити наступним чином"
      ]
    },
    {
      "cell_type": "code",
      "execution_count": 41,
      "metadata": {
        "ExecuteTime": {
          "end_time": "2024-03-07T17:19:00.248471Z",
          "start_time": "2024-03-07T17:19:00.225229Z"
        },
        "id": "9xdqWf7UEgb8"
      },
      "outputs": [
        {
          "data": {
            "text/html": [
              "<div>\n",
              "<style scoped>\n",
              "    .dataframe tbody tr th:only-of-type {\n",
              "        vertical-align: middle;\n",
              "    }\n",
              "\n",
              "    .dataframe tbody tr th {\n",
              "        vertical-align: top;\n",
              "    }\n",
              "\n",
              "    .dataframe thead th {\n",
              "        text-align: right;\n",
              "    }\n",
              "</style>\n",
              "<table border=\"1\" class=\"dataframe\">\n",
              "  <thead>\n",
              "    <tr style=\"text-align: right;\">\n",
              "      <th></th>\n",
              "      <th>id</th>\n",
              "      <th>Gender</th>\n",
              "      <th>Age</th>\n",
              "      <th>Driving_License</th>\n",
              "      <th>Region_Code</th>\n",
              "      <th>Previously_Insured</th>\n",
              "      <th>Vehicle_Age</th>\n",
              "      <th>Vehicle_Damage</th>\n",
              "      <th>Annual_Premium</th>\n",
              "      <th>Policy_Sales_Channel</th>\n",
              "      <th>Vintage</th>\n",
              "      <th>Response</th>\n",
              "    </tr>\n",
              "  </thead>\n",
              "  <tbody>\n",
              "    <tr>\n",
              "      <th>0</th>\n",
              "      <td>1</td>\n",
              "      <td>Male</td>\n",
              "      <td>44</td>\n",
              "      <td>1</td>\n",
              "      <td>28.0</td>\n",
              "      <td>0</td>\n",
              "      <td>&gt; 2 Years</td>\n",
              "      <td>Yes</td>\n",
              "      <td>40454.0</td>\n",
              "      <td>26.0</td>\n",
              "      <td>217</td>\n",
              "      <td>1</td>\n",
              "    </tr>\n",
              "    <tr>\n",
              "      <th>1</th>\n",
              "      <td>2</td>\n",
              "      <td>Male</td>\n",
              "      <td>76</td>\n",
              "      <td>1</td>\n",
              "      <td>3.0</td>\n",
              "      <td>0</td>\n",
              "      <td>1-2 Year</td>\n",
              "      <td>No</td>\n",
              "      <td>33536.0</td>\n",
              "      <td>26.0</td>\n",
              "      <td>183</td>\n",
              "      <td>0</td>\n",
              "    </tr>\n",
              "    <tr>\n",
              "      <th>2</th>\n",
              "      <td>3</td>\n",
              "      <td>Male</td>\n",
              "      <td>47</td>\n",
              "      <td>1</td>\n",
              "      <td>28.0</td>\n",
              "      <td>0</td>\n",
              "      <td>&gt; 2 Years</td>\n",
              "      <td>Yes</td>\n",
              "      <td>38294.0</td>\n",
              "      <td>26.0</td>\n",
              "      <td>27</td>\n",
              "      <td>1</td>\n",
              "    </tr>\n",
              "    <tr>\n",
              "      <th>3</th>\n",
              "      <td>4</td>\n",
              "      <td>Male</td>\n",
              "      <td>21</td>\n",
              "      <td>1</td>\n",
              "      <td>11.0</td>\n",
              "      <td>1</td>\n",
              "      <td>&lt; 1 Year</td>\n",
              "      <td>No</td>\n",
              "      <td>28619.0</td>\n",
              "      <td>152.0</td>\n",
              "      <td>203</td>\n",
              "      <td>0</td>\n",
              "    </tr>\n",
              "    <tr>\n",
              "      <th>4</th>\n",
              "      <td>5</td>\n",
              "      <td>Female</td>\n",
              "      <td>29</td>\n",
              "      <td>1</td>\n",
              "      <td>41.0</td>\n",
              "      <td>1</td>\n",
              "      <td>&lt; 1 Year</td>\n",
              "      <td>No</td>\n",
              "      <td>27496.0</td>\n",
              "      <td>152.0</td>\n",
              "      <td>39</td>\n",
              "      <td>0</td>\n",
              "    </tr>\n",
              "    <tr>\n",
              "      <th>...</th>\n",
              "      <td>...</td>\n",
              "      <td>...</td>\n",
              "      <td>...</td>\n",
              "      <td>...</td>\n",
              "      <td>...</td>\n",
              "      <td>...</td>\n",
              "      <td>...</td>\n",
              "      <td>...</td>\n",
              "      <td>...</td>\n",
              "      <td>...</td>\n",
              "      <td>...</td>\n",
              "      <td>...</td>\n",
              "    </tr>\n",
              "    <tr>\n",
              "      <th>95</th>\n",
              "      <td>96</td>\n",
              "      <td>Female</td>\n",
              "      <td>23</td>\n",
              "      <td>1</td>\n",
              "      <td>30.0</td>\n",
              "      <td>0</td>\n",
              "      <td>&lt; 1 Year</td>\n",
              "      <td>No</td>\n",
              "      <td>26689.0</td>\n",
              "      <td>152.0</td>\n",
              "      <td>254</td>\n",
              "      <td>0</td>\n",
              "    </tr>\n",
              "    <tr>\n",
              "      <th>96</th>\n",
              "      <td>97</td>\n",
              "      <td>Male</td>\n",
              "      <td>50</td>\n",
              "      <td>1</td>\n",
              "      <td>28.0</td>\n",
              "      <td>0</td>\n",
              "      <td>1-2 Year</td>\n",
              "      <td>Yes</td>\n",
              "      <td>46995.0</td>\n",
              "      <td>52.0</td>\n",
              "      <td>291</td>\n",
              "      <td>0</td>\n",
              "    </tr>\n",
              "    <tr>\n",
              "      <th>97</th>\n",
              "      <td>98</td>\n",
              "      <td>Female</td>\n",
              "      <td>62</td>\n",
              "      <td>1</td>\n",
              "      <td>28.0</td>\n",
              "      <td>0</td>\n",
              "      <td>&gt; 2 Years</td>\n",
              "      <td>Yes</td>\n",
              "      <td>41892.0</td>\n",
              "      <td>155.0</td>\n",
              "      <td>114</td>\n",
              "      <td>0</td>\n",
              "    </tr>\n",
              "    <tr>\n",
              "      <th>98</th>\n",
              "      <td>99</td>\n",
              "      <td>Female</td>\n",
              "      <td>21</td>\n",
              "      <td>1</td>\n",
              "      <td>2.0</td>\n",
              "      <td>0</td>\n",
              "      <td>&lt; 1 Year</td>\n",
              "      <td>Yes</td>\n",
              "      <td>34274.0</td>\n",
              "      <td>152.0</td>\n",
              "      <td>79</td>\n",
              "      <td>0</td>\n",
              "    </tr>\n",
              "    <tr>\n",
              "      <th>99</th>\n",
              "      <td>100</td>\n",
              "      <td>Female</td>\n",
              "      <td>24</td>\n",
              "      <td>1</td>\n",
              "      <td>7.0</td>\n",
              "      <td>1</td>\n",
              "      <td>&lt; 1 Year</td>\n",
              "      <td>Yes</td>\n",
              "      <td>2630.0</td>\n",
              "      <td>160.0</td>\n",
              "      <td>68</td>\n",
              "      <td>0</td>\n",
              "    </tr>\n",
              "  </tbody>\n",
              "</table>\n",
              "<p>100 rows × 12 columns</p>\n",
              "</div>"
            ],
            "text/plain": [
              "     id  Gender  Age  Driving_License  Region_Code  Previously_Insured  \\\n",
              "0     1    Male   44                1         28.0                   0   \n",
              "1     2    Male   76                1          3.0                   0   \n",
              "2     3    Male   47                1         28.0                   0   \n",
              "3     4    Male   21                1         11.0                   1   \n",
              "4     5  Female   29                1         41.0                   1   \n",
              "..  ...     ...  ...              ...          ...                 ...   \n",
              "95   96  Female   23                1         30.0                   0   \n",
              "96   97    Male   50                1         28.0                   0   \n",
              "97   98  Female   62                1         28.0                   0   \n",
              "98   99  Female   21                1          2.0                   0   \n",
              "99  100  Female   24                1          7.0                   1   \n",
              "\n",
              "   Vehicle_Age Vehicle_Damage  Annual_Premium  Policy_Sales_Channel  Vintage  \\\n",
              "0    > 2 Years            Yes         40454.0                  26.0      217   \n",
              "1     1-2 Year             No         33536.0                  26.0      183   \n",
              "2    > 2 Years            Yes         38294.0                  26.0       27   \n",
              "3     < 1 Year             No         28619.0                 152.0      203   \n",
              "4     < 1 Year             No         27496.0                 152.0       39   \n",
              "..         ...            ...             ...                   ...      ...   \n",
              "95    < 1 Year             No         26689.0                 152.0      254   \n",
              "96    1-2 Year            Yes         46995.0                  52.0      291   \n",
              "97   > 2 Years            Yes         41892.0                 155.0      114   \n",
              "98    < 1 Year            Yes         34274.0                 152.0       79   \n",
              "99    < 1 Year            Yes          2630.0                 160.0       68   \n",
              "\n",
              "    Response  \n",
              "0          1  \n",
              "1          0  \n",
              "2          1  \n",
              "3          0  \n",
              "4          0  \n",
              "..       ...  \n",
              "95         0  \n",
              "96         0  \n",
              "97         0  \n",
              "98         0  \n",
              "99         0  \n",
              "\n",
              "[100 rows x 12 columns]"
            ]
          },
          "execution_count": 41,
          "metadata": {},
          "output_type": "execute_result"
        }
      ],
      "source": [
        "pd.read_csv(data_path, nrows=100)"
      ]
    },
    {
      "cell_type": "markdown",
      "metadata": {
        "id": "GpjFcHb_Egb8"
      },
      "source": [
        "# Перегляд набору даних\n",
        "Зверніть увагу, за замовченням у нас датафрейм відображається як перші і останні 5 рядочків. А що якщо нам треба переглянути конкретну кількість конкретних рядочків в ньому?  \n",
        "\n",
        "Загалом, під час роботи з великими даними зручно дивитися датафрейм частинами. Та й якщо дивитися повністю може підвиснути браузер, бо чим більше показуємо даних, тим більший розімір ноутбуку.\n",
        "\n",
        "Як дивитись датафрейм частинами:"
      ]
    },
    {
      "cell_type": "code",
      "execution_count": null,
      "metadata": {
        "ExecuteTime": {
          "end_time": "2024-03-08T14:33:16.665078Z",
          "start_time": "2024-03-08T14:33:16.650620Z"
        },
        "id": "dElwiLcWEgb8"
      },
      "outputs": [],
      "source": [
        "df.head(1)"
      ]
    },
    {
      "cell_type": "code",
      "execution_count": null,
      "metadata": {
        "ExecuteTime": {
          "end_time": "2024-03-08T14:33:21.312714Z",
          "start_time": "2024-03-08T14:33:21.300129Z"
        },
        "id": "FufMOqdOEgb8"
      },
      "outputs": [],
      "source": [
        "df.tail(2)"
      ]
    },
    {
      "cell_type": "code",
      "execution_count": null,
      "metadata": {
        "ExecuteTime": {
          "end_time": "2023-11-02T16:35:43.874643Z",
          "start_time": "2023-11-02T16:35:43.857233Z"
        },
        "id": "IwqtwQlEEgb8"
      },
      "outputs": [],
      "source": [
        "df"
      ]
    },
    {
      "cell_type": "code",
      "execution_count": null,
      "metadata": {
        "ExecuteTime": {
          "end_time": "2024-03-08T14:33:44.945863Z",
          "start_time": "2024-03-08T14:33:44.923480Z"
        },
        "id": "YY7MmBZYEgb9"
      },
      "outputs": [],
      "source": [
        "df[100:110:2]"
      ]
    },
    {
      "cell_type": "markdown",
      "metadata": {
        "ExecuteTime": {
          "end_time": "2024-03-05T16:29:22.932351Z",
          "start_time": "2024-03-05T16:29:22.929944Z"
        },
        "id": "-88qvCvpEgb9"
      },
      "source": [
        "## Перегляд окремих рядків даних"
      ]
    },
    {
      "cell_type": "markdown",
      "metadata": {
        "id": "dC8jDeFPEgb9"
      },
      "source": [
        "Якщо ми хочемо вивест конкретний елемент (рядок) - це можна зробити наступним чином:"
      ]
    },
    {
      "cell_type": "code",
      "execution_count": null,
      "metadata": {
        "ExecuteTime": {
          "end_time": "2024-03-08T14:36:00.450622Z",
          "start_time": "2024-03-08T14:36:00.438239Z"
        },
        "id": "AqaaYxPyEgb9"
      },
      "outputs": [],
      "source": [
        "df[100:101]"
      ]
    },
    {
      "cell_type": "code",
      "execution_count": null,
      "metadata": {
        "ExecuteTime": {
          "end_time": "2024-03-08T14:36:45.971040Z",
          "start_time": "2024-03-08T14:36:45.956452Z"
        },
        "id": "c42Bxy43Egb9"
      },
      "outputs": [],
      "source": [
        "pd.DataFrame(df.loc[100]).T"
      ]
    },
    {
      "cell_type": "markdown",
      "metadata": {
        "ExecuteTime": {
          "end_time": "2024-03-05T16:30:49.545903Z",
          "start_time": "2024-03-05T16:30:49.541690Z"
        },
        "id": "NgR_2csiEgb9"
      },
      "source": [
        "Є ще одна функція iloc. Якщо loc виводить елемент з обраним індексом, то iloc виводить елемент з обраною позицією."
      ]
    },
    {
      "cell_type": "code",
      "execution_count": null,
      "metadata": {
        "ExecuteTime": {
          "end_time": "2024-03-08T14:38:34.957069Z",
          "start_time": "2024-03-08T14:38:34.950195Z"
        },
        "id": "LRy9L-CAEgb9"
      },
      "outputs": [],
      "source": [
        "df[100:110:2].iloc[1]"
      ]
    },
    {
      "cell_type": "markdown",
      "metadata": {
        "id": "m-rsDFcMEgb-"
      },
      "source": [
        "А так буде помилка"
      ]
    },
    {
      "cell_type": "code",
      "execution_count": null,
      "metadata": {
        "ExecuteTime": {
          "end_time": "2024-03-08T14:37:48.877502Z",
          "start_time": "2024-03-08T14:37:48.325805Z"
        },
        "id": "cHlxHOU4Egb-"
      },
      "outputs": [],
      "source": [
        "df[100:110:2].iloc[100]"
      ]
    },
    {
      "cell_type": "markdown",
      "metadata": {
        "ExecuteTime": {
          "end_time": "2024-03-05T16:29:02.834486Z",
          "start_time": "2024-03-05T16:29:02.832076Z"
        },
        "id": "DK3xSxtWEgb-"
      },
      "source": [
        "## Колонки і їх типи"
      ]
    },
    {
      "cell_type": "markdown",
      "metadata": {
        "id": "hvLwtI6DEgb-"
      },
      "source": [
        "Наступний етап знайомства з дании - дізнатись, які у нас типи даних у колонках."
      ]
    },
    {
      "cell_type": "code",
      "execution_count": null,
      "metadata": {
        "ExecuteTime": {
          "end_time": "2024-03-08T14:39:46.087656Z",
          "start_time": "2024-03-08T14:39:46.081596Z"
        },
        "id": "KBt-HoL_Egb-"
      },
      "outputs": [],
      "source": [
        "df.dtypes"
      ]
    },
    {
      "cell_type": "markdown",
      "metadata": {
        "id": "29UtojcrEgb-"
      },
      "source": [
        "**Увага!** Тип колонки `object` dtype, який може містити будь-який об'єкт Python, включаючи рядки. Наприклад, може зберігати тип даних - список чи кортеж значень.\n",
        "\n",
        "Усі типи даних колонок можна переглянути тут: https://pandas.pydata.org/docs/user_guide/basics.html#dtypes"
      ]
    },
    {
      "cell_type": "markdown",
      "metadata": {
        "id": "qz5GjC5EEgb-"
      },
      "source": [
        "А так можна подивитися тільки на назви колонок, якщо треба. Зазвичай це часто використовується під час роботи з набором даних."
      ]
    },
    {
      "cell_type": "code",
      "execution_count": null,
      "metadata": {
        "ExecuteTime": {
          "end_time": "2024-03-08T14:39:39.644534Z",
          "start_time": "2024-03-08T14:39:39.640512Z"
        },
        "id": "cf2vEY9HEgb-"
      },
      "outputs": [],
      "source": [
        "df.columns"
      ]
    },
    {
      "cell_type": "markdown",
      "metadata": {
        "id": "LMSOgBgLEgb_"
      },
      "source": [
        "## Опис даних в колонках"
      ]
    },
    {
      "cell_type": "markdown",
      "metadata": {
        "id": "Z5wCoaxBEgb_"
      },
      "source": [
        "Ще один корисний метод для знайомства з даними.\n",
        "За допомогою методу `describe` можемо переглянути основні статистичні характеристики даних за кожною ознакою:   \n",
        "- число заповнених (не NaN) значень,\n",
        "- середнє,\n",
        "- стандартне відхилення,\n",
        "- діапазон,\n",
        "- медіану,\n",
        "- 0.25 і 0.75 квартилі (можна змінити набір персентилів)"
      ]
    },
    {
      "cell_type": "code",
      "execution_count": null,
      "metadata": {
        "ExecuteTime": {
          "end_time": "2024-03-08T14:43:38.774185Z",
          "start_time": "2024-03-08T14:43:38.529108Z"
        },
        "id": "6YOcrG_3Egb_"
      },
      "outputs": [],
      "source": [
        "df.describe()"
      ]
    },
    {
      "cell_type": "markdown",
      "metadata": {
        "id": "HPuSf9LuEgb_"
      },
      "source": [
        "Аби було зручніше переглядати, можемо змінити форматування відображення float даних:"
      ]
    },
    {
      "cell_type": "code",
      "execution_count": null,
      "metadata": {
        "ExecuteTime": {
          "end_time": "2024-03-08T14:46:19.868988Z",
          "start_time": "2024-03-08T14:46:19.717510Z"
        },
        "id": "41_l6dMWEgb_"
      },
      "outputs": [],
      "source": [
        "with pd.option_context(\"display.precision\", 2):\n",
        "    display(df.describe())"
      ]
    },
    {
      "cell_type": "markdown",
      "metadata": {
        "ExecuteTime": {
          "end_time": "2024-03-05T16:20:42.077092Z",
          "start_time": "2024-03-05T16:20:42.073534Z"
        },
        "code_folding": [],
        "id": "4O-NIchsEgb_"
      },
      "source": [
        "## Що таке персентилі і для чого вони потрібні?"
      ]
    },
    {
      "cell_type": "markdown",
      "metadata": {
        "id": "K1t37fypEgb_"
      },
      "source": [
        "Персентиль — це міра статистики, яка використовується для визначення значення, нижче якого падає певний відсоток спостережень у групі.\n",
        "\n",
        "Наприклад, якщо запис (обране значення з даних) потрапляє в 20-й процентиль, це означає, що 20 відсотків усіх наявних даних дорівнюють або нижчі за це значення.\n",
        "Якщо значення знаходиться в 90-му процентилі, це означає, що 90 відсотків усіх інших значень були рівними або нижчими за це значення. Тож, якщо ви отримаєте оцінку на тесті, яка є вище, ніж у 90% інших студентів, ваш результат вважається 90-м персентилем.\n",
        "\n",
        "У статистиці процентили знаходять, беручи великий набір числових даних, упорядковуючи їх у порядку зростання, а потім розділяючи на 100 груп з рівною кількістю точок даних. Кожна з 99 точок поділу називається процентилем набору даних.\n",
        "Візуалізація 10-го персентиля:"
      ]
    },
    {
      "cell_type": "markdown",
      "metadata": {
        "id": "-iSQI9lXEgb_"
      },
      "source": [
        "![](https://drive.google.com/uc?export=view&id=1VgDEjDLcAaPbIZVia6f8Fk_4x3Vt6MTr)"
      ]
    },
    {
      "cell_type": "markdown",
      "metadata": {
        "id": "VoYLjrZ3EgcA"
      },
      "source": [
        "![](https://drive.google.com/uc?export=view&id=1xrWwZmeIFehFn8yScioXr4G2vrVX59cg)"
      ]
    },
    {
      "cell_type": "markdown",
      "metadata": {
        "id": "gbB9jcC1EgcA"
      },
      "source": [
        "Персентилі при аналізі даних допомагають зрозуміти розподіл даних, відкринути викиди. Ми можемо налаштувати, які персентилі хочемо побачити"
      ]
    },
    {
      "cell_type": "code",
      "execution_count": null,
      "metadata": {
        "ExecuteTime": {
          "end_time": "2024-03-08T14:49:51.875289Z",
          "start_time": "2024-03-08T14:49:51.680250Z"
        },
        "id": "tuXUm_RLEgcA"
      },
      "outputs": [],
      "source": [
        "with pd.option_context(\"display.precision\", 2):\n",
        "    display(df.describe(percentiles=[0.01, 0.1, 0.2, 0.5, 0.7, 0.9, 0.99]))"
      ]
    },
    {
      "cell_type": "markdown",
      "metadata": {
        "id": "BQKjELXGEgcA"
      },
      "source": [
        "## Вибір колонок"
      ]
    },
    {
      "cell_type": "markdown",
      "metadata": {
        "id": "8GGENRJlEgcA"
      },
      "source": [
        "Щоб вибрати одну колонку датафрейма, ви можете використовувати синтаксис подібний до словника:"
      ]
    },
    {
      "cell_type": "code",
      "execution_count": null,
      "metadata": {
        "ExecuteTime": {
          "end_time": "2024-03-08T14:51:48.699243Z",
          "start_time": "2024-03-08T14:51:48.692732Z"
        },
        "id": "V-eYy2wBEgcA",
        "scrolled": true
      },
      "outputs": [],
      "source": [
        "df.columns"
      ]
    },
    {
      "cell_type": "code",
      "execution_count": null,
      "metadata": {
        "ExecuteTime": {
          "end_time": "2024-03-08T14:52:05.200120Z",
          "start_time": "2024-03-08T14:52:05.193241Z"
        },
        "id": "VdoD_7HjEgcA"
      },
      "outputs": [],
      "source": [
        "df['Gender']"
      ]
    },
    {
      "cell_type": "markdown",
      "metadata": {
        "id": "P3UESx7NEgcA"
      },
      "source": [
        "Ви також можете вибрати колонку через крапку (як атрибут інстанса класа датафрейма), але тільки якщо назва колонки складається з латинських літер, чисел і нижніх підкреслень.\n",
        "Перевага цього способу вибору колонки - тут працюють підказки."
      ]
    },
    {
      "cell_type": "code",
      "execution_count": null,
      "metadata": {
        "ExecuteTime": {
          "end_time": "2024-03-08T14:52:30.428115Z",
          "start_time": "2024-03-08T14:52:30.422259Z"
        },
        "id": "S2edHW9_EgcB"
      },
      "outputs": [],
      "source": [
        "df.Gender"
      ]
    },
    {
      "cell_type": "code",
      "execution_count": null,
      "metadata": {
        "ExecuteTime": {
          "end_time": "2024-03-05T16:35:33.152006Z",
          "start_time": "2024-03-05T16:35:33.146869Z"
        },
        "id": "ezMKJdi3EgcB"
      },
      "outputs": [],
      "source": [
        "df.Driving_License"
      ]
    },
    {
      "cell_type": "code",
      "execution_count": null,
      "metadata": {
        "ExecuteTime": {
          "end_time": "2024-03-08T14:52:59.886026Z",
          "start_time": "2024-03-08T14:52:59.882463Z"
        },
        "id": "7uvgc7P2EgcB"
      },
      "outputs": [],
      "source": [
        "df[\"Нова колонка\"] = 1"
      ]
    },
    {
      "cell_type": "code",
      "execution_count": null,
      "metadata": {
        "ExecuteTime": {
          "end_time": "2024-03-08T14:53:20.558374Z",
          "start_time": "2024-03-08T14:53:20.550360Z"
        },
        "id": "D4p3KlQoEgcB"
      },
      "outputs": [],
      "source": [
        "df['Нова колонка']"
      ]
    },
    {
      "cell_type": "code",
      "execution_count": null,
      "metadata": {
        "ExecuteTime": {
          "end_time": "2024-03-08T14:53:30.994283Z",
          "start_time": "2024-03-08T14:53:30.976486Z"
        },
        "id": "rh3VX5_nEgcB"
      },
      "outputs": [],
      "source": [
        "df.Нова колонка"
      ]
    },
    {
      "cell_type": "code",
      "execution_count": null,
      "metadata": {
        "ExecuteTime": {
          "end_time": "2024-03-08T14:54:06.900492Z",
          "start_time": "2024-03-08T14:54:06.809874Z"
        },
        "id": "D21ohfcLEgcB"
      },
      "outputs": [],
      "source": [
        "df.drop(columns=[\"Нова колонка\"], inplace=True)"
      ]
    },
    {
      "cell_type": "markdown",
      "metadata": {
        "ExecuteTime": {
          "end_time": "2024-03-05T16:37:49.841867Z",
          "start_time": "2024-03-05T16:37:49.838105Z"
        },
        "id": "dUqfvSYvEgcC"
      },
      "source": [
        "Щоб вибрати декілька колонок, передайте список з іменами колонок:"
      ]
    },
    {
      "cell_type": "code",
      "execution_count": null,
      "metadata": {
        "ExecuteTime": {
          "end_time": "2024-03-08T14:54:24.129623Z",
          "start_time": "2024-03-08T14:54:24.108203Z"
        },
        "id": "qVyKcmPbEgcC"
      },
      "outputs": [],
      "source": [
        "df[['Region_Code', 'Gender']]"
      ]
    },
    {
      "cell_type": "markdown",
      "metadata": {
        "id": "esFgFI0fEgcC"
      },
      "source": [
        "Увага! Щоразу після фільтрації у вас вертається pd.DataFrame або pd.Series (одна колонка). І ви можете далі робити з ними всі ті самі операції, що і над будь-яким датафреймом (наприклад, фільтрація, сортування, агрегація і тд). Можете також записати результат в нову змінну."
      ]
    },
    {
      "cell_type": "code",
      "execution_count": null,
      "metadata": {
        "ExecuteTime": {
          "end_time": "2024-03-08T14:57:17.093954Z",
          "start_time": "2024-03-08T14:57:17.081517Z"
        },
        "id": "HdHXIOpsEgcC"
      },
      "outputs": [],
      "source": [
        "df_selected_cols = df[['Region_Code', 'Gender', 'Age']]"
      ]
    },
    {
      "cell_type": "code",
      "execution_count": null,
      "metadata": {
        "ExecuteTime": {
          "end_time": "2024-03-08T14:57:19.501361Z",
          "start_time": "2024-03-08T14:57:19.491181Z"
        },
        "id": "Zs-IqmkiEgcC"
      },
      "outputs": [],
      "source": [
        "df_selected_cols"
      ]
    },
    {
      "cell_type": "code",
      "execution_count": null,
      "metadata": {
        "ExecuteTime": {
          "end_time": "2024-03-08T14:57:53.894601Z",
          "start_time": "2024-03-08T14:57:53.888460Z"
        },
        "id": "lOZbo4hqEgcC"
      },
      "outputs": [],
      "source": [
        "df_selected_cols[1000:1100]['Age'][0:10][0:5:2].astype(str)"
      ]
    },
    {
      "cell_type": "markdown",
      "metadata": {
        "id": "l-9q1p5uEgcC"
      },
      "source": [
        "## Перегляд значень в категоріальних колонках"
      ]
    },
    {
      "cell_type": "markdown",
      "metadata": {
        "id": "gNwcHzBvEgcC"
      },
      "source": [
        "Метод describe() автоматично спрацьовує для колонок з числовими значеннями, аби для дат. Для колонок з категоріальними значеннями (рядковими), можемо скористатись наступним."
      ]
    },
    {
      "cell_type": "markdown",
      "metadata": {
        "id": "pOmIsj-GEgcD"
      },
      "source": [
        "Для початку виберемо такі колонки."
      ]
    },
    {
      "cell_type": "code",
      "execution_count": 42,
      "metadata": {
        "ExecuteTime": {
          "end_time": "2024-03-08T14:58:30.915618Z",
          "start_time": "2024-03-08T14:58:30.891627Z"
        },
        "id": "OBDM0FieEgcD"
      },
      "outputs": [
        {
          "data": {
            "text/html": [
              "<div>\n",
              "<style scoped>\n",
              "    .dataframe tbody tr th:only-of-type {\n",
              "        vertical-align: middle;\n",
              "    }\n",
              "\n",
              "    .dataframe tbody tr th {\n",
              "        vertical-align: top;\n",
              "    }\n",
              "\n",
              "    .dataframe thead th {\n",
              "        text-align: right;\n",
              "    }\n",
              "</style>\n",
              "<table border=\"1\" class=\"dataframe\">\n",
              "  <thead>\n",
              "    <tr style=\"text-align: right;\">\n",
              "      <th></th>\n",
              "      <th>Gender</th>\n",
              "      <th>Vehicle_Age</th>\n",
              "      <th>Vehicle_Damage</th>\n",
              "    </tr>\n",
              "  </thead>\n",
              "  <tbody>\n",
              "    <tr>\n",
              "      <th>0</th>\n",
              "      <td>Male</td>\n",
              "      <td>&gt; 2 Years</td>\n",
              "      <td>Yes</td>\n",
              "    </tr>\n",
              "    <tr>\n",
              "      <th>1</th>\n",
              "      <td>Male</td>\n",
              "      <td>1-2 Year</td>\n",
              "      <td>No</td>\n",
              "    </tr>\n",
              "    <tr>\n",
              "      <th>2</th>\n",
              "      <td>Male</td>\n",
              "      <td>&gt; 2 Years</td>\n",
              "      <td>Yes</td>\n",
              "    </tr>\n",
              "    <tr>\n",
              "      <th>3</th>\n",
              "      <td>Male</td>\n",
              "      <td>&lt; 1 Year</td>\n",
              "      <td>No</td>\n",
              "    </tr>\n",
              "    <tr>\n",
              "      <th>4</th>\n",
              "      <td>Female</td>\n",
              "      <td>&lt; 1 Year</td>\n",
              "      <td>No</td>\n",
              "    </tr>\n",
              "    <tr>\n",
              "      <th>...</th>\n",
              "      <td>...</td>\n",
              "      <td>...</td>\n",
              "      <td>...</td>\n",
              "    </tr>\n",
              "    <tr>\n",
              "      <th>381104</th>\n",
              "      <td>Male</td>\n",
              "      <td>1-2 Year</td>\n",
              "      <td>No</td>\n",
              "    </tr>\n",
              "    <tr>\n",
              "      <th>381105</th>\n",
              "      <td>Male</td>\n",
              "      <td>&lt; 1 Year</td>\n",
              "      <td>No</td>\n",
              "    </tr>\n",
              "    <tr>\n",
              "      <th>381106</th>\n",
              "      <td>Male</td>\n",
              "      <td>&lt; 1 Year</td>\n",
              "      <td>No</td>\n",
              "    </tr>\n",
              "    <tr>\n",
              "      <th>381107</th>\n",
              "      <td>Female</td>\n",
              "      <td>&gt; 2 Years</td>\n",
              "      <td>Yes</td>\n",
              "    </tr>\n",
              "    <tr>\n",
              "      <th>381108</th>\n",
              "      <td>Male</td>\n",
              "      <td>1-2 Year</td>\n",
              "      <td>No</td>\n",
              "    </tr>\n",
              "  </tbody>\n",
              "</table>\n",
              "<p>381109 rows × 3 columns</p>\n",
              "</div>"
            ],
            "text/plain": [
              "        Gender Vehicle_Age Vehicle_Damage\n",
              "0         Male   > 2 Years            Yes\n",
              "1         Male    1-2 Year             No\n",
              "2         Male   > 2 Years            Yes\n",
              "3         Male    < 1 Year             No\n",
              "4       Female    < 1 Year             No\n",
              "...        ...         ...            ...\n",
              "381104    Male    1-2 Year             No\n",
              "381105    Male    < 1 Year             No\n",
              "381106    Male    < 1 Year             No\n",
              "381107  Female   > 2 Years            Yes\n",
              "381108    Male    1-2 Year             No\n",
              "\n",
              "[381109 rows x 3 columns]"
            ]
          },
          "execution_count": 42,
          "metadata": {},
          "output_type": "execute_result"
        }
      ],
      "source": [
        "df.select_dtypes('object')"
      ]
    },
    {
      "cell_type": "markdown",
      "metadata": {
        "id": "vxVvD3NFEgcD"
      },
      "source": [
        "Альтернативно обрати лише числові колонки ми можемо наступним чином:"
      ]
    },
    {
      "cell_type": "code",
      "execution_count": 43,
      "metadata": {
        "ExecuteTime": {
          "end_time": "2024-03-08T14:58:42.610582Z",
          "start_time": "2024-03-08T14:58:42.579564Z"
        },
        "id": "T7jM9NNPEgcD"
      },
      "outputs": [
        {
          "data": {
            "text/html": [
              "<div>\n",
              "<style scoped>\n",
              "    .dataframe tbody tr th:only-of-type {\n",
              "        vertical-align: middle;\n",
              "    }\n",
              "\n",
              "    .dataframe tbody tr th {\n",
              "        vertical-align: top;\n",
              "    }\n",
              "\n",
              "    .dataframe thead th {\n",
              "        text-align: right;\n",
              "    }\n",
              "</style>\n",
              "<table border=\"1\" class=\"dataframe\">\n",
              "  <thead>\n",
              "    <tr style=\"text-align: right;\">\n",
              "      <th></th>\n",
              "      <th>id</th>\n",
              "      <th>Age</th>\n",
              "      <th>Driving_License</th>\n",
              "      <th>Region_Code</th>\n",
              "      <th>Previously_Insured</th>\n",
              "      <th>Annual_Premium</th>\n",
              "      <th>Policy_Sales_Channel</th>\n",
              "      <th>Vintage</th>\n",
              "      <th>Response</th>\n",
              "    </tr>\n",
              "  </thead>\n",
              "  <tbody>\n",
              "    <tr>\n",
              "      <th>0</th>\n",
              "      <td>1</td>\n",
              "      <td>44</td>\n",
              "      <td>1</td>\n",
              "      <td>28.0</td>\n",
              "      <td>0</td>\n",
              "      <td>40454.0</td>\n",
              "      <td>26.0</td>\n",
              "      <td>217</td>\n",
              "      <td>1</td>\n",
              "    </tr>\n",
              "    <tr>\n",
              "      <th>1</th>\n",
              "      <td>2</td>\n",
              "      <td>76</td>\n",
              "      <td>1</td>\n",
              "      <td>3.0</td>\n",
              "      <td>0</td>\n",
              "      <td>33536.0</td>\n",
              "      <td>26.0</td>\n",
              "      <td>183</td>\n",
              "      <td>0</td>\n",
              "    </tr>\n",
              "    <tr>\n",
              "      <th>2</th>\n",
              "      <td>3</td>\n",
              "      <td>47</td>\n",
              "      <td>1</td>\n",
              "      <td>28.0</td>\n",
              "      <td>0</td>\n",
              "      <td>38294.0</td>\n",
              "      <td>26.0</td>\n",
              "      <td>27</td>\n",
              "      <td>1</td>\n",
              "    </tr>\n",
              "    <tr>\n",
              "      <th>3</th>\n",
              "      <td>4</td>\n",
              "      <td>21</td>\n",
              "      <td>1</td>\n",
              "      <td>11.0</td>\n",
              "      <td>1</td>\n",
              "      <td>28619.0</td>\n",
              "      <td>152.0</td>\n",
              "      <td>203</td>\n",
              "      <td>0</td>\n",
              "    </tr>\n",
              "    <tr>\n",
              "      <th>4</th>\n",
              "      <td>5</td>\n",
              "      <td>29</td>\n",
              "      <td>1</td>\n",
              "      <td>41.0</td>\n",
              "      <td>1</td>\n",
              "      <td>27496.0</td>\n",
              "      <td>152.0</td>\n",
              "      <td>39</td>\n",
              "      <td>0</td>\n",
              "    </tr>\n",
              "    <tr>\n",
              "      <th>...</th>\n",
              "      <td>...</td>\n",
              "      <td>...</td>\n",
              "      <td>...</td>\n",
              "      <td>...</td>\n",
              "      <td>...</td>\n",
              "      <td>...</td>\n",
              "      <td>...</td>\n",
              "      <td>...</td>\n",
              "      <td>...</td>\n",
              "    </tr>\n",
              "    <tr>\n",
              "      <th>381104</th>\n",
              "      <td>381105</td>\n",
              "      <td>74</td>\n",
              "      <td>1</td>\n",
              "      <td>26.0</td>\n",
              "      <td>1</td>\n",
              "      <td>30170.0</td>\n",
              "      <td>26.0</td>\n",
              "      <td>88</td>\n",
              "      <td>0</td>\n",
              "    </tr>\n",
              "    <tr>\n",
              "      <th>381105</th>\n",
              "      <td>381106</td>\n",
              "      <td>30</td>\n",
              "      <td>1</td>\n",
              "      <td>37.0</td>\n",
              "      <td>1</td>\n",
              "      <td>40016.0</td>\n",
              "      <td>152.0</td>\n",
              "      <td>131</td>\n",
              "      <td>0</td>\n",
              "    </tr>\n",
              "    <tr>\n",
              "      <th>381106</th>\n",
              "      <td>381107</td>\n",
              "      <td>21</td>\n",
              "      <td>1</td>\n",
              "      <td>30.0</td>\n",
              "      <td>1</td>\n",
              "      <td>35118.0</td>\n",
              "      <td>160.0</td>\n",
              "      <td>161</td>\n",
              "      <td>0</td>\n",
              "    </tr>\n",
              "    <tr>\n",
              "      <th>381107</th>\n",
              "      <td>381108</td>\n",
              "      <td>68</td>\n",
              "      <td>1</td>\n",
              "      <td>14.0</td>\n",
              "      <td>0</td>\n",
              "      <td>44617.0</td>\n",
              "      <td>124.0</td>\n",
              "      <td>74</td>\n",
              "      <td>0</td>\n",
              "    </tr>\n",
              "    <tr>\n",
              "      <th>381108</th>\n",
              "      <td>381109</td>\n",
              "      <td>46</td>\n",
              "      <td>1</td>\n",
              "      <td>29.0</td>\n",
              "      <td>0</td>\n",
              "      <td>41777.0</td>\n",
              "      <td>26.0</td>\n",
              "      <td>237</td>\n",
              "      <td>0</td>\n",
              "    </tr>\n",
              "  </tbody>\n",
              "</table>\n",
              "<p>381109 rows × 9 columns</p>\n",
              "</div>"
            ],
            "text/plain": [
              "            id  Age  Driving_License  Region_Code  Previously_Insured  \\\n",
              "0            1   44                1         28.0                   0   \n",
              "1            2   76                1          3.0                   0   \n",
              "2            3   47                1         28.0                   0   \n",
              "3            4   21                1         11.0                   1   \n",
              "4            5   29                1         41.0                   1   \n",
              "...        ...  ...              ...          ...                 ...   \n",
              "381104  381105   74                1         26.0                   1   \n",
              "381105  381106   30                1         37.0                   1   \n",
              "381106  381107   21                1         30.0                   1   \n",
              "381107  381108   68                1         14.0                   0   \n",
              "381108  381109   46                1         29.0                   0   \n",
              "\n",
              "        Annual_Premium  Policy_Sales_Channel  Vintage  Response  \n",
              "0              40454.0                  26.0      217         1  \n",
              "1              33536.0                  26.0      183         0  \n",
              "2              38294.0                  26.0       27         1  \n",
              "3              28619.0                 152.0      203         0  \n",
              "4              27496.0                 152.0       39         0  \n",
              "...                ...                   ...      ...       ...  \n",
              "381104         30170.0                  26.0       88         0  \n",
              "381105         40016.0                 152.0      131         0  \n",
              "381106         35118.0                 160.0      161         0  \n",
              "381107         44617.0                 124.0       74         0  \n",
              "381108         41777.0                  26.0      237         0  \n",
              "\n",
              "[381109 rows x 9 columns]"
            ]
          },
          "execution_count": 43,
          "metadata": {},
          "output_type": "execute_result"
        }
      ],
      "source": [
        "df.select_dtypes('number')"
      ]
    },
    {
      "cell_type": "markdown",
      "metadata": {
        "id": "wvBFcNOYEgcD"
      },
      "source": [
        "Тож, нижче наші \"категоріальні\" колонки."
      ]
    },
    {
      "cell_type": "code",
      "execution_count": 44,
      "metadata": {
        "ExecuteTime": {
          "end_time": "2024-03-08T14:59:36.969671Z",
          "start_time": "2024-03-08T14:59:36.952592Z"
        },
        "id": "06ulEAuLEgcD"
      },
      "outputs": [
        {
          "data": {
            "text/plain": [
              "Index(['Gender', 'Vehicle_Age', 'Vehicle_Damage'], dtype='object')"
            ]
          },
          "execution_count": 44,
          "metadata": {},
          "output_type": "execute_result"
        }
      ],
      "source": [
        "df.select_dtypes('object').columns"
      ]
    },
    {
      "cell_type": "markdown",
      "metadata": {
        "id": "HDTG0QESEgcD"
      },
      "source": [
        "Переглянемо униікальні значення в колонці."
      ]
    },
    {
      "cell_type": "code",
      "execution_count": null,
      "metadata": {
        "ExecuteTime": {
          "end_time": "2024-03-08T15:00:08.466507Z",
          "start_time": "2024-03-08T15:00:08.433435Z"
        },
        "id": "iKudG6ujEgcD"
      },
      "outputs": [],
      "source": [
        "df.Gender.unique()"
      ]
    },
    {
      "cell_type": "markdown",
      "metadata": {
        "ExecuteTime": {
          "end_time": "2024-03-05T17:41:11.250408Z",
          "start_time": "2024-03-05T17:41:11.245792Z"
        },
        "id": "rdZfx33bEgcD"
      },
      "source": [
        "Так можемо дізнатись, скільки в колонці унікальних значень."
      ]
    },
    {
      "cell_type": "code",
      "execution_count": null,
      "metadata": {
        "ExecuteTime": {
          "end_time": "2024-03-08T15:00:24.073066Z",
          "start_time": "2024-03-08T15:00:24.050785Z"
        },
        "id": "sh3ly6auEgcD"
      },
      "outputs": [],
      "source": [
        "df.Vehicle_Age.nunique()"
      ]
    },
    {
      "cell_type": "markdown",
      "metadata": {
        "id": "tFAcOZoZEgcE"
      },
      "source": [
        "А так можемо переглянути, скільки в колонці значень за кожною категорією."
      ]
    },
    {
      "cell_type": "code",
      "execution_count": null,
      "metadata": {
        "ExecuteTime": {
          "end_time": "2024-03-08T15:01:51.230012Z",
          "start_time": "2024-03-08T15:01:51.196774Z"
        },
        "id": "Iwy5om2GEgcE"
      },
      "outputs": [],
      "source": [
        "df.Vehicle_Age.value_counts()"
      ]
    },
    {
      "cell_type": "markdown",
      "metadata": {
        "id": "_z96IIipEgcE"
      },
      "source": [
        "Над Series ви легко можете виконувати операції. Наприклад, давайте знйдемо, який відсоток становить кожне значення."
      ]
    },
    {
      "cell_type": "code",
      "execution_count": null,
      "metadata": {
        "ExecuteTime": {
          "end_time": "2024-03-08T15:01:57.521043Z",
          "start_time": "2024-03-08T15:01:57.487235Z"
        },
        "id": "03qL05XcEgcE"
      },
      "outputs": [],
      "source": [
        "gender_counts = df.Gender.value_counts()"
      ]
    },
    {
      "cell_type": "code",
      "execution_count": null,
      "metadata": {
        "ExecuteTime": {
          "end_time": "2024-03-08T15:02:42.500580Z",
          "start_time": "2024-03-08T15:02:42.495356Z"
        },
        "id": "GQYxwtozEgcE"
      },
      "outputs": [],
      "source": [
        "gender_counts"
      ]
    },
    {
      "cell_type": "code",
      "execution_count": null,
      "metadata": {
        "ExecuteTime": {
          "end_time": "2024-03-08T15:02:48.849207Z",
          "start_time": "2024-03-08T15:02:48.841783Z"
        },
        "id": "ADKRzLoDEgcE"
      },
      "outputs": [],
      "source": [
        "gender_counts/gender_counts.sum()"
      ]
    },
    {
      "cell_type": "markdown",
      "metadata": {
        "id": "WkM5KfsqEgcE"
      },
      "source": [
        "Те саме ми могли б отримати викликом `value_counts` з аргументом `normalize=True`."
      ]
    },
    {
      "cell_type": "code",
      "execution_count": null,
      "metadata": {
        "ExecuteTime": {
          "end_time": "2024-03-08T15:03:36.058008Z",
          "start_time": "2024-03-08T15:03:36.020556Z"
        },
        "id": "Uuk2IM8REgcE"
      },
      "outputs": [],
      "source": [
        "df.Gender.value_counts(normalize=True)"
      ]
    },
    {
      "cell_type": "markdown",
      "metadata": {
        "id": "u0MfAZwuEgcE"
      },
      "source": [
        "До речі, арифметичні операції (додавання числа, віднімання числа, множення і делення на число) виконується в pd.Series для всіх рядків одразу, на відміну від списків, де нам треба скористатись циклом."
      ]
    },
    {
      "cell_type": "code",
      "execution_count": null,
      "metadata": {
        "ExecuteTime": {
          "end_time": "2024-03-08T15:03:50.129804Z",
          "start_time": "2024-03-08T15:03:50.126883Z"
        },
        "id": "7CBtY9psEgcE"
      },
      "outputs": [],
      "source": [
        "example = pd.Series(range(100))"
      ]
    },
    {
      "cell_type": "code",
      "execution_count": null,
      "metadata": {
        "ExecuteTime": {
          "end_time": "2024-03-08T15:03:55.493435Z",
          "start_time": "2024-03-08T15:03:55.487954Z"
        },
        "id": "x1M8rvrJEgcF"
      },
      "outputs": [],
      "source": [
        "example"
      ]
    },
    {
      "cell_type": "code",
      "execution_count": null,
      "metadata": {
        "ExecuteTime": {
          "end_time": "2024-03-08T15:04:02.797378Z",
          "start_time": "2024-03-08T15:04:02.791335Z"
        },
        "id": "7z-qhrf8EgcF"
      },
      "outputs": [],
      "source": [
        "example + 3"
      ]
    },
    {
      "cell_type": "code",
      "execution_count": null,
      "metadata": {
        "ExecuteTime": {
          "end_time": "2024-03-08T15:04:45.032123Z",
          "start_time": "2024-03-08T15:04:45.028844Z"
        },
        "id": "EpEZO3YTEgcF"
      },
      "outputs": [],
      "source": [
        "list_example = list(range(3))"
      ]
    },
    {
      "cell_type": "code",
      "execution_count": null,
      "metadata": {
        "ExecuteTime": {
          "end_time": "2024-03-08T15:04:21.128508Z",
          "start_time": "2024-03-08T15:04:21.125899Z"
        },
        "id": "51ue2uuSEgcF"
      },
      "outputs": [],
      "source": [
        "# list_example"
      ]
    },
    {
      "cell_type": "code",
      "execution_count": null,
      "metadata": {
        "ExecuteTime": {
          "end_time": "2024-03-08T15:05:01.087625Z",
          "start_time": "2024-03-08T15:05:01.080876Z"
        },
        "id": "SyT22CRGEgcF"
      },
      "outputs": [],
      "source": [
        "example * 5"
      ]
    },
    {
      "cell_type": "markdown",
      "metadata": {
        "id": "u2-c1PpSEgcF"
      },
      "source": [
        "В цьому - зручність роботи з даними на Pandas. **Тут для операцій над колонками вам цикли не треба.** Примайнмі, для простих операцій."
      ]
    },
    {
      "cell_type": "markdown",
      "metadata": {
        "id": "vvzIghVqEgcF"
      },
      "source": [
        "# Фільтрація даних"
      ]
    },
    {
      "cell_type": "markdown",
      "metadata": {
        "id": "8_MhBh1wEgcF"
      },
      "source": [
        "Фільтрація даних в Pandas — це потужний спосіб вибірки підмножини даних на основі однієї або декількох умов.\n",
        "Це може включати вибір рядків, які відповідають певним критеріям, або виключення даних, які не відповідають заданим умовам.\n",
        "Фільтрацію можна здійснювати за допомогою логічних операторів та булевих індексів, методів `.query()`, `.loc[]`, `.iloc[]`.\n",
        "\n",
        "## Використання логічних умов\n",
        "\n",
        "Для фільтрації за однією або декількома умовами можна використовувати логічні оператори (`&` для \"і\", `|` для \"або\", `~` для \"не\"). При цьому важливо обгортати кожну умову в круглі дужки. Наприклад, ми хочемо проаналізувати як рішення взяти страхування відрізняється між чоловіками різного віку. Переглянемо для початку, як розподілений вік чоловіків в наборі даних і порівняємо чоловіків віку між 25 і 75 перцентилями і решту."
      ]
    },
    {
      "cell_type": "code",
      "execution_count": null,
      "metadata": {
        "ExecuteTime": {
          "end_time": "2024-03-08T15:07:20.623918Z",
          "start_time": "2024-03-08T15:07:20.546882Z"
        },
        "id": "uf7Fi6QeEgcF",
        "scrolled": true
      },
      "outputs": [],
      "source": [
        "df[df.Gender =='Male'].Age.describe()"
      ]
    },
    {
      "cell_type": "code",
      "execution_count": null,
      "metadata": {
        "ExecuteTime": {
          "end_time": "2024-03-08T15:07:33.168018Z",
          "start_time": "2024-03-08T15:07:33.101480Z"
        },
        "id": "_dJ6vGA9EgcF"
      },
      "outputs": [],
      "source": [
        "df[df.Gender =='Female'].Age.describe()"
      ]
    },
    {
      "cell_type": "code",
      "execution_count": 45,
      "metadata": {
        "ExecuteTime": {
          "end_time": "2024-03-06T15:17:43.487653Z",
          "start_time": "2024-03-06T15:17:43.480989Z"
        },
        "id": "BLAlfwQ4EgcF"
      },
      "outputs": [
        {
          "data": {
            "text/plain": [
              "Index(['id', 'Gender', 'Age', 'Driving_License', 'Region_Code',\n",
              "       'Previously_Insured', 'Vehicle_Age', 'Vehicle_Damage', 'Annual_Premium',\n",
              "       'Policy_Sales_Channel', 'Vintage', 'Response'],\n",
              "      dtype='object')"
            ]
          },
          "execution_count": 45,
          "metadata": {},
          "output_type": "execute_result"
        }
      ],
      "source": [
        "df.columns"
      ]
    },
    {
      "cell_type": "code",
      "execution_count": null,
      "metadata": {
        "ExecuteTime": {
          "end_time": "2024-03-08T15:08:05.853894Z",
          "start_time": "2024-03-08T15:08:05.802913Z"
        },
        "id": "NPYiXGPJEgcF"
      },
      "outputs": [],
      "source": [
        "filter_1 = (df.Gender =='Male') & (df.Age >= 26) & (df.Age <= 52)\n",
        "df[filter_1].Response.value_counts(normalize=True)"
      ]
    },
    {
      "cell_type": "code",
      "execution_count": null,
      "metadata": {
        "ExecuteTime": {
          "end_time": "2024-03-08T15:10:04.882313Z",
          "start_time": "2024-03-08T15:10:04.823965Z"
        },
        "id": "D22qAXqIEgcG"
      },
      "outputs": [],
      "source": [
        "filter_2 = (df.Gender =='Male') & ((df.Age < 26) | (df.Age > 52))\n",
        "df[filter_2].Response.value_counts(normalize=True)"
      ]
    },
    {
      "cell_type": "markdown",
      "metadata": {
        "id": "9D6WL7yuEgcG"
      },
      "source": [
        "Можемо побачити, що група чоловіків молодша 26 і старша 52 майже вдвічі рідше дають позитивне рішенння щодо страхування авто."
      ]
    },
    {
      "cell_type": "markdown",
      "metadata": {
        "id": "0yGADVvlEgcG"
      },
      "source": [
        "## Метод `.query()`\n",
        "\n",
        "Метод `.query()` дозволяє виконувати фільтрацію, використовуючи рядкові вирази. Це може бути зручніше для складних умов фільтрації - тоді умова є компактнішою."
      ]
    },
    {
      "cell_type": "code",
      "execution_count": null,
      "metadata": {
        "ExecuteTime": {
          "end_time": "2024-03-08T15:11:37.478105Z",
          "start_time": "2024-03-08T15:11:37.421802Z"
        },
        "id": "T52mlD8cEgcG"
      },
      "outputs": [],
      "source": [
        "df.query('Gender == \"Male\" & Age >= 26 & Age <= 52').Response.value_counts(normalize=True)"
      ]
    },
    {
      "cell_type": "code",
      "execution_count": null,
      "metadata": {
        "ExecuteTime": {
          "end_time": "2024-03-08T15:11:58.589742Z",
          "start_time": "2024-03-08T15:11:58.536745Z"
        },
        "id": "rErSahkMEgcG"
      },
      "outputs": [],
      "source": [
        "df.query('Gender ==\"Male\" & ((Age < 26) | (Age > 52))').Response.value_counts(normalize=True)"
      ]
    },
    {
      "cell_type": "markdown",
      "metadata": {
        "ExecuteTime": {
          "end_time": "2024-03-05T16:22:08.533084Z",
          "start_time": "2024-03-05T16:22:08.530508Z"
        },
        "id": "C2bLJ39jEgcG"
      },
      "source": [
        "# Сортування даних"
      ]
    },
    {
      "cell_type": "markdown",
      "metadata": {
        "id": "o5fIFYymEgcG"
      },
      "source": [
        "DataFrame можна відсортувати за значенням однієї або декількох ознак (колонок)."
      ]
    },
    {
      "cell_type": "code",
      "execution_count": null,
      "metadata": {
        "ExecuteTime": {
          "end_time": "2024-03-08T17:52:28.045767Z",
          "start_time": "2024-03-08T17:52:27.778991Z"
        },
        "id": "dYnfXyuaEgcG"
      },
      "outputs": [],
      "source": [
        "df.sort_values(by=\"Age\", ascending=False).head()"
      ]
    },
    {
      "cell_type": "markdown",
      "metadata": {
        "id": "zOsMGWbiEgcG"
      },
      "source": [
        "Зверніть увагу на індекси. Вони розташувались в порядку сортування."
      ]
    },
    {
      "cell_type": "markdown",
      "metadata": {
        "id": "25eKm64EEgcH"
      },
      "source": [
        "Для сорутвання за кількома колонками - передаємо їх списком."
      ]
    },
    {
      "cell_type": "code",
      "execution_count": null,
      "metadata": {
        "ExecuteTime": {
          "end_time": "2024-03-08T17:53:20.423483Z",
          "start_time": "2024-03-08T17:53:20.188366Z"
        },
        "id": "wgklJqEbEgcH"
      },
      "outputs": [],
      "source": [
        "df.sort_values(by=[\"Age\", \"Annual_Premium\"], ascending=[True, False]).head()"
      ]
    },
    {
      "cell_type": "markdown",
      "metadata": {
        "id": "QxodTQRUEgcH"
      },
      "source": [
        "Можемо також впорядкувати назви колонок або індекси."
      ]
    },
    {
      "cell_type": "code",
      "execution_count": null,
      "metadata": {
        "ExecuteTime": {
          "end_time": "2024-03-08T17:54:25.858207Z",
          "start_time": "2024-03-08T17:54:25.804691Z"
        },
        "id": "GXUjXBlXEgcH"
      },
      "outputs": [],
      "source": [
        "df.sort_index(axis=1).head()"
      ]
    },
    {
      "cell_type": "markdown",
      "metadata": {
        "ExecuteTime": {
          "end_time": "2024-03-05T16:51:26.381561Z",
          "start_time": "2024-03-05T16:51:26.378504Z"
        },
        "id": "t87I9c23EgcI"
      },
      "source": [
        "# Створення колонок і операції над колонками"
      ]
    },
    {
      "cell_type": "markdown",
      "metadata": {
        "id": "uFCMb2mcEgcI"
      },
      "source": [
        "Створити колонку - дуже просто. Просто пропишіть її назву в квадратних дужках і надайте значення."
      ]
    },
    {
      "cell_type": "code",
      "execution_count": null,
      "metadata": {
        "ExecuteTime": {
          "end_time": "2024-03-08T17:55:13.895001Z",
          "start_time": "2024-03-08T17:55:13.890577Z"
        },
        "id": "IMWJtkrbEgcI"
      },
      "outputs": [],
      "source": [
        "df['New col'] = 3/10"
      ]
    },
    {
      "cell_type": "code",
      "execution_count": null,
      "metadata": {
        "ExecuteTime": {
          "end_time": "2024-03-08T17:55:14.307034Z",
          "start_time": "2024-03-08T17:55:14.299027Z"
        },
        "id": "oGwPqyOgEgcI"
      },
      "outputs": [],
      "source": [
        "df['New col']"
      ]
    },
    {
      "cell_type": "markdown",
      "metadata": {
        "id": "1HZuI8HJEgcI"
      },
      "source": [
        "Ви можете також задати значення для кожного рядка і таким чином визначити колонку."
      ]
    },
    {
      "cell_type": "code",
      "execution_count": null,
      "metadata": {
        "ExecuteTime": {
          "end_time": "2024-03-08T17:55:25.066532Z",
          "start_time": "2024-03-08T17:55:24.771135Z"
        },
        "id": "DO38Nud4EgcJ"
      },
      "outputs": [],
      "source": [
        "import random\n",
        "values = [random.choice([1,2,3]) for _ in range(len(df))]"
      ]
    },
    {
      "cell_type": "code",
      "execution_count": null,
      "metadata": {
        "ExecuteTime": {
          "end_time": "2024-03-08T17:56:15.565345Z",
          "start_time": "2024-03-08T17:56:15.439278Z"
        },
        "id": "KeSoKC1eEgcJ"
      },
      "outputs": [],
      "source": [
        "df['random_category'] = values"
      ]
    },
    {
      "cell_type": "markdown",
      "metadata": {
        "id": "zLssrpDbEgcJ"
      },
      "source": [
        "Ви можете створити колонку на базі значень іншої колонки."
      ]
    },
    {
      "cell_type": "code",
      "execution_count": null,
      "metadata": {
        "ExecuteTime": {
          "end_time": "2024-03-08T17:56:39.553789Z",
          "start_time": "2024-03-08T17:56:39.543995Z"
        },
        "id": "rea0eD34EgcK"
      },
      "outputs": [],
      "source": [
        "df['new_cat'] = df.random_category + 1"
      ]
    },
    {
      "cell_type": "code",
      "execution_count": null,
      "metadata": {
        "ExecuteTime": {
          "end_time": "2024-03-08T17:56:57.483962Z",
          "start_time": "2024-03-08T17:56:57.471420Z"
        },
        "id": "RAx_-1eUEgcK"
      },
      "outputs": [],
      "source": [
        "df[['new_cat', 'random_category']]"
      ]
    },
    {
      "cell_type": "markdown",
      "metadata": {
        "id": "cpqa3SViEgcK"
      },
      "source": [
        "Логіка може бути будь-якою, але якщо вона складніша за прості операції - використовуємо apply. Метод apply в бібліотеці Pandas використовується для застосування функції вздовж осі DataFrame або на Series. Цей метод дуже потужний і гнучкий, оскільки він дозволяє виконувати складні операції над рядками або колонками.\n",
        "\n",
        "Розглянемо простий приклад:"
      ]
    },
    {
      "cell_type": "code",
      "execution_count": null,
      "metadata": {
        "ExecuteTime": {
          "end_time": "2024-03-08T17:45:53.412530Z",
          "start_time": "2024-03-08T17:45:53.321471Z"
        },
        "id": "VBKpqAtCEgcK"
      },
      "outputs": [],
      "source": [
        "df['new_cat'] = df.random_category.apply(lambda x: 'Small' if x<=1 else 'Big' )"
      ]
    },
    {
      "cell_type": "code",
      "execution_count": null,
      "metadata": {
        "ExecuteTime": {
          "end_time": "2024-03-08T17:45:54.404821Z",
          "start_time": "2024-03-08T17:45:54.384849Z"
        },
        "id": "uZYHuWTuEgcK"
      },
      "outputs": [],
      "source": [
        "df[['random_category', 'new_cat']].head()"
      ]
    },
    {
      "cell_type": "markdown",
      "metadata": {
        "ExecuteTime": {
          "end_time": "2024-03-05T18:04:14.023649Z",
          "start_time": "2024-03-05T18:04:14.020836Z"
        },
        "id": "gvCCsojUEgcK"
      },
      "source": [
        "## Lambda"
      ]
    },
    {
      "cell_type": "markdown",
      "metadata": {
        "id": "vlAsyXvEEgcK"
      },
      "source": [
        "Тут ми передали в apply lambda.\n",
        "Lambda в Python - це анонімна функція, або функція без імені. Вона є маленькою і зазвичай використовується для виконання простих операцій або функцій одноразового використання, де не потрібно використовувати повноцінну функцію з визначенням `def`.\n",
        "\n",
        "Lambda функції в Python визначаються за допомогою ключового слова `lambda` і мають наступний синтаксис:\n",
        "\n",
        "```python\n",
        "lambda arguments: expression\n",
        "```\n",
        "\n",
        "Основні особливості lambda функцій:\n",
        "\n",
        "- Lambda функція може приймати будь-яку кількість аргументів, але може містити тільки один вираз.\n",
        "- Вираз обчислюється і повертається при виклику lambda функції.\n",
        "- Lambda функції можуть бути використані всюди, де вимагається об'єкт функції.\n",
        "- Вони часто використовуються як аргументи для функцій вищого порядку, які приймають функцію як аргумент (наприклад, `map()`, `filter()`, `apply()` в Pandas і т.д.).\n",
        "\n",
        "Приклад lambda функції, яка додає 10 до поданого їй числа:"
      ]
    },
    {
      "cell_type": "code",
      "execution_count": null,
      "metadata": {
        "ExecuteTime": {
          "end_time": "2024-03-08T17:46:38.535216Z",
          "start_time": "2024-03-08T17:46:38.527749Z"
        },
        "id": "_zwN5ByPEgcK"
      },
      "outputs": [],
      "source": [
        "add_ten = lambda x, y: x + y + 10\n",
        "print(add_ten(5,2))"
      ]
    },
    {
      "cell_type": "code",
      "execution_count": null,
      "metadata": {
        "ExecuteTime": {
          "end_time": "2024-03-08T17:47:15.654064Z",
          "start_time": "2024-03-08T17:47:15.650697Z"
        },
        "id": "3Bvhge-6EgcL"
      },
      "outputs": [],
      "source": [
        "my_lambda = lambda x: 'Small' if x<=1 else 'Big'"
      ]
    },
    {
      "cell_type": "code",
      "execution_count": null,
      "metadata": {
        "ExecuteTime": {
          "end_time": "2024-03-08T17:47:28.089954Z",
          "start_time": "2024-03-08T17:47:28.085494Z"
        },
        "id": "JSYNa5txEgcL"
      },
      "outputs": [],
      "source": [
        "my_lambda(5)"
      ]
    },
    {
      "cell_type": "markdown",
      "metadata": {
        "id": "VL74ETfOEgcL"
      },
      "source": [
        "Lambda функції можна використовувати без присвоєння їх змінній, наприклад, використовувати їх безпосередньо як аргументи інших функцій:"
      ]
    },
    {
      "cell_type": "code",
      "execution_count": null,
      "metadata": {
        "ExecuteTime": {
          "end_time": "2024-03-08T17:48:28.109561Z",
          "start_time": "2024-03-08T17:48:28.103458Z"
        },
        "id": "8l_pNg1XEgcL"
      },
      "outputs": [],
      "source": [
        "numbers = [1, 2, 3, 4, 5]\n",
        "squared = map(lambda x: x ** 2, numbers)\n",
        "print(list(squared))"
      ]
    },
    {
      "cell_type": "markdown",
      "metadata": {
        "id": "kt_ziocnEgcL"
      },
      "source": [
        "Lambda функції корисні, коли потрібна проста функція для короткого використання і не хочеться визначати повноцінну функцію за допомогою `def`."
      ]
    },
    {
      "cell_type": "markdown",
      "metadata": {
        "id": "kCffVKYfEgcL"
      },
      "source": [
        "## Передача функції в `apply`"
      ]
    },
    {
      "cell_type": "markdown",
      "metadata": {
        "id": "tLSMnhDQEgcL"
      },
      "source": [
        "Якщо ви не можете вмістити логіку в один рядок, пишемо функцію."
      ]
    },
    {
      "cell_type": "code",
      "execution_count": 19,
      "metadata": {
        "ExecuteTime": {
          "end_time": "2024-03-08T17:49:34.746527Z",
          "start_time": "2024-03-08T17:49:34.741781Z"
        },
        "id": "ktirHXewEgcL"
      },
      "outputs": [],
      "source": [
        "def category_mapping(val):\n",
        "    if val == 1:\n",
        "        return 'Small'\n",
        "    elif val == 2:  \n",
        "        return 'Medium'\n",
        "    else:\n",
        "        return 'Large'"
      ]
    },
    {
      "cell_type": "code",
      "execution_count": null,
      "metadata": {
        "ExecuteTime": {
          "end_time": "2024-03-08T17:49:48.237010Z",
          "start_time": "2024-03-08T17:49:48.098310Z"
        },
        "id": "XDBDJeTFEgcL"
      },
      "outputs": [],
      "source": [
        "df['new_cat'] = df.random_category.apply(lambda x: category_mapping(x))\n",
        "df[['random_category', 'new_cat']].head()"
      ]
    },
    {
      "cell_type": "markdown",
      "metadata": {
        "id": "nlVPMW9UEgcL"
      },
      "source": [
        "Можна ще спростити синтаксис. Насправді, lambda нам тут вже не треба."
      ]
    },
    {
      "cell_type": "code",
      "execution_count": null,
      "metadata": {
        "ExecuteTime": {
          "end_time": "2024-03-08T17:50:26.209260Z",
          "start_time": "2024-03-08T17:50:26.104712Z"
        },
        "id": "8AomqObiEgcL"
      },
      "outputs": [],
      "source": [
        "df['new_cat'] = df.random_category.apply(category_mapping)\n",
        "df[['random_category', 'new_cat']].head()"
      ]
    },
    {
      "cell_type": "markdown",
      "metadata": {
        "id": "zR7wfFrvEgcM"
      },
      "source": [
        "## Порівняння колонок"
      ]
    },
    {
      "cell_type": "markdown",
      "metadata": {
        "id": "G-ieghNnEgcM"
      },
      "source": [
        "Коли ви порівнюєте колонку в DataFrame з певним значенням, Pandas повертає Series типу `bool`, де кожне значення показує, чи відповідає елемент в колонці заданому критерію порівняння."
      ]
    },
    {
      "cell_type": "code",
      "execution_count": null,
      "metadata": {
        "ExecuteTime": {
          "end_time": "2024-03-08T17:51:34.409808Z",
          "start_time": "2024-03-08T17:51:34.372021Z"
        },
        "id": "y2YlOGt4EgcM"
      },
      "outputs": [],
      "source": [
        "df['new_cat'] != 'Small'"
      ]
    },
    {
      "cell_type": "markdown",
      "metadata": {
        "ExecuteTime": {
          "end_time": "2024-03-05T20:26:22.686740Z",
          "start_time": "2024-03-05T20:26:22.681748Z"
        },
        "id": "JZ2yrK8sEgcM"
      },
      "source": [
        "Цей підхід також застосовується при порівнянні колонок між собою, але операція порівняння буде виконана успішно лише якщо колонки мають однакову довжину."
      ]
    },
    {
      "cell_type": "code",
      "execution_count": null,
      "metadata": {
        "ExecuteTime": {
          "end_time": "2024-03-08T17:51:50.263059Z",
          "start_time": "2024-03-08T17:51:50.256504Z"
        },
        "id": "Lp5cLvJ_EgcM"
      },
      "outputs": [],
      "source": [
        "df['new_cat_duplicate'] = df['new_cat']"
      ]
    },
    {
      "cell_type": "code",
      "execution_count": null,
      "metadata": {
        "ExecuteTime": {
          "end_time": "2024-03-08T17:51:53.867111Z",
          "start_time": "2024-03-08T17:51:53.810770Z"
        },
        "id": "gEyC-4dUEgcM"
      },
      "outputs": [],
      "source": [
        "df['new_cat_duplicate'] == df['new_cat']"
      ]
    },
    {
      "cell_type": "markdown",
      "metadata": {
        "id": "zmX2bvzlEgcN"
      },
      "source": [
        "Аби отримати результат перевірки на рівність колонок, використовуємо спеціальний метод numpy alltrue."
      ]
    },
    {
      "cell_type": "code",
      "execution_count": null,
      "metadata": {
        "ExecuteTime": {
          "end_time": "2024-03-08T17:52:49.520203Z",
          "start_time": "2024-03-08T17:52:49.476211Z"
        },
        "id": "RzMpPWozEgcN"
      },
      "outputs": [],
      "source": [
        "np.alltrue(df['new_cat_duplicate'] == df['new_cat'])"
      ]
    },
    {
      "cell_type": "markdown",
      "metadata": {
        "id": "PYW9RxS2EgcN"
      },
      "source": [
        "АЛЕ! Числові (з дійсними числами) колонки так порівнювати не варто, тому що:"
      ]
    },
    {
      "cell_type": "code",
      "execution_count": null,
      "metadata": {
        "ExecuteTime": {
          "end_time": "2024-03-08T17:53:00.115524Z",
          "start_time": "2024-03-08T17:53:00.102384Z"
        },
        "id": "OF96ID5WEgcN"
      },
      "outputs": [],
      "source": [
        "(0.1 + 0.2) == 0.3"
      ]
    },
    {
      "cell_type": "markdown",
      "metadata": {
        "id": "2cd_VcN4EgcN"
      },
      "source": [
        "Це пов'язано з тим, як числа з плаваючою комою представлені в комп'ютерній пам'яті. Комп'ютери використовують двійкову систему числення для зберігання даних, і через це виникають складнощі з точним представленням деяких десяткових дробів. Точно в компʼютері представляються лише дійсні числа, які є результатом ділення чцілого числа на інше ціле, яке є степенем двійки."
      ]
    },
    {
      "cell_type": "markdown",
      "metadata": {
        "id": "HOTelEUkEgcN"
      },
      "source": [
        "Дійсні числа в двійковій системі представляються за допомогою формату, званого числом з плаваючою комою (floating-point). Стандарт IEEE 754 є найбільш використовуваним способом представлення дійсних чисел у комп'ютерних системах.\n",
        "\n",
        "\n",
        "\n",
        "Для тих, хто хоче дізнатись, чому так ...\n",
        "\n",
        "Ось як відбувається двійкове представлення дійсних чисел в памʼяті компʼютера:\n",
        "\n",
        "1. **Нормалізоване двійкове наукове записання:**\n",
        "   Спершу число представляється у вигляді наукового записання. Наприклад, десяткове число 123.45 може бути записане як \\(1.2345 \\times 10^2\\) у десятковому вигляді, і подібним чином, в двійковій системі це може бути щось на кшталт \\(1.1111011 \\times 2^6\\).\n",
        "\n",
        "2. **Розділення на складові:**\n",
        "   Число з плаваючою комою розділяється на три частини: знак, експонента, та мантиса (або значущі цифри).\n",
        "   \n",
        "   - **Знак (Sign):** Одиночний біт визначає знак числа: 0 для позитивних та 1 для негативних чисел.\n",
        "   - **Експонента (Exponent):** Використовується для визначення ступеня для основи 2. Часто експонента зберігається як \"зміщена\" (biased) величина, щоб можна було представляти як додатні, так і від'ємні степені.\n",
        "   - **Мантиса (Mantissa) або Дробова частина (Fraction):** Це власне цифри (біти) числа. У нормалізованому форматі перший біт (який завжди 1 у нормалізованому числі) часто опускається, тому що він завжди відомий, що дозволяє зекономити місце.\n",
        "\n",
        "3. **Приклад двійкового представлення:**\n",
        "   Якщо уявити число 0.85 у двійковій системі, воно буде мати нескінченне представлення. У двійковій формі це може виглядати як \\(0.11011100001...\\) та так далі. Оскільки комп'ютери обмежені кількістю бітів, що можуть зберігати числа, це число буде обрізане/округлене до певної кількості бітів.\n",
        "\n",
        "4. **Округлення:**\n",
        "   Оскільки збереження точного значення дійсних чисел часто неможливе, використовуються різні методи округлення, щоб максимально наблизитися до дійсного значення в межах доступних бітів.\n",
        "\n",
        "5. **Приклади використання:**\n",
        "   - **32-бітне числа з плаваючою комою (одинарна точність):** Має 1 біт для знаку, 8 бітів для експоненти, та 23\n",
        "\n",
        " біти для мантиси.\n",
        "   - **64-бітне числа з плаваючою комою (подвійна точність):** Має 1 біт для знаку, 11 бітів для експоненти, та 52 біти для мантиси.\n",
        "\n",
        "Через ці обмеження і специфіку представлення, числа з плаваючою комою в комп'ютері можуть мати проблеми з точністю, які важливо розуміти при виконанні обчислень, особливо тих, що накопичують помилки округлення.\n",
        "\n",
        "Можемо на практиці спостерігати такий ефект:"
      ]
    },
    {
      "cell_type": "code",
      "execution_count": null,
      "metadata": {
        "ExecuteTime": {
          "end_time": "2024-03-08T17:54:58.805627Z",
          "start_time": "2024-03-08T17:54:58.792830Z"
        },
        "id": "Ndc2xLmTEgcN"
      },
      "outputs": [],
      "source": [
        "df['float_const_col_1'] = 0.1\n",
        "df['float_const_col_2'] = 0.2\n",
        "df['float_const_col_3'] = 0.3\n"
      ]
    },
    {
      "cell_type": "code",
      "execution_count": null,
      "metadata": {
        "ExecuteTime": {
          "end_time": "2024-03-08T17:55:05.133923Z",
          "start_time": "2024-03-08T17:55:05.123772Z"
        },
        "id": "tfUipR4zEgcN"
      },
      "outputs": [],
      "source": [
        "np.alltrue(df['float_const_col_1'] + df['float_const_col_2'] == df['float_const_col_3'] )"
      ]
    },
    {
      "cell_type": "markdown",
      "metadata": {
        "id": "FlclkoZ3EgcO"
      },
      "source": [
        "Аби його уникнути, при порівнянні дійсних чисел використовуємо np.isclose!"
      ]
    },
    {
      "cell_type": "code",
      "execution_count": null,
      "metadata": {
        "ExecuteTime": {
          "end_time": "2024-03-08T17:55:57.383963Z",
          "start_time": "2024-03-08T17:55:57.369241Z"
        },
        "id": "8Sh27y-REgcO"
      },
      "outputs": [],
      "source": [
        "np.alltrue(np.isclose(df['float_const_col_1'] + df['float_const_col_2'] , df['float_const_col_3'] ))"
      ]
    },
    {
      "cell_type": "code",
      "execution_count": null,
      "metadata": {
        "ExecuteTime": {
          "end_time": "2024-03-08T17:55:37.022767Z",
          "start_time": "2024-03-08T17:55:37.012664Z"
        },
        "id": "DIzOXOrrEgcO"
      },
      "outputs": [],
      "source": [
        "np.isclose(0.1 + 0.2, 0.3)"
      ]
    },
    {
      "cell_type": "markdown",
      "metadata": {
        "ExecuteTime": {
          "end_time": "2024-03-05T20:14:27.691283Z",
          "start_time": "2024-03-05T20:14:27.688489Z"
        },
        "id": "3JfBms7BEgcO"
      },
      "source": [
        "## Перетворення типу колонки"
      ]
    },
    {
      "cell_type": "markdown",
      "metadata": {
        "id": "hE45JQj5EgcO"
      },
      "source": [
        "В бібліотеці Pandas для зміни типу даних (dtype) елементів об'єкта DataFrame або Series використовується метод `astype`.\n",
        "Це може бути корисно, коли ви хочете перетворити типи даних з одного типу в інший, наприклад, з `float` в `int`, з `object` (рядки в Pandas) в `category` для оптимізації пам'яті, або коли вам потрібно змусити числові дані, що були прочитані як рядки через наявність в даних помилок, повернутися до відповідного числового формату.\n",
        "\n",
        "**Синтаксис**\n",
        "\n",
        "```python\n",
        "DataFrame.astype(dtype, copy=True, errors='raise')\n",
        "```\n",
        "\n",
        "- `dtype`: це може бути Python тип, numpy тип, або словник, де ключами є імена колонок, а значеннями - нові типи даних для цих колонок.\n",
        "- `copy`: якщо `True`, повертає копію DataFrame, інакше (за можливості) змінює оригінальний DataFrame.\n",
        "- `errors`: керує тим, що робити, якщо перетворення викликає помилку. Значеннями можуть бути 'raise' (підняти помилку), 'ignore' (ігнорувати помилки і повернути оригінальний об'єкт)."
      ]
    },
    {
      "cell_type": "code",
      "execution_count": null,
      "metadata": {
        "ExecuteTime": {
          "end_time": "2024-03-08T17:58:09.930447Z",
          "start_time": "2024-03-08T17:58:09.925261Z"
        },
        "id": "P182jQkXEgcO"
      },
      "outputs": [],
      "source": [
        "df.random_category.head()"
      ]
    },
    {
      "cell_type": "code",
      "execution_count": null,
      "metadata": {
        "ExecuteTime": {
          "end_time": "2024-03-08T17:58:20.895934Z",
          "start_time": "2024-03-08T17:58:20.676957Z"
        },
        "id": "o_kL3l2bEgcO"
      },
      "outputs": [],
      "source": [
        "df['random_category_str'] = df.random_category.astype(str)"
      ]
    },
    {
      "cell_type": "code",
      "execution_count": null,
      "metadata": {
        "ExecuteTime": {
          "end_time": "2024-03-08T17:58:22.413718Z",
          "start_time": "2024-03-08T17:58:22.392765Z"
        },
        "id": "ZLMCzzKDEgcP"
      },
      "outputs": [],
      "source": [
        "df[['random_category', 'random_category_str']].dtypes"
      ]
    },
    {
      "cell_type": "code",
      "execution_count": null,
      "metadata": {
        "ExecuteTime": {
          "end_time": "2024-03-08T17:58:47.533230Z",
          "start_time": "2024-03-08T17:58:47.527087Z"
        },
        "id": "hMEj5D5zEgcP"
      },
      "outputs": [],
      "source": [
        "type(df.random_category_str.loc[0])"
      ]
    },
    {
      "cell_type": "markdown",
      "metadata": {
        "ExecuteTime": {
          "end_time": "2024-03-05T20:21:02.645784Z",
          "start_time": "2024-03-05T20:21:02.638545Z"
        },
        "id": "JQS6ksvgEgcP"
      },
      "source": [
        "Тип даних `category` в Pandas — це спеціалізований тип даних для зберігання категоріальних даних. Категоріальні дані визначаються наявністю обмеженої кількості унікальних значень замість неперервного спектру значень. Цей тип даних є особливо корисним для аналізу даних, оскільки він може значно зменшити використання пам'яті, особливо коли категорій небагато порівняно з загальною кількістю спостережень, і може покращити продуктивність деяких операцій.\n",
        "\n",
        "**Особливості типу `category`**\n",
        "\n",
        "- **Ефективність використання пам'яті:** Зберігаючи дані як `category`, Pandas використовує менше пам'яті, особливо коли категорій мало порівняно з кількістю рядків. Всі унікальні значення зберігаються лише один раз, а в самому DataFrame або Series зберігається лише коди для кожного спостереження.\n",
        "- **Покращена продуктивність:** Деякі операції, такі як сортування, групування або виконання агрегацій, можуть працювати швидше на категоріальних даних через оптимізоване внутрішнє представлення.\n",
        "- **Логічне впорядкування:** Категоріальні дані можуть мати впорядкований (наприклад, \"низький\", \"середній\", \"високий\") або невпорядкований характер. Впорядковані категорії дозволяють виконувати порівняння.\n",
        "- **Підтримка категоріальних операцій:** Тип `category` дозволяє виконувати специфічні для категорій операції, такі як переіменування категорій, об'єднання категорій, встановлення порядку тощо."
      ]
    },
    {
      "cell_type": "code",
      "execution_count": null,
      "metadata": {
        "ExecuteTime": {
          "end_time": "2024-03-08T17:59:20.409490Z",
          "start_time": "2024-03-08T17:59:20.363675Z"
        },
        "id": "tbRYxYHfEgcP"
      },
      "outputs": [],
      "source": [
        "df['new_cat_cat'] = df.new_cat.astype('category')"
      ]
    },
    {
      "cell_type": "code",
      "execution_count": null,
      "metadata": {
        "ExecuteTime": {
          "end_time": "2024-03-08T17:59:57.463764Z",
          "start_time": "2024-03-08T17:59:57.399218Z"
        },
        "id": "d6W2l9q3EgcP"
      },
      "outputs": [],
      "source": [
        "df['new_cat_cat']"
      ]
    },
    {
      "cell_type": "markdown",
      "metadata": {
        "id": "x8UNCOn-EgcP"
      },
      "source": [
        "У цьому прикладі стовпець `color` містить повторювані значення, і перетворення його на тип `category` зменшить використання пам'яті, зберігши кожне унікальне значення лише один раз та використовуючи цілочисельні коди для представлення кожного спостереження в стовпці. Порівняти використання памʼяті ми вже вміємо."
      ]
    },
    {
      "cell_type": "code",
      "execution_count": null,
      "metadata": {
        "ExecuteTime": {
          "end_time": "2024-03-08T18:00:53.296936Z",
          "start_time": "2024-03-08T18:00:53.272759Z"
        },
        "id": "XSDccuqjEgcP"
      },
      "outputs": [],
      "source": [
        "df[['new_cat_cat', 'new_cat']].memory_usage()"
      ]
    },
    {
      "cell_type": "markdown",
      "metadata": {
        "id": "5GlSa2o6EgcP"
      },
      "source": [
        "## Агрегаційні операції над колонками"
      ]
    },
    {
      "cell_type": "markdown",
      "metadata": {
        "id": "FxSrRy5wEgcQ"
      },
      "source": [
        "Агрегаційні операції в Pandas використовуються для обчислення статистичних показників з даних, які містяться у DataFrame або Series. Ці операції дозволяють підсумувати велику кількість даних в одне значення, яке надає інформацію про групу даних загалом. Деякі з найбільш використовуваних агрегаційних функцій включають `mean()` для обчислення середнього, `sum()` для суми, `min()` і `max()` для мінімального і максимального значення, відповідно, а також `count()`, `std()` (стандартне відхилення), і `var()` (дисперсія).\n",
        "\n",
        "Коли використовуються агрегаційні функції, вони можуть застосовуватися як до цілого DataFrame, так і до окремих колонок.\n",
        "\n",
        "Наприклад, давайте обчислимо, який середній вік і стандартне відхилення віку в наборі даних?"
      ]
    },
    {
      "cell_type": "code",
      "execution_count": null,
      "metadata": {
        "ExecuteTime": {
          "end_time": "2024-03-08T18:02:28.752748Z",
          "start_time": "2024-03-08T18:02:28.729255Z"
        },
        "id": "AMSZpS3IEgcQ"
      },
      "outputs": [],
      "source": [
        "df.Age.mean(), df.Age.std()"
      ]
    },
    {
      "cell_type": "markdown",
      "metadata": {
        "id": "4BC8cEH7EgcQ"
      },
      "source": [
        "Аналогічно, ми можемо використати агрегаційну функцію одразу до кількох колонок (до всіх, або вибірки)."
      ]
    },
    {
      "cell_type": "code",
      "execution_count": null,
      "metadata": {
        "ExecuteTime": {
          "end_time": "2024-03-08T18:02:41.124347Z",
          "start_time": "2024-03-08T18:02:41.104258Z"
        },
        "id": "6sXaM4V7EgcQ"
      },
      "outputs": [],
      "source": [
        "df[['Age', 'Response']].mean()"
      ]
    },
    {
      "cell_type": "code",
      "execution_count": null,
      "metadata": {
        "ExecuteTime": {
          "end_time": "2024-03-08T18:02:52.269928Z",
          "start_time": "2024-03-08T18:02:52.235579Z"
        },
        "id": "G4xTGOimEgcQ"
      },
      "outputs": [],
      "source": [
        "df[['Age', 'Response']].mode()"
      ]
    },
    {
      "cell_type": "markdown",
      "metadata": {
        "id": "Ld_-S8KSEgcQ"
      },
      "source": [
        "Перелік всіх методів колонок можна знайти тут\n",
        "https://pandas.pydata.org/pandas-docs/stable/reference/groupby.html#seriesgroupby-computations-descriptive-stats\n",
        "\n",
        "Приклад \"менш стандартного\" метода колонки:"
      ]
    },
    {
      "cell_type": "code",
      "execution_count": null,
      "metadata": {
        "ExecuteTime": {
          "end_time": "2024-03-08T18:03:32.088413Z",
          "start_time": "2024-03-08T18:03:32.059486Z"
        },
        "id": "uoIT9F9VEgcR"
      },
      "outputs": [],
      "source": [
        "df.Age.nlargest(4)"
      ]
    },
    {
      "cell_type": "markdown",
      "metadata": {
        "id": "hnbm1nQbEgcR"
      },
      "source": [
        "## Використання методу `agg()`\n",
        "\n",
        "Метод `agg()` дозволяє застосувати кілька агрегаційних функцій одночасно до DataFrame або до окремих колонок. Це може бути особливо корисно для отримання різних статистичних показників одночасно."
      ]
    },
    {
      "cell_type": "code",
      "execution_count": null,
      "metadata": {
        "ExecuteTime": {
          "end_time": "2024-03-08T18:03:55.498645Z",
          "start_time": "2024-03-08T18:03:55.472363Z"
        },
        "id": "Q_zu9R0LEgcR"
      },
      "outputs": [],
      "source": [
        "df[['Age', 'Response']].agg(['mean', 'min', 'max']).round(3)"
      ]
    },
    {
      "cell_type": "markdown",
      "metadata": {
        "id": "rPfnpABrEgcR"
      },
      "source": [
        "# Видалення колонок"
      ]
    },
    {
      "cell_type": "markdown",
      "metadata": {
        "id": "MkGFhLy-EgcR"
      },
      "source": [
        "Видалити колонку так само просто - використовуємо метод drop."
      ]
    },
    {
      "cell_type": "code",
      "execution_count": null,
      "metadata": {
        "ExecuteTime": {
          "end_time": "2024-03-08T18:04:22.832011Z",
          "start_time": "2024-03-08T18:04:22.716411Z"
        },
        "id": "jtiJp2D6EgcR"
      },
      "outputs": [],
      "source": [
        "df.drop(columns=['random_category'])"
      ]
    },
    {
      "cell_type": "markdown",
      "metadata": {
        "ExecuteTime": {
          "end_time": "2024-03-05T17:53:54.966284Z",
          "start_time": "2024-03-05T17:53:54.961541Z"
        },
        "id": "Ed7_0L9CEgcR"
      },
      "source": [
        "Зверніть увагу! Метод повернув нам датафрейм. Це означає, що оригінальний датафрейм не був змінений і колонка ще на місці.\n",
        "Якщо ви хочете одразу внести зміни - використайте аргумент `inplace=True`. Інша опція - записати зміни в нову змінну."
      ]
    },
    {
      "cell_type": "code",
      "execution_count": null,
      "metadata": {
        "ExecuteTime": {
          "end_time": "2024-03-08T18:04:56.197322Z",
          "start_time": "2024-03-08T18:04:56.120534Z"
        },
        "id": "e7pNuVIdEgcR"
      },
      "outputs": [],
      "source": [
        "new_df = df.drop(columns=['random_category'])"
      ]
    },
    {
      "cell_type": "code",
      "execution_count": null,
      "metadata": {
        "ExecuteTime": {
          "end_time": "2024-03-08T18:05:06.495242Z",
          "start_time": "2024-03-08T18:05:06.488998Z"
        },
        "id": "rf_orpqFEgcR"
      },
      "outputs": [],
      "source": [
        "new_df.columns, df.columns"
      ]
    },
    {
      "cell_type": "code",
      "execution_count": null,
      "metadata": {
        "ExecuteTime": {
          "end_time": "2024-03-08T18:05:28.551761Z",
          "start_time": "2024-03-08T18:05:28.461843Z"
        },
        "id": "J7wRsK1HEgcR"
      },
      "outputs": [],
      "source": [
        " df.drop(columns=['random_category'], inplace=True)"
      ]
    },
    {
      "cell_type": "code",
      "execution_count": null,
      "metadata": {
        "ExecuteTime": {
          "end_time": "2024-03-08T18:05:29.672347Z",
          "start_time": "2024-03-08T18:05:29.665504Z"
        },
        "id": "k_1BAxRyEgcS",
        "scrolled": true
      },
      "outputs": [],
      "source": [
        "df.columns"
      ]
    },
    {
      "cell_type": "markdown",
      "metadata": {
        "ExecuteTime": {
          "end_time": "2024-03-05T20:03:39.094006Z",
          "start_time": "2024-03-05T20:03:39.087628Z"
        },
        "id": "Ee4I8u5hEgcS"
      },
      "source": [
        "До речі, в pandas є аргумент в деяких функціях `axis=1`, який завжди каже про те, що операції будуть виконуватись на рівні колонок. За замовченням у нас завжди операції виконуються на рівні рядочків (`axis=0`).\n",
        "Наприклад, так видалення не справцює, бо перший аргумент  df.drop() - це лейбл індекса, а пошук лейбла іде за індексами рядків за замовченням і там такого немає."
      ]
    },
    {
      "cell_type": "code",
      "execution_count": null,
      "metadata": {
        "ExecuteTime": {
          "end_time": "2024-03-08T23:02:04.734053Z",
          "start_time": "2024-03-08T23:02:02.096691Z"
        },
        "id": "tyCPM6TYEgcS"
      },
      "outputs": [],
      "source": [
        "df.drop('Annual_Premium').head()"
      ]
    },
    {
      "cell_type": "code",
      "execution_count": null,
      "metadata": {
        "ExecuteTime": {
          "end_time": "2024-03-08T23:02:46.461131Z",
          "start_time": "2024-03-08T23:02:46.365145Z"
        },
        "id": "if7ww0HQEgcS"
      },
      "outputs": [],
      "source": [
        "# а так спрацює, бо є відповідний індекс в рядках\n",
        "df.drop([0,1,4]).head()"
      ]
    },
    {
      "cell_type": "code",
      "execution_count": null,
      "metadata": {
        "ExecuteTime": {
          "end_time": "2024-03-08T23:03:16.120967Z",
          "start_time": "2024-03-08T23:03:16.036274Z"
        },
        "id": "cRWH2p_rEgcS"
      },
      "outputs": [],
      "source": [
        "# тож, аби видалити колонку, або зазначаємо аргумент columns=, або вказуємо axis=1\n",
        "df.drop('Annual_Premium', axis=1).head()"
      ]
    },
    {
      "cell_type": "markdown",
      "metadata": {
        "id": "PKbQC9MAEgcS"
      },
      "source": [
        "Аналогічно з усіма операціями, які можуть бути виконані як над рядками, так і над колонками.\n",
        "Наприклад, якщо ми хочемо зробити обчислення використовуючи кілька колонок, а не одну - завжди треба зазначати axis=1."
      ]
    },
    {
      "cell_type": "code",
      "execution_count": null,
      "metadata": {
        "ExecuteTime": {
          "end_time": "2024-03-08T23:04:52.063136Z",
          "start_time": "2024-03-08T23:04:52.057716Z"
        },
        "id": "HOJIsWAtEgcS"
      },
      "outputs": [],
      "source": [
        "df.columns"
      ]
    },
    {
      "cell_type": "code",
      "execution_count": null,
      "metadata": {
        "ExecuteTime": {
          "end_time": "2024-03-08T23:06:21.731262Z",
          "start_time": "2024-03-08T23:06:21.728403Z"
        },
        "id": "CgQwCmttEgcV"
      },
      "outputs": [],
      "source": [
        "def multicol_calculation(row):\n",
        "    return row['Age'] - row['Vintage']/365"
      ]
    },
    {
      "cell_type": "code",
      "execution_count": null,
      "metadata": {
        "ExecuteTime": {
          "end_time": "2024-03-08T23:06:28.393010Z",
          "start_time": "2024-03-08T23:06:24.353124Z"
        },
        "id": "VUDxAQFBEgcW"
      },
      "outputs": [],
      "source": [
        "df['complex_calcl_col'] = df.apply(multicol_calculation, axis=1)"
      ]
    },
    {
      "cell_type": "code",
      "execution_count": null,
      "metadata": {
        "ExecuteTime": {
          "end_time": "2024-03-08T23:06:43.108472Z",
          "start_time": "2024-03-08T23:06:43.101132Z"
        },
        "id": "32-dLSCiEgcW"
      },
      "outputs": [],
      "source": [
        "df['complex_calcl_col']"
      ]
    },
    {
      "cell_type": "markdown",
      "metadata": {
        "id": "IPw2yT_DEgcW"
      },
      "source": [
        "# Запис датафрейма у файл"
      ]
    },
    {
      "cell_type": "markdown",
      "metadata": {
        "id": "PRWl461NEgcW"
      },
      "source": [
        "Записувати датафрейм ми можемо в різні формати. Найчастіше ви будете записувати його в csv."
      ]
    },
    {
      "cell_type": "code",
      "execution_count": null,
      "metadata": {
        "ExecuteTime": {
          "end_time": "2024-03-08T23:10:20.280333Z",
          "start_time": "2024-03-08T23:10:20.065341Z"
        },
        "id": "wv_vSmYhEgcW"
      },
      "outputs": [],
      "source": [
        "df.sort_values('Age')[:10].to_csv('res_lecture_3.csv')"
      ]
    },
    {
      "cell_type": "code",
      "execution_count": null,
      "metadata": {
        "ExecuteTime": {
          "end_time": "2024-03-08T23:10:31.349067Z",
          "start_time": "2024-03-08T23:10:31.314864Z"
        },
        "id": "jm6ZKPEDEgcW"
      },
      "outputs": [],
      "source": [
        "pd.read_csv('res_lecture_3.csv', index_col=0)"
      ]
    },
    {
      "cell_type": "markdown",
      "metadata": {
        "id": "C8cZyz5JEgcX"
      },
      "source": [
        "Аби не записувалась колонка з індексом, пишемо наступним чином"
      ]
    },
    {
      "cell_type": "code",
      "execution_count": null,
      "metadata": {
        "ExecuteTime": {
          "end_time": "2024-03-08T23:09:21.460383Z",
          "start_time": "2024-03-08T23:09:17.482915Z"
        },
        "id": "Zu_CNEgwEgcX"
      },
      "outputs": [],
      "source": [
        "df.to_csv('res_lecture_3.csv', index=False)"
      ]
    },
    {
      "cell_type": "code",
      "execution_count": null,
      "metadata": {
        "ExecuteTime": {
          "end_time": "2024-03-08T23:09:32.311110Z",
          "start_time": "2024-03-08T23:09:32.280834Z"
        },
        "id": "lCFGXjpPEgcX"
      },
      "outputs": [],
      "source": [
        "pd.read_csv('res_lecture_3.csv', nrows=5)"
      ]
    }
  ],
  "metadata": {
    "anaconda-cloud": {},
    "colab": {
      "provenance": []
    },
    "kernelspec": {
      "display_name": "Python 3 (ipykernel)",
      "language": "python",
      "name": "python3"
    },
    "language_info": {
      "codemirror_mode": {
        "name": "ipython",
        "version": 3
      },
      "file_extension": ".py",
      "mimetype": "text/x-python",
      "name": "python",
      "nbconvert_exporter": "python",
      "pygments_lexer": "ipython3",
      "version": "3.12.3"
    },
    "name": "seminar02_part2_pandas.ipynb",
    "toc": {
      "base_numbering": 1,
      "nav_menu": {},
      "number_sections": true,
      "sideBar": true,
      "skip_h1_title": false,
      "title_cell": "Table of Contents",
      "title_sidebar": "Contents",
      "toc_cell": false,
      "toc_position": {
        "height": "calc(100% - 180px)",
        "left": "10px",
        "top": "150px",
        "width": "309.219px"
      },
      "toc_section_display": true,
      "toc_window_display": false
    }
  },
  "nbformat": 4,
  "nbformat_minor": 0
}

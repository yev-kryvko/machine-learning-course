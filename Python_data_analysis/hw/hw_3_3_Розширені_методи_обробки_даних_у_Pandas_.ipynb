{
  "cells": [
    {
      "cell_type": "markdown",
      "metadata": {
        "id": "wF6xe36Osbxi"
      },
      "source": [
        "# Домашнє завдання до теми \"Розширені методи обробки даних у Pandas\""
      ]
    },
    {
      "cell_type": "markdown",
      "metadata": {
        "id": "Fa2CIJElO3L3"
      },
      "source": [
        "В цьому домашньому завданні продовжуємо працювати з набором даних `supermarket_sales.csv`."
      ]
    },
    {
      "cell_type": "markdown",
      "metadata": {
        "id": "z0F_6xB-DQi7"
      },
      "source": [
        "0. Імпортуйте бібліотеку pandas та зчитайте дані у змінну `df` типу `pandas.DataFrame`."
      ]
    },
    {
      "cell_type": "code",
      "execution_count": 1,
      "metadata": {
        "id": "-4jR3F-rDQi7"
      },
      "outputs": [],
      "source": [
        "import pandas as pd\n",
        "import sys\n",
        "\n",
        "sys.path.insert(0, '../../utils')\n",
        "from google_drive_utils import get_download_url\n"
      ]
    },
    {
      "cell_type": "code",
      "execution_count": 2,
      "metadata": {},
      "outputs": [],
      "source": [
        "data_url = 'https://drive.google.com/file/d/1BxCDGcoPO08q65NBLCSsJOeIGet-b4dR/view?usp=sharing'\n",
        "download_url = get_download_url(data_url)\n",
        "\n",
        "df = pd.read_csv(download_url)"
      ]
    },
    {
      "cell_type": "markdown",
      "metadata": {
        "id": "hH26_h5wOLfj"
      },
      "source": [
        "1. Відсортуйте дані за спаданням ціни товара ('Unit price') і виведіть 5 перших рядочків на екран."
      ]
    },
    {
      "cell_type": "code",
      "execution_count": 5,
      "metadata": {
        "id": "C_CMIujQN9s6"
      },
      "outputs": [
        {
          "data": {
            "text/html": [
              "<div>\n",
              "<style scoped>\n",
              "    .dataframe tbody tr th:only-of-type {\n",
              "        vertical-align: middle;\n",
              "    }\n",
              "\n",
              "    .dataframe tbody tr th {\n",
              "        vertical-align: top;\n",
              "    }\n",
              "\n",
              "    .dataframe thead th {\n",
              "        text-align: right;\n",
              "    }\n",
              "</style>\n",
              "<table border=\"1\" class=\"dataframe\">\n",
              "  <thead>\n",
              "    <tr style=\"text-align: right;\">\n",
              "      <th></th>\n",
              "      <th>Invoice ID</th>\n",
              "      <th>Branch</th>\n",
              "      <th>City</th>\n",
              "      <th>Customer type</th>\n",
              "      <th>Gender</th>\n",
              "      <th>Product line</th>\n",
              "      <th>Unit price</th>\n",
              "      <th>Quantity</th>\n",
              "      <th>Tax 5%</th>\n",
              "      <th>Total</th>\n",
              "      <th>Date</th>\n",
              "      <th>Time</th>\n",
              "      <th>Payment</th>\n",
              "      <th>cogs</th>\n",
              "      <th>gross margin percentage</th>\n",
              "      <th>gross income</th>\n",
              "      <th>Rating</th>\n",
              "    </tr>\n",
              "  </thead>\n",
              "  <tbody>\n",
              "    <tr>\n",
              "      <th>983</th>\n",
              "      <td>148-41-7930</td>\n",
              "      <td>C</td>\n",
              "      <td>Naypyitaw</td>\n",
              "      <td>Normal</td>\n",
              "      <td>Male</td>\n",
              "      <td>Health and beauty</td>\n",
              "      <td>99.96</td>\n",
              "      <td>7</td>\n",
              "      <td>34.986</td>\n",
              "      <td>734.706</td>\n",
              "      <td>1/23/2019</td>\n",
              "      <td>10:33</td>\n",
              "      <td>Cash</td>\n",
              "      <td>699.72</td>\n",
              "      <td>4.761905</td>\n",
              "      <td>34.986</td>\n",
              "      <td>6.1</td>\n",
              "    </tr>\n",
              "    <tr>\n",
              "      <th>122</th>\n",
              "      <td>219-22-9386</td>\n",
              "      <td>B</td>\n",
              "      <td>Mandalay</td>\n",
              "      <td>Member</td>\n",
              "      <td>Male</td>\n",
              "      <td>Sports and travel</td>\n",
              "      <td>99.96</td>\n",
              "      <td>9</td>\n",
              "      <td>44.982</td>\n",
              "      <td>944.622</td>\n",
              "      <td>3/9/2019</td>\n",
              "      <td>17:26</td>\n",
              "      <td>Credit card</td>\n",
              "      <td>899.64</td>\n",
              "      <td>4.761905</td>\n",
              "      <td>44.982</td>\n",
              "      <td>4.2</td>\n",
              "    </tr>\n",
              "    <tr>\n",
              "      <th>930</th>\n",
              "      <td>641-62-7288</td>\n",
              "      <td>B</td>\n",
              "      <td>Mandalay</td>\n",
              "      <td>Normal</td>\n",
              "      <td>Male</td>\n",
              "      <td>Home and lifestyle</td>\n",
              "      <td>99.92</td>\n",
              "      <td>6</td>\n",
              "      <td>29.976</td>\n",
              "      <td>629.496</td>\n",
              "      <td>3/24/2019</td>\n",
              "      <td>13:33</td>\n",
              "      <td>Ewallet</td>\n",
              "      <td>599.52</td>\n",
              "      <td>4.761905</td>\n",
              "      <td>29.976</td>\n",
              "      <td>7.1</td>\n",
              "    </tr>\n",
              "    <tr>\n",
              "      <th>494</th>\n",
              "      <td>437-53-3084</td>\n",
              "      <td>B</td>\n",
              "      <td>Mandalay</td>\n",
              "      <td>Normal</td>\n",
              "      <td>Male</td>\n",
              "      <td>Fashion accessories</td>\n",
              "      <td>99.89</td>\n",
              "      <td>2</td>\n",
              "      <td>9.989</td>\n",
              "      <td>209.769</td>\n",
              "      <td>2/26/2019</td>\n",
              "      <td>11:48</td>\n",
              "      <td>Ewallet</td>\n",
              "      <td>199.78</td>\n",
              "      <td>4.761905</td>\n",
              "      <td>9.989</td>\n",
              "      <td>7.1</td>\n",
              "    </tr>\n",
              "    <tr>\n",
              "      <th>283</th>\n",
              "      <td>667-92-0055</td>\n",
              "      <td>A</td>\n",
              "      <td>Yangon</td>\n",
              "      <td>Member</td>\n",
              "      <td>Male</td>\n",
              "      <td>Health and beauty</td>\n",
              "      <td>99.83</td>\n",
              "      <td>6</td>\n",
              "      <td>29.949</td>\n",
              "      <td>628.929</td>\n",
              "      <td>3/4/2019</td>\n",
              "      <td>15:02</td>\n",
              "      <td>Ewallet</td>\n",
              "      <td>598.98</td>\n",
              "      <td>4.761905</td>\n",
              "      <td>29.949</td>\n",
              "      <td>8.5</td>\n",
              "    </tr>\n",
              "  </tbody>\n",
              "</table>\n",
              "</div>"
            ],
            "text/plain": [
              "      Invoice ID Branch       City Customer type Gender         Product line  \\\n",
              "983  148-41-7930      C  Naypyitaw        Normal   Male    Health and beauty   \n",
              "122  219-22-9386      B   Mandalay        Member   Male    Sports and travel   \n",
              "930  641-62-7288      B   Mandalay        Normal   Male   Home and lifestyle   \n",
              "494  437-53-3084      B   Mandalay        Normal   Male  Fashion accessories   \n",
              "283  667-92-0055      A     Yangon        Member   Male    Health and beauty   \n",
              "\n",
              "     Unit price  Quantity  Tax 5%    Total       Date   Time      Payment  \\\n",
              "983       99.96         7  34.986  734.706  1/23/2019  10:33         Cash   \n",
              "122       99.96         9  44.982  944.622   3/9/2019  17:26  Credit card   \n",
              "930       99.92         6  29.976  629.496  3/24/2019  13:33      Ewallet   \n",
              "494       99.89         2   9.989  209.769  2/26/2019  11:48      Ewallet   \n",
              "283       99.83         6  29.949  628.929   3/4/2019  15:02      Ewallet   \n",
              "\n",
              "       cogs  gross margin percentage  gross income  Rating  \n",
              "983  699.72                 4.761905        34.986     6.1  \n",
              "122  899.64                 4.761905        44.982     4.2  \n",
              "930  599.52                 4.761905        29.976     7.1  \n",
              "494  199.78                 4.761905         9.989     7.1  \n",
              "283  598.98                 4.761905        29.949     8.5  "
            ]
          },
          "execution_count": 5,
          "metadata": {},
          "output_type": "execute_result"
        }
      ],
      "source": [
        "df.sort_values(by='Unit price', ascending=False).head()"
      ]
    },
    {
      "cell_type": "markdown",
      "metadata": {
        "id": "H7IyOIfIONXy"
      },
      "source": [
        "2. Знайдіть інвойс (рядок в даних) в категорії товарів Electronic accessories, в якому був куплений товар з найбільшою кількістю і найбільшою ціною. Виведіть цей рядок даних на екран."
      ]
    },
    {
      "cell_type": "code",
      "execution_count": 15,
      "metadata": {
        "id": "rHtk3rXoNHr5"
      },
      "outputs": [
        {
          "data": {
            "text/plain": [
              "Invoice ID                            704-48-3927\n",
              "Branch                                          A\n",
              "City                                       Yangon\n",
              "Customer type                              Member\n",
              "Gender                                       Male\n",
              "Product line               Electronic accessories\n",
              "Unit price                                  88.67\n",
              "Quantity                                       10\n",
              "Tax 5%                                     44.335\n",
              "Total                                     931.035\n",
              "Date                                    1/12/2019\n",
              "Time                                        14:50\n",
              "Payment                                   Ewallet\n",
              "cogs                                        886.7\n",
              "gross margin percentage                  4.761905\n",
              "gross income                               44.335\n",
              "Rating                                        7.3\n",
              "Name: 105, dtype: object"
            ]
          },
          "execution_count": 15,
          "metadata": {},
          "output_type": "execute_result"
        }
      ],
      "source": [
        "df[df['Product line'] == 'Electronic accessories'].sort_values(by = ['Quantity', 'Unit price'], ascending=False).iloc[0]"
      ]
    },
    {
      "cell_type": "markdown",
      "metadata": {
        "id": "n2iSihPRDHvv"
      },
      "source": [
        "3.1. Створіть нову колонку в даних `Rating Category`, яка визначає категорію рейтингу: високий, середній чи низький за наступним правилом:\n",
        "- якщо рейтинг вищий або рівний 8 - то він високий (`High`)\n",
        "- якщо рейтинг від 6 до 8 не включаючи - то він середній (`Medium`)\n",
        "- інакше - низький (`Low`)."
      ]
    },
    {
      "cell_type": "code",
      "execution_count": 21,
      "metadata": {
        "id": "WfYpk_VdD_sI"
      },
      "outputs": [
        {
          "data": {
            "text/html": [
              "<div>\n",
              "<style scoped>\n",
              "    .dataframe tbody tr th:only-of-type {\n",
              "        vertical-align: middle;\n",
              "    }\n",
              "\n",
              "    .dataframe tbody tr th {\n",
              "        vertical-align: top;\n",
              "    }\n",
              "\n",
              "    .dataframe thead th {\n",
              "        text-align: right;\n",
              "    }\n",
              "</style>\n",
              "<table border=\"1\" class=\"dataframe\">\n",
              "  <thead>\n",
              "    <tr style=\"text-align: right;\">\n",
              "      <th></th>\n",
              "      <th>Rating</th>\n",
              "      <th>Rating Category</th>\n",
              "    </tr>\n",
              "  </thead>\n",
              "  <tbody>\n",
              "    <tr>\n",
              "      <th>328</th>\n",
              "      <td>4.0</td>\n",
              "      <td>Low</td>\n",
              "    </tr>\n",
              "    <tr>\n",
              "      <th>848</th>\n",
              "      <td>4.0</td>\n",
              "      <td>Low</td>\n",
              "    </tr>\n",
              "    <tr>\n",
              "      <th>72</th>\n",
              "      <td>4.0</td>\n",
              "      <td>Low</td>\n",
              "    </tr>\n",
              "    <tr>\n",
              "      <th>379</th>\n",
              "      <td>4.0</td>\n",
              "      <td>Low</td>\n",
              "    </tr>\n",
              "    <tr>\n",
              "      <th>618</th>\n",
              "      <td>4.0</td>\n",
              "      <td>Low</td>\n",
              "    </tr>\n",
              "    <tr>\n",
              "      <th>...</th>\n",
              "      <td>...</td>\n",
              "      <td>...</td>\n",
              "    </tr>\n",
              "    <tr>\n",
              "      <th>735</th>\n",
              "      <td>6.0</td>\n",
              "      <td>Medium</td>\n",
              "    </tr>\n",
              "    <tr>\n",
              "      <th>904</th>\n",
              "      <td>6.0</td>\n",
              "      <td>Medium</td>\n",
              "    </tr>\n",
              "    <tr>\n",
              "      <th>636</th>\n",
              "      <td>6.0</td>\n",
              "      <td>Medium</td>\n",
              "    </tr>\n",
              "    <tr>\n",
              "      <th>642</th>\n",
              "      <td>6.0</td>\n",
              "      <td>Medium</td>\n",
              "    </tr>\n",
              "    <tr>\n",
              "      <th>880</th>\n",
              "      <td>6.0</td>\n",
              "      <td>Medium</td>\n",
              "    </tr>\n",
              "  </tbody>\n",
              "</table>\n",
              "<p>341 rows × 2 columns</p>\n",
              "</div>"
            ],
            "text/plain": [
              "     Rating Rating Category\n",
              "328     4.0             Low\n",
              "848     4.0             Low\n",
              "72      4.0             Low\n",
              "379     4.0             Low\n",
              "618     4.0             Low\n",
              "..      ...             ...\n",
              "735     6.0          Medium\n",
              "904     6.0          Medium\n",
              "636     6.0          Medium\n",
              "642     6.0          Medium\n",
              "880     6.0          Medium\n",
              "\n",
              "[341 rows x 2 columns]"
            ]
          },
          "execution_count": 21,
          "metadata": {},
          "output_type": "execute_result"
        }
      ],
      "source": [
        "def rating_cat_mapping(val):\n",
        "  if val >= 8:\n",
        "    return 'High'\n",
        "  elif val < 8 and val >= 6:\n",
        "    return 'Medium'\n",
        "  else:\n",
        "    return 'Low' \n",
        "  \n",
        "df['Rating Category'] = df['Rating'].apply(rating_cat_mapping)\n",
        "\n",
        "df[df.Rating <= 6][['Rating','Rating Category']].sort_values(by = 'Rating')"
      ]
    },
    {
      "cell_type": "markdown",
      "metadata": {
        "id": "0tTSRjXDEdDe"
      },
      "source": [
        "3.2. Виведіть, який відсоток даних становить кожне зі значень категорій рейтингу."
      ]
    },
    {
      "cell_type": "code",
      "execution_count": 22,
      "metadata": {
        "id": "gYd_Y96ODS3a"
      },
      "outputs": [
        {
          "data": {
            "text/plain": [
              "Rating Category\n",
              "Medium    0.356\n",
              "High      0.329\n",
              "Low       0.315\n",
              "Name: proportion, dtype: float64"
            ]
          },
          "execution_count": 22,
          "metadata": {},
          "output_type": "execute_result"
        }
      ],
      "source": [
        "df['Rating Category'].value_counts(normalize=True)"
      ]
    },
    {
      "cell_type": "markdown",
      "metadata": {
        "id": "qGPne8sFHGGM"
      },
      "source": [
        "4.1. Запустіть код нижче аби створити змінну `time`. Ця змінна містить час в форматі \"година:хвилина\". Напишіть функцію `get_hour`, яка буде зі змінної формату як `time` дістати лише години і конвертувати їх у тип `int`.\n",
        "\n",
        "Запустіть написану функцію на змінній `time` та перевірте правильність роботи функції."
      ]
    },
    {
      "cell_type": "code",
      "execution_count": 23,
      "metadata": {
        "id": "OZ2DD2AGEZme"
      },
      "outputs": [],
      "source": [
        "time = '11:28'"
      ]
    },
    {
      "cell_type": "code",
      "execution_count": 24,
      "metadata": {
        "id": "BxDWBPalHimp"
      },
      "outputs": [
        {
          "data": {
            "text/plain": [
              "11"
            ]
          },
          "execution_count": 24,
          "metadata": {},
          "output_type": "execute_result"
        }
      ],
      "source": [
        "def get_hour(val):\n",
        "  hour = val.split(':')[0]\n",
        "  return int(hour)\n",
        "\n",
        "get_hour(time)"
      ]
    },
    {
      "cell_type": "markdown",
      "metadata": {
        "id": "3F7Nmc84IM9C"
      },
      "source": [
        "4.2. З допомогою функції `get_hour` і метода `DataFrame.apply()` створіть нову колонку `Hour` в нашому наборі даних, яка буде містити години здійснення покупки, обчислені на основі часу здійснення покупки `Time`."
      ]
    },
    {
      "cell_type": "code",
      "execution_count": 25,
      "metadata": {
        "id": "P-DQNIwQH_Io"
      },
      "outputs": [],
      "source": [
        "df['Hour'] = df['Time'].apply(get_hour)"
      ]
    },
    {
      "cell_type": "markdown",
      "metadata": {
        "id": "VcuugIB2IszQ"
      },
      "source": [
        "4.3. Виведіть кількість значень за кожною годиною покупки і дайте відповідь \"О яких годинах найбільше здійснюють покупок покупці і чому на Ваш погляд саме о цих годинах? Чи це слогічно, що найбільше покупок саме в ці години?\"."
      ]
    },
    {
      "cell_type": "code",
      "execution_count": 30,
      "metadata": {
        "id": "5NgTbHM8I-Or"
      },
      "outputs": [
        {
          "data": {
            "text/plain": [
              "Hour\n",
              "19    113\n",
              "13    103\n",
              "15    102\n",
              "10    101\n",
              "18     93\n",
              "11     90\n",
              "12     89\n",
              "14     83\n",
              "16     77\n",
              "20     75\n",
              "17     74\n",
              "Name: count, dtype: int64"
            ]
          },
          "execution_count": 30,
          "metadata": {},
          "output_type": "execute_result"
        }
      ],
      "source": [
        "df['Hour'].value_counts()"
      ]
    },
    {
      "cell_type": "markdown",
      "metadata": {},
      "source": [
        "Найбільше покупки здійснюються о сьомій вечора, що є логічним, якщо припустити, що покупці здійснюють покупки після роботи. Покупки о першій годині можуть свідчити про людей, що виходять у магазин під час обідньої перерви. Покупки о третій годині дня можуть свідчити про людей, що закінчують працювати раніше, наприклад, вчителі у школі, а також школяри чи студенти, якщо поруч є навчальні заклади. Покупки о десятій, що є мабуть годиною відкриття магазину, скоріш за все свідчать про людей, що чекали відкриття магазину вранці, можливо для придбання товарів першої необхідності. Варто проаналізувати які саме групи товарів були придбані у цей час. "
      ]
    },
    {
      "cell_type": "markdown",
      "metadata": {
        "id": "vUniX9GAKtco"
      },
      "source": [
        "5. Виведіть середнє значення чеку (`Total`) для покупок в містах, наявних в даних, за допомогою функції `groupby`."
      ]
    },
    {
      "cell_type": "code",
      "execution_count": 31,
      "metadata": {
        "id": "eWRBQoO_JBY3"
      },
      "outputs": [
        {
          "data": {
            "text/plain": [
              "City\n",
              "Mandalay     319.872506\n",
              "Naypyitaw    337.099715\n",
              "Yangon       312.354031\n",
              "Name: Total, dtype: float64"
            ]
          },
          "execution_count": 31,
          "metadata": {},
          "output_type": "execute_result"
        }
      ],
      "source": [
        "df.groupby(by='City')['Total'].mean()"
      ]
    },
    {
      "cell_type": "markdown",
      "metadata": {
        "id": "kgXBFApjLQxp"
      },
      "source": [
        "6. Виведіть кількість покупок, середнє, мінімальне та максимальне значення для загальної суми чеку (Total) в містах, наявних в даних, за допомогою функції groupby.\n",
        "Зробіть висновки з цих показників та дайте рекомендації для мережі супермаркетів."
      ]
    },
    {
      "cell_type": "code",
      "execution_count": 35,
      "metadata": {
        "id": "qdspE5eWK0bq"
      },
      "outputs": [
        {
          "data": {
            "text/html": [
              "<div>\n",
              "<style scoped>\n",
              "    .dataframe tbody tr th:only-of-type {\n",
              "        vertical-align: middle;\n",
              "    }\n",
              "\n",
              "    .dataframe tbody tr th {\n",
              "        vertical-align: top;\n",
              "    }\n",
              "\n",
              "    .dataframe thead th {\n",
              "        text-align: right;\n",
              "    }\n",
              "</style>\n",
              "<table border=\"1\" class=\"dataframe\">\n",
              "  <thead>\n",
              "    <tr style=\"text-align: right;\">\n",
              "      <th></th>\n",
              "      <th>count</th>\n",
              "      <th>mean</th>\n",
              "      <th>min</th>\n",
              "      <th>max</th>\n",
              "    </tr>\n",
              "    <tr>\n",
              "      <th>City</th>\n",
              "      <th></th>\n",
              "      <th></th>\n",
              "      <th></th>\n",
              "      <th></th>\n",
              "    </tr>\n",
              "  </thead>\n",
              "  <tbody>\n",
              "    <tr>\n",
              "      <th>Mandalay</th>\n",
              "      <td>332</td>\n",
              "      <td>319.872506</td>\n",
              "      <td>18.6375</td>\n",
              "      <td>1022.49</td>\n",
              "    </tr>\n",
              "    <tr>\n",
              "      <th>Naypyitaw</th>\n",
              "      <td>328</td>\n",
              "      <td>337.099715</td>\n",
              "      <td>10.6785</td>\n",
              "      <td>1042.65</td>\n",
              "    </tr>\n",
              "    <tr>\n",
              "      <th>Yangon</th>\n",
              "      <td>340</td>\n",
              "      <td>312.354031</td>\n",
              "      <td>12.6945</td>\n",
              "      <td>1039.29</td>\n",
              "    </tr>\n",
              "  </tbody>\n",
              "</table>\n",
              "</div>"
            ],
            "text/plain": [
              "           count        mean      min      max\n",
              "City                                          \n",
              "Mandalay     332  319.872506  18.6375  1022.49\n",
              "Naypyitaw    328  337.099715  10.6785  1042.65\n",
              "Yangon       340  312.354031  12.6945  1039.29"
            ]
          },
          "execution_count": 35,
          "metadata": {},
          "output_type": "execute_result"
        }
      ],
      "source": [
        "df.groupby(by='City')['Total'].agg(['count','mean', 'min', 'max'])"
      ]
    },
    {
      "cell_type": "markdown",
      "metadata": {},
      "source": [
        "В цілому прибутковість супермаркетів однакова. "
      ]
    },
    {
      "cell_type": "markdown",
      "metadata": {
        "id": "_GPVYoEe6M9E"
      },
      "source": [
        "7. Ми внесли деякі зміни в наш набір даних, тож, давайте запишемо результат у файл. Запишіть оновлену версію даних у файл `supermarket_sales_enriched.csv`. Зверніть увагу, аби не записати нічого зайвого, наприклад, індекси рядків нам в файлі не потрібні, оскільки вони стандартні."
      ]
    },
    {
      "cell_type": "code",
      "execution_count": 37,
      "metadata": {
        "id": "MyEE8sAR6ele"
      },
      "outputs": [],
      "source": [
        "df.to_csv('../data/supermarket_sales_enriched.csv', index=False)"
      ]
    }
  ],
  "metadata": {
    "colab": {
      "provenance": []
    },
    "kernelspec": {
      "display_name": "Python 3",
      "name": "python3"
    },
    "language_info": {
      "codemirror_mode": {
        "name": "ipython",
        "version": 3
      },
      "file_extension": ".py",
      "mimetype": "text/x-python",
      "name": "python",
      "nbconvert_exporter": "python",
      "pygments_lexer": "ipython3",
      "version": "3.12.3"
    }
  },
  "nbformat": 4,
  "nbformat_minor": 0
}

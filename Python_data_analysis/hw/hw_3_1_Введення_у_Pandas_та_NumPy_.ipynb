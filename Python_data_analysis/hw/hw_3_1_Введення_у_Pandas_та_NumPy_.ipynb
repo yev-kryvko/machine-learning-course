{
  "cells": [
    {
      "cell_type": "markdown",
      "metadata": {
        "id": "6bbb4b6a"
      },
      "source": [
        "# Домашнє завдання до теми \"Введення у Pandas та NumPy\""
      ]
    },
    {
      "cell_type": "markdown",
      "metadata": {
        "id": "7ef4e602"
      },
      "source": [
        "У домашніх завданнях цього модулю ми працюємо з набором даних про продажі в різних магазинах мережі супермаркетів.\n",
        "\n",
        "## Контекст даних\n",
        "Зростання супермаркетів у найбільш населених містах збільшується, а конкуренція на ринку також висока. Набір даних є вигрузкою історичних продажів компанії-мережі супермаркетів у 3х різних філіях протягом 3 місяців.\n",
        "\n",
        "**Ціль:** Цей набір даних може бути використаний для цілей розуміння тенденцій продажів, які товари в якому місті варто продавати, а поставку яких - варто скоротити. На основі цих даних можна оцінити майбутні тенденції продажів, оцінити поведінку споживачів та оптимізувати стратегію продажів.\n",
        "\n",
        "Ми будемо робити елементи аналізу в цьому напрямі.\n",
        "\n",
        "## Опис даних\n",
        "\n",
        "| Назва оригінальна           | Переклад назви             | Опис українською                                                                                       |\n",
        "|---------------------------|--------------------------|-----------------------------------------------------------------------------------------------------|\n",
        "| Invoice id                | Ідентифікатор чека       | Комп’ютерно генерований номер ідентифікації чека продажу                                             |\n",
        "| Branch                    | Філія                    | Філія супермаркету (доступні 3 філії, ідентифіковані як A, B та C)                                     |\n",
        "| City                      | Місто                    | Місцезнаходження суперцентрів                                                                        |\n",
        "| Customer type             | Тип клієнта              | Тип клієнтів, зафіксований як Члени для клієнтів, що використовують картку члена, та Звичайні без картки |\n",
        "| Gender                    | Стать                    | Стать покупця                                                                                       |\n",
        "| Product line              | Лінійка продуктів        | Загальні групи категоризації товарів - Електронні аксесуари, Модні аксесуари, Їжа та напої, Здоров’я та краса, Дім і стиль життя, Спорт та подорожі |\n",
        "| Unit price                | Ціна за одиницю          | Ціна кожного продукту в доларах США                                                                  |\n",
        "| Quantity                  | Кількість                | Кількість продуктів, придбаних клієнтом                                                             |\n",
        "| Tax                       | Податок                  | 5% податковий збір для покупця                                                                       |\n",
        "| Total                     | Загальна сума            | Загальна ціна з урахуванням податку                                                                  |\n",
        "| Date                      | Дата                     | Дата покупки (Дані доступні з січня 2019 по березень 2019)                                           |\n",
        "| Time                      | Час                      | Час покупки (з 10:00 до 21:00)                                                                       |\n",
        "| Payment                   | Оплата                   | Метод оплати, використаний клієнтом для покупки (доступні 3 методи – Готівка, Кредитна картка та Електронний гаманець) |\n",
        "| COGS                      | Собівартість проданих товарів | Собівартість проданих товарів                                                                      |\n",
        "| Gross margin percentage   | Відсоток валового прибутку | Відсоток валового прибутку                                                                         |\n",
        "| Gross income              | Валовий дохід            | Валовий дохід                                                                                       |\n",
        "| Rating                    | Рейтинг                  | Рейтинг задоволення клієнтів від загального досвіду покупок (На шкалі від 1 до 10)                    |\n",
        "\n",
        "\n",
        "## Робота з даними в рамках завдань цього модулю\n",
        "\n",
        "Завантажте дані з навчальної платформи собі локально. Як найркаще організувати збереження даних і ноутбуків було наведено в лекції. Якщо Ви працюєте в Colab - то рекомендую або розмістити дані у себе на диску і підключити диск (`Files` -> `Mount Drive`) або перетягнути дані в `Files` на робочу сесію і читати звідти.\n",
        "\n",
        "Дані ми НЕ заливаємо зазвичай в git, особливо якщо вони більше 10мб - це погана практика. Ліпше залити на гугл диск і дати посилання в репозиторії в readme.md файлі, якщо дані великі. Саме так рекомендую робити для проєктів з портфоліо.\n",
        "\n",
        "У домашніх завданнях цього модуля особливо важливо **уважно** читати формулювання завдання і всі коментарі. Також у цьому модулі треба по максимуму використовувати функціонал бібліотеки pandas, навіть якщо існують альтернативні способи зробити те саме. Нагадую, що працюючи з pandas ми здебільшого НЕ потребуємо використовувати цикли для створення колонки - для цього є інші, більш загальноприйняті методи, розглянуті в лекції.\n"
      ]
    },
    {
      "cell_type": "markdown",
      "metadata": {
        "id": "39qzN0NZAPFm"
      },
      "source": [
        "1. Імпортуйте бібліотеку pandas в загальноприйнятому форматі."
      ]
    },
    {
      "cell_type": "code",
      "execution_count": 8,
      "metadata": {
        "id": "jA1fRzz4AOsE"
      },
      "outputs": [],
      "source": [
        "import pandas as pd"
      ]
    },
    {
      "cell_type": "code",
      "execution_count": 9,
      "metadata": {},
      "outputs": [],
      "source": [
        "import sys\n",
        "\n",
        "utils_path = '../../utils'\n",
        "sys.path.insert(0, utils_path)\n",
        "\n",
        "from google_drive_utils import get_download_url\n"
      ]
    },
    {
      "cell_type": "markdown",
      "metadata": {
        "ExecuteTime": {
          "end_time": "2021-09-20T19:43:50.443031Z",
          "start_time": "2021-09-20T19:43:50.439600Z"
        },
        "id": "fd7f076b"
      },
      "source": [
        "2. За допомогою бібліотеки Pandas, викликом однієї функції зчитайте набір даних із файлу `supermarket_sales.csv` в змінну `df` типу `pandas.DataFrame`.\n",
        "Виведіть тип даних змінної `df`."
      ]
    },
    {
      "cell_type": "code",
      "execution_count": 15,
      "metadata": {
        "id": "0kbbVMM1ATsk"
      },
      "outputs": [],
      "source": [
        "data_url = 'https://drive.google.com/file/d/1BxCDGcoPO08q65NBLCSsJOeIGet-b4dR/view?usp=sharing'\n",
        "data_download_url = get_download_url(data_url)\n",
        "\n",
        "df = pd.read_csv(data_download_url)"
      ]
    },
    {
      "cell_type": "code",
      "execution_count": 16,
      "metadata": {},
      "outputs": [
        {
          "data": {
            "text/html": [
              "<div>\n",
              "<style scoped>\n",
              "    .dataframe tbody tr th:only-of-type {\n",
              "        vertical-align: middle;\n",
              "    }\n",
              "\n",
              "    .dataframe tbody tr th {\n",
              "        vertical-align: top;\n",
              "    }\n",
              "\n",
              "    .dataframe thead th {\n",
              "        text-align: right;\n",
              "    }\n",
              "</style>\n",
              "<table border=\"1\" class=\"dataframe\">\n",
              "  <thead>\n",
              "    <tr style=\"text-align: right;\">\n",
              "      <th></th>\n",
              "      <th>Invoice ID</th>\n",
              "      <th>Branch</th>\n",
              "      <th>City</th>\n",
              "      <th>Customer type</th>\n",
              "      <th>Gender</th>\n",
              "      <th>Product line</th>\n",
              "      <th>Unit price</th>\n",
              "      <th>Quantity</th>\n",
              "      <th>Tax 5%</th>\n",
              "      <th>Total</th>\n",
              "      <th>Date</th>\n",
              "      <th>Time</th>\n",
              "      <th>Payment</th>\n",
              "      <th>cogs</th>\n",
              "      <th>gross margin percentage</th>\n",
              "      <th>gross income</th>\n",
              "      <th>Rating</th>\n",
              "    </tr>\n",
              "  </thead>\n",
              "  <tbody>\n",
              "    <tr>\n",
              "      <th>0</th>\n",
              "      <td>750-67-8428</td>\n",
              "      <td>A</td>\n",
              "      <td>Yangon</td>\n",
              "      <td>Member</td>\n",
              "      <td>Female</td>\n",
              "      <td>Health and beauty</td>\n",
              "      <td>74.69</td>\n",
              "      <td>7</td>\n",
              "      <td>26.1415</td>\n",
              "      <td>548.9715</td>\n",
              "      <td>1/5/2019</td>\n",
              "      <td>13:08</td>\n",
              "      <td>Ewallet</td>\n",
              "      <td>522.83</td>\n",
              "      <td>4.761905</td>\n",
              "      <td>26.1415</td>\n",
              "      <td>9.1</td>\n",
              "    </tr>\n",
              "    <tr>\n",
              "      <th>1</th>\n",
              "      <td>226-31-3081</td>\n",
              "      <td>C</td>\n",
              "      <td>Naypyitaw</td>\n",
              "      <td>Normal</td>\n",
              "      <td>Female</td>\n",
              "      <td>Electronic accessories</td>\n",
              "      <td>15.28</td>\n",
              "      <td>5</td>\n",
              "      <td>3.8200</td>\n",
              "      <td>80.2200</td>\n",
              "      <td>3/8/2019</td>\n",
              "      <td>10:29</td>\n",
              "      <td>Cash</td>\n",
              "      <td>76.40</td>\n",
              "      <td>4.761905</td>\n",
              "      <td>3.8200</td>\n",
              "      <td>9.6</td>\n",
              "    </tr>\n",
              "    <tr>\n",
              "      <th>2</th>\n",
              "      <td>631-41-3108</td>\n",
              "      <td>A</td>\n",
              "      <td>Yangon</td>\n",
              "      <td>Normal</td>\n",
              "      <td>Male</td>\n",
              "      <td>Home and lifestyle</td>\n",
              "      <td>46.33</td>\n",
              "      <td>7</td>\n",
              "      <td>16.2155</td>\n",
              "      <td>340.5255</td>\n",
              "      <td>3/3/2019</td>\n",
              "      <td>13:23</td>\n",
              "      <td>Credit card</td>\n",
              "      <td>324.31</td>\n",
              "      <td>4.761905</td>\n",
              "      <td>16.2155</td>\n",
              "      <td>7.4</td>\n",
              "    </tr>\n",
              "    <tr>\n",
              "      <th>3</th>\n",
              "      <td>123-19-1176</td>\n",
              "      <td>A</td>\n",
              "      <td>Yangon</td>\n",
              "      <td>Member</td>\n",
              "      <td>Male</td>\n",
              "      <td>Health and beauty</td>\n",
              "      <td>58.22</td>\n",
              "      <td>8</td>\n",
              "      <td>23.2880</td>\n",
              "      <td>489.0480</td>\n",
              "      <td>1/27/2019</td>\n",
              "      <td>20:33</td>\n",
              "      <td>Ewallet</td>\n",
              "      <td>465.76</td>\n",
              "      <td>4.761905</td>\n",
              "      <td>23.2880</td>\n",
              "      <td>8.4</td>\n",
              "    </tr>\n",
              "    <tr>\n",
              "      <th>4</th>\n",
              "      <td>373-73-7910</td>\n",
              "      <td>A</td>\n",
              "      <td>Yangon</td>\n",
              "      <td>Normal</td>\n",
              "      <td>Male</td>\n",
              "      <td>Sports and travel</td>\n",
              "      <td>86.31</td>\n",
              "      <td>7</td>\n",
              "      <td>30.2085</td>\n",
              "      <td>634.3785</td>\n",
              "      <td>2/8/2019</td>\n",
              "      <td>10:37</td>\n",
              "      <td>Ewallet</td>\n",
              "      <td>604.17</td>\n",
              "      <td>4.761905</td>\n",
              "      <td>30.2085</td>\n",
              "      <td>5.3</td>\n",
              "    </tr>\n",
              "    <tr>\n",
              "      <th>5</th>\n",
              "      <td>699-14-3026</td>\n",
              "      <td>C</td>\n",
              "      <td>Naypyitaw</td>\n",
              "      <td>Normal</td>\n",
              "      <td>Male</td>\n",
              "      <td>Electronic accessories</td>\n",
              "      <td>85.39</td>\n",
              "      <td>7</td>\n",
              "      <td>29.8865</td>\n",
              "      <td>627.6165</td>\n",
              "      <td>3/25/2019</td>\n",
              "      <td>18:30</td>\n",
              "      <td>Ewallet</td>\n",
              "      <td>597.73</td>\n",
              "      <td>4.761905</td>\n",
              "      <td>29.8865</td>\n",
              "      <td>4.1</td>\n",
              "    </tr>\n",
              "    <tr>\n",
              "      <th>6</th>\n",
              "      <td>355-53-5943</td>\n",
              "      <td>A</td>\n",
              "      <td>Yangon</td>\n",
              "      <td>Member</td>\n",
              "      <td>Female</td>\n",
              "      <td>Electronic accessories</td>\n",
              "      <td>68.84</td>\n",
              "      <td>6</td>\n",
              "      <td>20.6520</td>\n",
              "      <td>433.6920</td>\n",
              "      <td>2/25/2019</td>\n",
              "      <td>14:36</td>\n",
              "      <td>Ewallet</td>\n",
              "      <td>413.04</td>\n",
              "      <td>4.761905</td>\n",
              "      <td>20.6520</td>\n",
              "      <td>5.8</td>\n",
              "    </tr>\n",
              "    <tr>\n",
              "      <th>7</th>\n",
              "      <td>315-22-5665</td>\n",
              "      <td>C</td>\n",
              "      <td>Naypyitaw</td>\n",
              "      <td>Normal</td>\n",
              "      <td>Female</td>\n",
              "      <td>Home and lifestyle</td>\n",
              "      <td>73.56</td>\n",
              "      <td>10</td>\n",
              "      <td>36.7800</td>\n",
              "      <td>772.3800</td>\n",
              "      <td>2/24/2019</td>\n",
              "      <td>11:38</td>\n",
              "      <td>Ewallet</td>\n",
              "      <td>735.60</td>\n",
              "      <td>4.761905</td>\n",
              "      <td>36.7800</td>\n",
              "      <td>8.0</td>\n",
              "    </tr>\n",
              "    <tr>\n",
              "      <th>8</th>\n",
              "      <td>665-32-9167</td>\n",
              "      <td>A</td>\n",
              "      <td>Yangon</td>\n",
              "      <td>Member</td>\n",
              "      <td>Female</td>\n",
              "      <td>Health and beauty</td>\n",
              "      <td>36.26</td>\n",
              "      <td>2</td>\n",
              "      <td>3.6260</td>\n",
              "      <td>76.1460</td>\n",
              "      <td>1/10/2019</td>\n",
              "      <td>17:15</td>\n",
              "      <td>Credit card</td>\n",
              "      <td>72.52</td>\n",
              "      <td>4.761905</td>\n",
              "      <td>3.6260</td>\n",
              "      <td>7.2</td>\n",
              "    </tr>\n",
              "    <tr>\n",
              "      <th>9</th>\n",
              "      <td>692-92-5582</td>\n",
              "      <td>B</td>\n",
              "      <td>Mandalay</td>\n",
              "      <td>Member</td>\n",
              "      <td>Female</td>\n",
              "      <td>Food and beverages</td>\n",
              "      <td>54.84</td>\n",
              "      <td>3</td>\n",
              "      <td>8.2260</td>\n",
              "      <td>172.7460</td>\n",
              "      <td>2/20/2019</td>\n",
              "      <td>13:27</td>\n",
              "      <td>Credit card</td>\n",
              "      <td>164.52</td>\n",
              "      <td>4.761905</td>\n",
              "      <td>8.2260</td>\n",
              "      <td>5.9</td>\n",
              "    </tr>\n",
              "    <tr>\n",
              "      <th>10</th>\n",
              "      <td>351-62-0822</td>\n",
              "      <td>B</td>\n",
              "      <td>Mandalay</td>\n",
              "      <td>Member</td>\n",
              "      <td>Female</td>\n",
              "      <td>Fashion accessories</td>\n",
              "      <td>14.48</td>\n",
              "      <td>4</td>\n",
              "      <td>2.8960</td>\n",
              "      <td>60.8160</td>\n",
              "      <td>2/6/2019</td>\n",
              "      <td>18:07</td>\n",
              "      <td>Ewallet</td>\n",
              "      <td>57.92</td>\n",
              "      <td>4.761905</td>\n",
              "      <td>2.8960</td>\n",
              "      <td>4.5</td>\n",
              "    </tr>\n",
              "    <tr>\n",
              "      <th>11</th>\n",
              "      <td>529-56-3974</td>\n",
              "      <td>B</td>\n",
              "      <td>Mandalay</td>\n",
              "      <td>Member</td>\n",
              "      <td>Male</td>\n",
              "      <td>Electronic accessories</td>\n",
              "      <td>25.51</td>\n",
              "      <td>4</td>\n",
              "      <td>5.1020</td>\n",
              "      <td>107.1420</td>\n",
              "      <td>3/9/2019</td>\n",
              "      <td>17:03</td>\n",
              "      <td>Cash</td>\n",
              "      <td>102.04</td>\n",
              "      <td>4.761905</td>\n",
              "      <td>5.1020</td>\n",
              "      <td>6.8</td>\n",
              "    </tr>\n",
              "  </tbody>\n",
              "</table>\n",
              "</div>"
            ],
            "text/plain": [
              "     Invoice ID Branch       City Customer type  Gender  \\\n",
              "0   750-67-8428      A     Yangon        Member  Female   \n",
              "1   226-31-3081      C  Naypyitaw        Normal  Female   \n",
              "2   631-41-3108      A     Yangon        Normal    Male   \n",
              "3   123-19-1176      A     Yangon        Member    Male   \n",
              "4   373-73-7910      A     Yangon        Normal    Male   \n",
              "5   699-14-3026      C  Naypyitaw        Normal    Male   \n",
              "6   355-53-5943      A     Yangon        Member  Female   \n",
              "7   315-22-5665      C  Naypyitaw        Normal  Female   \n",
              "8   665-32-9167      A     Yangon        Member  Female   \n",
              "9   692-92-5582      B   Mandalay        Member  Female   \n",
              "10  351-62-0822      B   Mandalay        Member  Female   \n",
              "11  529-56-3974      B   Mandalay        Member    Male   \n",
              "\n",
              "              Product line  Unit price  Quantity   Tax 5%     Total  \\\n",
              "0        Health and beauty       74.69         7  26.1415  548.9715   \n",
              "1   Electronic accessories       15.28         5   3.8200   80.2200   \n",
              "2       Home and lifestyle       46.33         7  16.2155  340.5255   \n",
              "3        Health and beauty       58.22         8  23.2880  489.0480   \n",
              "4        Sports and travel       86.31         7  30.2085  634.3785   \n",
              "5   Electronic accessories       85.39         7  29.8865  627.6165   \n",
              "6   Electronic accessories       68.84         6  20.6520  433.6920   \n",
              "7       Home and lifestyle       73.56        10  36.7800  772.3800   \n",
              "8        Health and beauty       36.26         2   3.6260   76.1460   \n",
              "9       Food and beverages       54.84         3   8.2260  172.7460   \n",
              "10     Fashion accessories       14.48         4   2.8960   60.8160   \n",
              "11  Electronic accessories       25.51         4   5.1020  107.1420   \n",
              "\n",
              "         Date   Time      Payment    cogs  gross margin percentage  \\\n",
              "0    1/5/2019  13:08      Ewallet  522.83                 4.761905   \n",
              "1    3/8/2019  10:29         Cash   76.40                 4.761905   \n",
              "2    3/3/2019  13:23  Credit card  324.31                 4.761905   \n",
              "3   1/27/2019  20:33      Ewallet  465.76                 4.761905   \n",
              "4    2/8/2019  10:37      Ewallet  604.17                 4.761905   \n",
              "5   3/25/2019  18:30      Ewallet  597.73                 4.761905   \n",
              "6   2/25/2019  14:36      Ewallet  413.04                 4.761905   \n",
              "7   2/24/2019  11:38      Ewallet  735.60                 4.761905   \n",
              "8   1/10/2019  17:15  Credit card   72.52                 4.761905   \n",
              "9   2/20/2019  13:27  Credit card  164.52                 4.761905   \n",
              "10   2/6/2019  18:07      Ewallet   57.92                 4.761905   \n",
              "11   3/9/2019  17:03         Cash  102.04                 4.761905   \n",
              "\n",
              "    gross income  Rating  \n",
              "0        26.1415     9.1  \n",
              "1         3.8200     9.6  \n",
              "2        16.2155     7.4  \n",
              "3        23.2880     8.4  \n",
              "4        30.2085     5.3  \n",
              "5        29.8865     4.1  \n",
              "6        20.6520     5.8  \n",
              "7        36.7800     8.0  \n",
              "8         3.6260     7.2  \n",
              "9         8.2260     5.9  \n",
              "10        2.8960     4.5  \n",
              "11        5.1020     6.8  "
            ]
          },
          "execution_count": 16,
          "metadata": {},
          "output_type": "execute_result"
        }
      ],
      "source": [
        "df.head(12)"
      ]
    },
    {
      "cell_type": "markdown",
      "metadata": {
        "ExecuteTime": {
          "end_time": "2022-11-01T16:51:38.594974Z",
          "start_time": "2022-11-01T16:51:38.591423Z"
        },
        "id": "33661c15"
      },
      "source": [
        "3. Виведіть кількість рядків і кількість колонок в наборі даних. Відповідь сформуйте використовуючи fstring у наступному форматі: `Набір даних містить 1000 рядків та 17 колонок`"
      ]
    },
    {
      "cell_type": "code",
      "execution_count": 19,
      "metadata": {
        "ExecuteTime": {
          "end_time": "2022-11-01T16:54:59.887783Z",
          "start_time": "2022-11-01T16:54:59.884323Z"
        },
        "id": "bac0cbfc"
      },
      "outputs": [
        {
          "data": {
            "text/plain": [
              "(1000, 17)"
            ]
          },
          "execution_count": 19,
          "metadata": {},
          "output_type": "execute_result"
        }
      ],
      "source": [
        "df_shape = df.shape\n",
        "\n",
        "df_shape"
      ]
    },
    {
      "cell_type": "markdown",
      "metadata": {
        "id": "4i5dUphZ_JxM"
      },
      "source": [
        "4. Скільки оперативної памʼяті у мегабайтах займає даний набір даних? Обчисліть за допомогою pandas і виведіть на екран."
      ]
    },
    {
      "cell_type": "code",
      "execution_count": 24,
      "metadata": {
        "id": "kwoNKAr-_JDf"
      },
      "outputs": [
        {
          "data": {
            "text/plain": [
              "0.12982559204101562"
            ]
          },
          "execution_count": 24,
          "metadata": {},
          "output_type": "execute_result"
        }
      ],
      "source": [
        "df_total_bytes = df.memory_usage().sum()\n",
        "df_total_megabytes = df_total_bytes / (1024 * 1024)\n",
        "\n",
        "df_total_megabytes\n"
      ]
    },
    {
      "cell_type": "markdown",
      "metadata": {
        "id": "ksL_sc3RwPIe"
      },
      "source": [
        "**Перше домашнє завдання із Pandas виконано! 🚀✔️**"
      ]
    }
  ],
  "metadata": {
    "colab": {
      "provenance": []
    },
    "kernelspec": {
      "display_name": "Python 3",
      "name": "python3"
    },
    "language_info": {
      "codemirror_mode": {
        "name": "ipython",
        "version": 3
      },
      "file_extension": ".py",
      "mimetype": "text/x-python",
      "name": "python",
      "nbconvert_exporter": "python",
      "pygments_lexer": "ipython3",
      "version": "3.12.3"
    }
  },
  "nbformat": 4,
  "nbformat_minor": 0
}

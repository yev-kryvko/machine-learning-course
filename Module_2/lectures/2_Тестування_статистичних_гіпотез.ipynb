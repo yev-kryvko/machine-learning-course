{
  "cells": [
    {
      "cell_type": "code",
      "execution_count": null,
      "id": "f6e78310",
      "metadata": {
        "ExecuteTime": {
          "end_time": "2024-01-12T12:55:41.194553Z",
          "start_time": "2024-01-12T12:55:33.123673Z"
        },
        "id": "f6e78310"
      },
      "outputs": [],
      "source": [
        "!pip install statsmodels --quiet"
      ]
    },
    {
      "cell_type": "markdown",
      "id": "bb40a0b3",
      "metadata": {
        "id": "bb40a0b3"
      },
      "source": [
        "# Z-test"
      ]
    },
    {
      "cell_type": "code",
      "execution_count": null,
      "id": "2b0f49d0",
      "metadata": {
        "ExecuteTime": {
          "end_time": "2024-01-12T12:56:03.785615Z",
          "start_time": "2024-01-12T12:56:03.782331Z"
        },
        "id": "2b0f49d0"
      },
      "outputs": [],
      "source": [
        "import numpy as np\n",
        "from statsmodels.stats.weightstats import ztest"
      ]
    },
    {
      "cell_type": "markdown",
      "id": "9cdfbc15",
      "metadata": {
        "id": "9cdfbc15"
      },
      "source": [
        "## На одній вибірці"
      ]
    },
    {
      "cell_type": "markdown",
      "id": "425bb019",
      "metadata": {
        "ExecuteTime": {
          "end_time": "2021-11-18T22:11:26.527037Z",
          "start_time": "2021-11-18T22:11:26.434988Z"
        },
        "id": "425bb019"
      },
      "source": [
        "Згенеруємо випадковий масив із 50 чисел, що мають середнє значення 110 і стандартне відхилення 15, аналогічно до даних IQ, які ми припускаємо в задачі."
      ]
    },
    {
      "cell_type": "code",
      "execution_count": null,
      "id": "b17aef70",
      "metadata": {
        "ExecuteTime": {
          "end_time": "2024-01-12T13:22:02.032976Z",
          "start_time": "2024-01-12T13:22:02.029539Z"
        },
        "id": "b17aef70"
      },
      "outputs": [],
      "source": [
        "mean_iq = 110\n",
        "sd_iq = 15\n",
        "alpha = 0.05\n",
        "null_mean = 100\n",
        "sample_size = 50"
      ]
    },
    {
      "cell_type": "code",
      "execution_count": null,
      "id": "c39b4a39",
      "metadata": {
        "ExecuteTime": {
          "end_time": "2024-01-12T13:21:29.067478Z",
          "start_time": "2024-01-12T13:21:29.064169Z"
        },
        "id": "c39b4a39"
      },
      "outputs": [],
      "source": [
        "# генеруємо дані\n",
        "data = np.random.randn(sample_size) * sd_iq + mean_iq"
      ]
    },
    {
      "cell_type": "code",
      "execution_count": null,
      "id": "1f7c3d14",
      "metadata": {
        "ExecuteTime": {
          "end_time": "2024-01-12T13:22:04.550800Z",
          "start_time": "2024-01-12T13:22:04.547316Z"
        },
        "id": "1f7c3d14"
      },
      "outputs": [],
      "source": [
        "# альтернативно можна згенерувати дані\n",
        "# data = np.random.normal(mean_iq, sd_iq, sample_size)"
      ]
    },
    {
      "cell_type": "code",
      "execution_count": null,
      "id": "3b4aa6e3",
      "metadata": {
        "ExecuteTime": {
          "end_time": "2024-01-12T13:22:05.115172Z",
          "start_time": "2024-01-12T13:22:05.109729Z"
        },
        "id": "3b4aa6e3",
        "outputId": "7f20c97b-812c-4e0f-971c-c30cfa15f1ca",
        "colab": {
          "base_uri": "https://localhost:8080/"
        }
      },
      "outputs": [
        {
          "output_type": "stream",
          "name": "stdout",
          "text": [
            "Середнє вибірки: 113.14\n",
            "Стандартне відхилення вибірки: 13.88\n"
          ]
        }
      ],
      "source": [
        "# перевірка результатів\n",
        "print(\"Середнє вибірки: {:.2f}\".format(np.mean(data)))\n",
        "print(\"Стандартне відхилення вибірки: {:.2f}\".format(np.std(data)))"
      ]
    },
    {
      "cell_type": "code",
      "execution_count": null,
      "id": "6278f27d",
      "metadata": {
        "ExecuteTime": {
          "end_time": "2024-01-12T13:13:22.394519Z",
          "start_time": "2024-01-12T13:13:22.386187Z"
        },
        "id": "6278f27d",
        "outputId": "f1adf8a1-4575-47de-fe62-972798be71bf",
        "colab": {
          "base_uri": "https://localhost:8080/"
        }
      },
      "outputs": [
        {
          "output_type": "execute_result",
          "data": {
            "text/plain": [
              "array([105.23520352, 127.92964661,  95.46263436, 111.32162091,\n",
              "       104.00130523,  98.39439986, 102.39641387,  88.11903458,\n",
              "       115.15683033, 120.75033527, 109.71257873, 121.43238474,\n",
              "       136.25533339, 117.65918028, 137.20781059, 104.12965725,\n",
              "        88.87788992, 124.37309433, 111.47441669, 106.5828168 ,\n",
              "       108.70696599, 110.36223053, 105.68152699, 121.97066743,\n",
              "       133.97570352, 128.543676  , 118.09617207,  87.38251421,\n",
              "       131.23020896, 136.28019566, 120.19830707, 111.60927758,\n",
              "       132.96697904, 107.08040655, 111.12008651, 109.86446616,\n",
              "       124.29159373,  85.7097599 ,  97.13913202, 108.39592573,\n",
              "        87.93312447, 103.43552611, 112.48387484, 121.09830786,\n",
              "       109.25357314, 130.1590596 , 124.8652156 ,  99.99122465,\n",
              "       133.30270376, 117.51764777])"
            ]
          },
          "metadata": {},
          "execution_count": 10
        }
      ],
      "source": [
        "data"
      ]
    },
    {
      "cell_type": "markdown",
      "id": "d7fcf34b",
      "metadata": {
        "ExecuteTime": {
          "end_time": "2021-11-18T22:13:57.648731Z",
          "start_time": "2021-11-18T22:13:57.643927Z"
        },
        "id": "d7fcf34b"
      },
      "source": [
        "Тепер проводимо тест. У цій функції ми передали дані, у параметрі значення ми передали середнє значення в нульовій гіпотезі, в альтернативній гіпотезі ми перевіряємо, чи більше середнє значення"
      ]
    },
    {
      "cell_type": "code",
      "execution_count": null,
      "id": "c0040f5a",
      "metadata": {
        "ExecuteTime": {
          "end_time": "2024-01-12T13:13:25.778819Z",
          "start_time": "2024-01-12T13:13:25.773057Z"
        },
        "id": "c0040f5a"
      },
      "outputs": [],
      "source": [
        "ztest_Score, p_value = ztest(data, value = null_mean, alternative='larger')"
      ]
    },
    {
      "cell_type": "code",
      "execution_count": null,
      "id": "0b3b3c77",
      "metadata": {
        "ExecuteTime": {
          "end_time": "2024-01-12T13:13:26.225879Z",
          "start_time": "2024-01-12T13:13:26.220267Z"
        },
        "id": "0b3b3c77",
        "outputId": "ecb7d98a-55af-48b6-cd63-23da2a8eb21e",
        "colab": {
          "base_uri": "https://localhost:8080/"
        }
      },
      "outputs": [
        {
          "output_type": "execute_result",
          "data": {
            "text/plain": [
              "(6.629933284039911, 1.679193132002635e-11)"
            ]
          },
          "metadata": {},
          "execution_count": 12
        }
      ],
      "source": [
        "ztest_Score, p_value"
      ]
    },
    {
      "cell_type": "markdown",
      "id": "bda82122",
      "metadata": {
        "ExecuteTime": {
          "end_time": "2021-11-18T22:14:40.100021Z",
          "start_time": "2021-11-18T22:14:40.094813Z"
        },
        "id": "bda82122"
      },
      "source": [
        "Функція виводить p_value і z-score, що відповідають цьому значенню, ми порівнюємо p-значення з альфа, якщо воно більше альфа, то ми не приймаємо нульову гіпотезу, інакше ми її відхиляємо."
      ]
    },
    {
      "cell_type": "code",
      "execution_count": null,
      "id": "c662cf02",
      "metadata": {
        "ExecuteTime": {
          "end_time": "2024-01-12T13:13:27.745012Z",
          "start_time": "2024-01-12T13:13:27.740749Z"
        },
        "id": "c662cf02",
        "outputId": "3e3edc0b-111f-40cc-d078-7692238fad8d",
        "colab": {
          "base_uri": "https://localhost:8080/"
        }
      },
      "outputs": [
        {
          "output_type": "stream",
          "name": "stdout",
          "text": [
            "Відхилити Н0.\n"
          ]
        }
      ],
      "source": [
        "if(p_value <  alpha):\n",
        "    print(\"Відхилити Н0.\")\n",
        "else:\n",
        "    print(\"Н0 не може бути відхилена.\")"
      ]
    },
    {
      "cell_type": "markdown",
      "id": "e76e73e1",
      "metadata": {
        "id": "e76e73e1"
      },
      "source": [
        "## На двох вибірках"
      ]
    },
    {
      "cell_type": "markdown",
      "id": "2451ba9b",
      "metadata": {
        "id": "2451ba9b"
      },
      "source": [
        "Порівняємо рівні IQ у двох різних містах."
      ]
    },
    {
      "cell_type": "code",
      "execution_count": null,
      "id": "5220d17e",
      "metadata": {
        "ExecuteTime": {
          "end_time": "2022-12-07T21:57:11.987942Z",
          "start_time": "2022-12-07T21:57:11.970770Z"
        },
        "id": "5220d17e"
      },
      "outputs": [],
      "source": [
        "cityA = [82, 84, 85, 89, 91, 91, 92, 94, 99, 99,\n",
        "         105, 109, 109, 109, 110, 112, 112, 113, 114, 114]\n",
        "\n",
        "cityB = [90, 91, 91, 91, 95, 95, 99, 99, 108, 109,\n",
        "         109, 114, 115, 116, 117, 117, 128, 129, 130, 133]"
      ]
    },
    {
      "cell_type": "code",
      "execution_count": null,
      "id": "037eda6a",
      "metadata": {
        "ExecuteTime": {
          "end_time": "2022-12-07T21:57:42.355858Z",
          "start_time": "2022-12-07T21:57:42.349712Z"
        },
        "id": "037eda6a",
        "colab": {
          "base_uri": "https://localhost:8080/"
        },
        "outputId": "7fb9af19-1abf-4fd8-bd85-892c6f8e97e2"
      },
      "outputs": [
        {
          "output_type": "execute_result",
          "data": {
            "text/plain": [
              "(100.65, 108.8)"
            ]
          },
          "metadata": {},
          "execution_count": 15
        }
      ],
      "source": [
        "np.mean(cityA), np.mean(cityB)"
      ]
    },
    {
      "cell_type": "markdown",
      "id": "29f9d1ba",
      "metadata": {
        "ExecuteTime": {
          "end_time": "2021-11-18T22:29:17.895822Z",
          "start_time": "2021-11-18T22:29:17.861475Z"
        },
        "id": "29f9d1ba"
      },
      "source": [
        "Виконуємо тест."
      ]
    },
    {
      "cell_type": "markdown",
      "id": "09a3e103",
      "metadata": {
        "id": "09a3e103"
      },
      "source": [
        "Важливий параметр методу ztest:\n",
        "- value : float  \n",
        "    In the one sample case, value is the mean of x1 under the Null\n",
        "    hypothesis.\n",
        "    In the two sample case, value is the difference between mean of x1 and\n",
        "    mean of x2 under the Null hypothesis. The test statistic is\n",
        "    `x1_mean - x2_mean - value`.\n",
        "    \n",
        "Метод z-test вертає\n",
        "\n",
        "- tstat : float,\n",
        "    test statistic\n",
        "- pvalue : float,\n",
        "    pvalue of the t-test"
      ]
    },
    {
      "cell_type": "code",
      "source": [
        "ztest(cityA, cityB, alternative='two-sided')"
      ],
      "metadata": {
        "colab": {
          "base_uri": "https://localhost:8080/"
        },
        "id": "58I-GoBnh_nq",
        "outputId": "ebcf54fe-5c06-49a4-b779-0a81d00c7386"
      },
      "id": "58I-GoBnh_nq",
      "execution_count": null,
      "outputs": [
        {
          "output_type": "execute_result",
          "data": {
            "text/plain": [
              "(-1.9953236073282115, 0.046007596761332065)"
            ]
          },
          "metadata": {},
          "execution_count": 8
        }
      ]
    },
    {
      "cell_type": "code",
      "execution_count": null,
      "id": "1072f324",
      "metadata": {
        "ExecuteTime": {
          "end_time": "2022-12-07T21:59:24.319268Z",
          "start_time": "2022-12-07T21:59:24.313768Z"
        },
        "id": "1072f324",
        "colab": {
          "base_uri": "https://localhost:8080/"
        },
        "outputId": "a5936e76-93b2-4a34-fb11-e7dda27f9f8e"
      },
      "outputs": [
        {
          "output_type": "execute_result",
          "data": {
            "text/plain": [
              "(-1.9953236073282115, 0.046007596761332065)"
            ]
          },
          "metadata": {},
          "execution_count": 9
        }
      ],
      "source": [
        "# те саме\n",
        "ztest(cityA, cityB, value=0)"
      ]
    },
    {
      "cell_type": "markdown",
      "id": "c8dd37db",
      "metadata": {
        "ExecuteTime": {
          "end_time": "2021-11-18T22:36:43.559957Z",
          "start_time": "2021-11-18T22:36:43.506713Z"
        },
        "id": "c8dd37db"
      },
      "source": [
        "Статистика для двох вибірок z-критерію становить -1.9953, а відповідне p-value дорівнює 0.0460.\n",
        "\n",
        "Оскільки p-value < 0.05, у нас є достатньо доказів, щоб відкинути нульову гіпотезу. Іншими словами, середній рівень IQ значно різниться між двома містами."
      ]
    }
  ],
  "metadata": {
    "kernelspec": {
      "display_name": "Python 3 (ipykernel)",
      "language": "python",
      "name": "python3"
    },
    "language_info": {
      "codemirror_mode": {
        "name": "ipython",
        "version": 3
      },
      "file_extension": ".py",
      "mimetype": "text/x-python",
      "name": "python",
      "nbconvert_exporter": "python",
      "pygments_lexer": "ipython3",
      "version": "3.10.4"
    },
    "toc": {
      "base_numbering": 1,
      "nav_menu": {},
      "number_sections": true,
      "sideBar": true,
      "skip_h1_title": false,
      "title_cell": "Table of Contents",
      "title_sidebar": "Contents",
      "toc_cell": false,
      "toc_position": {
        "height": "calc(100% - 180px)",
        "left": "10px",
        "top": "150px",
        "width": "358.398px"
      },
      "toc_section_display": true,
      "toc_window_display": true
    },
    "vscode": {
      "interpreter": {
        "hash": "a6511e6b41b26ba86cca7483749cf4dd15bf137a2672e550741a656e19bba82e"
      }
    },
    "colab": {
      "provenance": []
    }
  },
  "nbformat": 4,
  "nbformat_minor": 5
}
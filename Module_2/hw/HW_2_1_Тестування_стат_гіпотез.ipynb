{
  "cells": [
    {
      "cell_type": "markdown",
      "metadata": {
        "id": "ID3uSQHkQJ2J"
      },
      "source": [
        "В цьому ДЗ потренуємось виконувати Z-тести для тестування гіпотез в різних задачах. Для коректної імплементації та інтерпретації тестів рекоемндую переглянути спершу документацію:\n",
        "\n",
        "https://www.statsmodels.org/dev/generated/statsmodels.stats.weightstats.ztest.html\n",
        "\n",
        "### Завдання 1: Z-тест для однієї вибірки\n",
        "\n",
        "**Мета**: Перевірити, чи середнє значення вибірки відрізняється від гіпотетичного середнього.\n",
        "\n",
        "**Припущення**: Середній ріст студентів університету вважається 170 см. Ми хочемо перевірити, чи середній ріст випадкової вибірки студентів істотно більший. Вибірка задана в змінній `heights`.\n",
        "\n",
        "Для виконання завдання імпортуйте метод для проведення `ztest`, виконайте Z-тест з Python, виведіть p-value і зробіть заключення, чи справдилось припущення про середній зріст студентів на рівні значущості 0.05?\n",
        "\n",
        "Використовуємо тут Z-тест, оскільки вибірка достатньо велика (більше 30 екземплярів) і можемо вважати, що її стандартне відхилення близьке до ст. відхилення генеральної сукупності, а значить - відоме."
      ]
    },
    {
      "cell_type": "code",
      "execution_count": 4,
      "metadata": {
        "id": "TUYNSCDzRE7N"
      },
      "outputs": [],
      "source": [
        "heights = [174, 171, 175, 179, 170, 170, 179, 175, 169, 174, 169, 169, 173, 162, 163, 169, 166,\n",
        "           173, 167, 164, 179, 170, 172, 164, 169, 175, 169, 174, 169, 169, 173, 162, 177]"
      ]
    },
    {
      "cell_type": "code",
      "execution_count": 10,
      "metadata": {
        "id": "uTJEZPARYMd4"
      },
      "outputs": [],
      "source": [
        "import numpy as np\n",
        "from statsmodels.stats.weightstats import ztest"
      ]
    },
    {
      "cell_type": "code",
      "execution_count": 23,
      "metadata": {},
      "outputs": [
        {
          "name": "stdout",
          "output_type": "stream",
          "text": [
            "Z-test score: 0.8482235371587619, p-value: 0.19815674571091746\n",
            "Fail to reject the Null Hypothesis. The average heights of students in the sample is close to the university general height.\n"
          ]
        }
      ],
      "source": [
        "heights_null_mean = 170\n",
        "alpha = 0.05\n",
        "\n",
        "heights_ztest_score, heights_p_value = ztest(heights, value=heights_null_mean, alternative='larger')\n",
        "\n",
        "print(f\"Z-test score: {heights_ztest_score}, p-value: {heights_p_value}\")\n",
        "\n",
        "if heights_p_value < alpha:\n",
        "  print(\"Reject the Null Hypothesis. Students from the sample are much higher.\")\n",
        "else:\n",
        "  print(\"Fail to reject the Null Hypothesis. The average heights of students in the sample is close to the university general height.\")\n"
      ]
    },
    {
      "cell_type": "markdown",
      "metadata": {},
      "source": [
        "QUESTION: How can I interpret the value of z-test score? Should I look for the cell in the z-table with \"0.8\" value in row and \"0.04\" value in column and find the \"0.79955\" cell? But what foes it mean in context of this task? Like 80 people are not taller than average height? "
      ]
    },
    {
      "cell_type": "code",
      "execution_count": 31,
      "metadata": {},
      "outputs": [
        {
          "data": {
            "text/plain": [
              "count     33.000000\n",
              "mean     170.696970\n",
              "std        4.720202\n",
              "min      162.000000\n",
              "20%      167.800000\n",
              "50%      170.000000\n",
              "70%      173.400000\n",
              "71%      173.720000\n",
              "72%      174.000000\n",
              "73%      174.000000\n",
              "79%      174.280000\n",
              "80%      174.600000\n",
              "81%      174.920000\n",
              "84%      175.000000\n",
              "max      179.000000\n",
              "dtype: float64"
            ]
          },
          "execution_count": 31,
          "metadata": {},
          "output_type": "execute_result"
        }
      ],
      "source": [
        "import pandas as pd\n",
        "\n",
        "pd.Series(heights).describe(percentiles=[0.2, 0.7, 0.71, 0.72, 0.73, 0.79, 0.8, 0.81, 0.84])"
      ]
    },
    {
      "cell_type": "markdown",
      "metadata": {
        "id": "ga4iKM9kQa9Q"
      },
      "source": [
        "### Завдання 2: Z-тест для двох незалежних вибірок\n",
        "\n",
        "**Завдання 2.1.**\n",
        "\n",
        "**Мета**: Перевірити, чи існує статистична різниця між середніми оцінками двох груп студентів.\n",
        "\n",
        "**Припущення**: Група A отримала новий навчальний курс, а група B продовжувала зі стандартним курсом. Ми перевіряємо, чи є новий курс ефективнішим.\n",
        "\n",
        "Виконайте Z-тест з Python, виведіть p-value і зробіть заключення, чи справдилось припущення щодо студентів на рівні значущості 0.05?"
      ]
    },
    {
      "cell_type": "code",
      "execution_count": 95,
      "metadata": {
        "id": "SngJjNBJTgBp"
      },
      "outputs": [],
      "source": [
        "group_a_scores = [78.55, 72.25, 79.88, 75.  , 76.54, 74.99, 87.26, 77.93, 72.71,\n",
        "       82.11, 71.9 , 79.04, 68.2 , 71.36, 78.98, 81.69, 78.86, 77.42,\n",
        "       76.49, 70.61, 74.4 , 75.7 , 83.29, 79.72, 69.18, 79.62, 76.07,\n",
        "       74.62, 81.06, 83.15, 82.66, 73.8 , 76.45, 79.66, 82.88, 75.6 ,\n",
        "       77.07, 72.47, 72.02, 82.06]\n",
        "\n",
        "group_b_scores = [81.78, 74.64, 80.02, 76.81, 71.77, 76.81, 82.69, 74.82, 82.82,\n",
        "       61.9 , 79.11, 75.44, 73.5 , 75.46, 65.06, 73.9 , 76.79, 82.39,\n",
        "       72.41, 70.96, 72.49, 79.58, 76.64, 72.35, 77.57, 75.49, 79.84,\n",
        "       71.49, 73.36, 73.04, 67.68, 76.48, 76.31, 75.03, 73.83, 67.92,\n",
        "       72.9 , 73.29, 70.99, 74.19]"
      ]
    },
    {
      "cell_type": "code",
      "execution_count": 98,
      "metadata": {
        "id": "CvftCAEHYPKL"
      },
      "outputs": [
        {
          "name": "stdout",
          "output_type": "stream",
          "text": [
            "Null hypothesis is that there is no difference between results of students in group A and group B.\n",
            "Alternate hypothesis is that there is that students in group A  have higher results meaning the new course is better.\n",
            "\n",
            "Z-test score: 2.357354864751502, p-value: 0.009202824276264005\n",
            "Reject the Null Hypothesis. Students from the group A that started new course have higher results.\n"
          ]
        }
      ],
      "source": [
        "groups_z_test, groups_p_value = ztest(group_a_scores, group_b_scores, value=0, alternative=\"larger\") \n",
        "\n",
        "\n",
        "print(\"Null hypothesis is that there is no difference between results of students in group A and group B.\")\n",
        "print(\"Alternate hypothesis is that there is that students in group A  have higher results meaning the new course is better.\\n\")\n",
        "print(f\"Z-test score: {groups_z_test}, p-value: {groups_p_value}\")\n",
        "\n",
        "if groups_p_value < alpha:\n",
        "  print(\"Reject the Null Hypothesis. Students from the group A that started new course have higher results.\")\n",
        "else:\n",
        "  print(\"Fail to reject the Null Hypothesis. There is no big difference in results of both groups. The new course doesn't seem to be more effective.\")\n"
      ]
    },
    {
      "cell_type": "markdown",
      "metadata": {
        "id": "zOxz2tU0VpJM"
      },
      "source": [
        "**Завдання 2.2.**\n",
        "\n",
        "\n",
        "**Мета**: Побачити, як впливає розмір вибірок на результат тесту.\n",
        "\n",
        "**Завдання**: Уявіть, що з групи А ми маємо тільки перші 5 записів, а з групи В - усі. Таке могло статись, якщо ми вже маємо результати тестів учнів за попередньою програмою, а тести за новою програмою здали наразі лише 5 учнів і ми вирішили не чекати довше.\n",
        "Виберіть перші 5 записів для групи А і проведіть t-test (для цього використовуємо наступний [метод](https://docs.scipy.org/doc/scipy/reference/generated/scipy.stats.ttest_ind.html)). Виведіть значення p-value. Зробіть висновок, який результат ви бачите щодо стат. значущості на рівні 0.05 для цього експерименту?\n",
        "\n",
        "Тут проводимо t-test оскільки одна з вибірок - дуже мала."
      ]
    },
    {
      "cell_type": "code",
      "execution_count": 97,
      "metadata": {
        "id": "D9znE6liYQmP"
      },
      "outputs": [
        {
          "name": "stdout",
          "output_type": "stream",
          "text": [
            "T-test score: -0.24937871872956752, p-value: 0.5953242761127183\n",
            "Sorted T-test score: 2.123743216449603, Sorted p-value: 0.03321848079544503\n"
          ]
        }
      ],
      "source": [
        "from scipy.stats import ttest_ind\n",
        "\n",
        "group_a_five_scores = group_a_scores[:5]\n",
        "group_b_five_scores = group_b_scores[:5]\n",
        "\n",
        "t_test_score, t_test_p_value = ttest_ind(group_a_five_scores, group_b_five_scores, alternative=\"greater\")\n",
        "\n",
        "print(f\"T-test score: {t_test_score}, p-value: {t_test_p_value}\")\n",
        "\n",
        "group_a_scores_sorted = group_a_scores.copy()\n",
        "group_b_scores_sorted = group_b_scores.copy()\n",
        "group_a_scores_sorted.sort()\n",
        "group_b_scores_sorted.sort()\n",
        "group_a_sorted_five_scores = group_a_scores_sorted[:5]\n",
        "group_b_sorted_five_scores = group_b_scores_sorted[:5]\n",
        "\n",
        "\n",
        "sorted_t_test_score, _sorted_t_test_p_value = ttest_ind(group_a_sorted_five_scores, group_b_sorted_five_scores, alternative=\"greater\")\n",
        "\n",
        "print(f\"Sorted T-test score: {sorted_t_test_score}, Sorted p-value: {_sorted_t_test_p_value}\")"
      ]
    },
    {
      "cell_type": "markdown",
      "metadata": {},
      "source": [
        "We can see that p value is bigger than alpha, that means that the alternate hypothesis is failed to accept on this samples. The samples doesn't represent the real picture that we can see on the bigger samples. To get the more correct result we can sort the arrays. In this case the p-value is 0.033 that is smaller than alpha so we can reject the Null Hypothesis. \n",
        "However, it doesn't seem to be a real case since we can't sort the students if only five random of them have taken a test. So it's always better to get more data before analysis.   "
      ]
    },
    {
      "cell_type": "markdown",
      "metadata": {
        "id": "3TcRHLLz0SLw"
      },
      "source": [
        "\n",
        "### Завдання 3\\*: Z-тест для двох **пов'язаних** вибірок\n",
        "\n",
        "**Мета**: Перевірити, чи вплинув тренінг на продуктивність працівників, коли всі справробітники проходили тренінг.\n",
        "\n",
        "**Припущення**: Наші працівники проходять однаковий тренінг, і ми хочемо з'ясувати, чи покращилися їхні показники після тренінгу на рівні значущості 0.05. Виконайте Z-тест з Python, виведіть p-value і зробіть заключення, чи поліпшились показники працівників на рівні значущості 0.05?\n",
        "\n",
        "Зверніть увагу, ці вибірки повʼязані між собою, значить не буде коректно виконати z-test між ними, натомість, ми можемо порівняти, чи різниця в результатах (продуктивності співробітників) є стат значущою."
      ]
    },
    {
      "cell_type": "code",
      "execution_count": 69,
      "metadata": {
        "id": "uxrjagJFW1GC"
      },
      "outputs": [],
      "source": [
        "before_training = [57.82, 37.63, 36.8 , 55.22, 52.97, 52.5 , 53.46, 43.2 , 52.32,\n",
        "       52.93, 42.86, 68.66, 54.74, 38.09, 56.57, 40.25, 57.87, 61.59,\n",
        "       41.79, 59.63, 54.13, 58.22, 68.97, 47.55, 42.46, 41.1 , 41.84,\n",
        "       49.23, 53.41, 52.77]\n",
        "\n",
        "after_training = [62.47, 40.66, 42.7 , 57.69, 61.41, 56.76, 54.75, 44.06, 56.29,\n",
        "       55.48, 47.28, 72.6 , 57.59, 39.39, 56.54, 42.36, 62.58, 65.01,\n",
        "       42.3 , 62.98, 57.9 , 59.45, 72.28, 50.66, 43.18, 44.82, 45.96,\n",
        "       54.4 , 58.52, 53.01]"
      ]
    },
    {
      "cell_type": "code",
      "execution_count": 73,
      "metadata": {
        "id": "NwCsN91OYSpN"
      },
      "outputs": [
        {
          "data": {
            "text/plain": [
              "array([ 4.65,  3.03,  5.9 ,  2.47,  8.44,  4.26,  1.29,  0.86,  3.97,\n",
              "        2.55,  4.42,  3.94,  2.85,  1.3 , -0.03,  2.11,  4.71,  3.42,\n",
              "        0.51,  3.35,  3.77,  1.23,  3.31,  3.11,  0.72,  3.72,  4.12,\n",
              "        5.17,  5.11,  0.24])"
            ]
          },
          "execution_count": 73,
          "metadata": {},
          "output_type": "execute_result"
        }
      ],
      "source": [
        "d_training = np.subtract(after_training, before_training)\n",
        "\n",
        "(d_training)\n"
      ]
    },
    {
      "cell_type": "code",
      "execution_count": 84,
      "metadata": {},
      "outputs": [
        {
          "data": {
            "text/plain": [
              "(9.13890009623916, 3.1545359919175505e-20)"
            ]
          },
          "execution_count": 84,
          "metadata": {},
          "output_type": "execute_result"
        }
      ],
      "source": [
        "d_training_z_test_score, d_training_p_value = ztest(d_training, value=0, alternative=\"larger\")\n",
        "\n",
        "(d_training_z_test_score, d_training_p_value)"
      ]
    },
    {
      "cell_type": "markdown",
      "metadata": {},
      "source": [
        "\n",
        "Assume that the Null Hypothesis is that there is no difference in results. We can think about this as like we have an array o zeros that represents no changes. That's why we can assume that value (the mean to compare with) is 0. We can see that the p value is very small and much smaller than alpha, so the changes are statistically significant. "
      ]
    }
  ],
  "metadata": {
    "colab": {
      "provenance": []
    },
    "kernelspec": {
      "display_name": "Python 3",
      "name": "python3"
    },
    "language_info": {
      "codemirror_mode": {
        "name": "ipython",
        "version": 3
      },
      "file_extension": ".py",
      "mimetype": "text/x-python",
      "name": "python",
      "nbconvert_exporter": "python",
      "pygments_lexer": "ipython3",
      "version": "3.12.3"
    }
  },
  "nbformat": 4,
  "nbformat_minor": 0
}

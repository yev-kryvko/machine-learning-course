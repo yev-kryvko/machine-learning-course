{
 "cells": [
  {
   "cell_type": "markdown",
   "metadata": {
    "editable": true,
    "id": "SDhaTqxcWhnP",
    "slideshow": {
     "slide_type": ""
    },
    "tags": []
   },
   "source": [
    "В цьому домашньому завданні відпрацюємо з вами знання, отримані в модулі зі статистики.\n",
    "\n",
    "**Завдання 1.** Ми обговорили з Вами на лекції, що велика літера Сігма грецького алфавіту позначає в математиці суму. Знайдіть з використанням Python $\\Sigma x$, $\\Sigma x^2$, та $\\Sigma (x-1)^2$ для наступного набору даних:\n",
    "`1 3 4`\n",
    "Виведіть результат кожного обчислення на екран."
   ]
  },
  {
   "cell_type": "code",
   "execution_count": 11,
   "metadata": {},
   "outputs": [],
   "source": [
    "import numpy as np"
   ]
  },
  {
   "cell_type": "code",
   "execution_count": 6,
   "metadata": {
    "id": "B1mgx_IBT0e8"
   },
   "outputs": [
    {
     "name": "stdout",
     "output_type": "stream",
     "text": [
      "The sum of numbers: 8.\n",
      "The sum of squared numbers: 26.\n",
      "The sum of squared decremented numbers: 13.\n"
     ]
    }
   ],
   "source": [
    "array_to_sum = [1, 3, 4]\n",
    "\n",
    "sum_result = sum(array_to_sum)\n",
    "print(f'The sum of numbers: {sum_result}.')\n",
    "\n",
    "squared_sum_result = sum([num**2 for num in array_to_sum])\n",
    "print(f'The sum of squared numbers: {squared_sum_result}.')\n",
    "\n",
    "decremented_squared_sum_result = sum([(num - 1)**2 for num in array_to_sum])\n",
    "print(f'The sum of squared decremented numbers: {decremented_squared_sum_result}.')"
   ]
  },
  {
   "cell_type": "markdown",
   "metadata": {
    "id": "fa78aW5lhiia"
   },
   "source": [
    "**Завдання 2.** Ми зібрали дані про суму покупок в гривнях 20ма випадково обраними клієнтами в нашому магазині (всього клієнтів у нас більше) за минулий місяць. Вони представлені в змінній `sum_purchases`. Знайдіть **вибіркове середнє** для цих даних кожним з зазначених методів:   \n",
    "\n",
    "  2.1. без використання жодних бібліотек, користуючись тільки Python.  \n",
    "  2.2. використовуючи відповідний метод бібліотеки `numpy`.\n",
    "\n",
    "  Виведіть результат обчислень в кожному з випадків на екран та порівняйте результати. Вони співпадають?"
   ]
  },
  {
   "cell_type": "code",
   "execution_count": 39,
   "metadata": {
    "id": "_9kMt3rq6V5m"
   },
   "outputs": [],
   "source": [
    "sum_purchases = [ 316,  493,  367,  153,  224,  121,  322,  450,  196,  397,  281,\n",
    "  239,  484,  124,  223,  448,  432,  255, 4310, 3524]\n",
    "\n",
    "sum_purchases_len = len(sum_purchases)"
   ]
  },
  {
   "cell_type": "code",
   "execution_count": 47,
   "metadata": {
    "id": "wPmL919HT1c0"
   },
   "outputs": [
    {
     "name": "stdout",
     "output_type": "stream",
     "text": [
      "Manually calculated sample mean: 667.95\n",
      "Numpy calculated sample mean: 667.95\n"
     ]
    }
   ],
   "source": [
    "manually_calculated_sample_mean = sum(sum_purchases)/sum_purchases_len\n",
    "print(f'Manually calculated sample mean: {manually_calculated_sample_mean}');\n",
    "\n",
    "numpy_calculated_sample_mean = np.mean(sum_purchases)\n",
    "print(f'Numpy calculated sample mean: {numpy_calculated_sample_mean}');"
   ]
  },
  {
   "cell_type": "markdown",
   "metadata": {
    "id": "FMdoxZd0kZdW"
   },
   "source": [
    "**Завдання 3.** Для того ж набору даних в змінній `sum_purchases` обчисліть **медіану** кожним з зазначених методів:  \n",
    "\n",
    "  3.1. без використання жодних бібліотек, користуючись тільки Python.  \n",
    "  3.2. використовуючи відповідний метод бібліотеки numpy.  \n",
    "\n",
    "Виведіть результат обчислень в кожному з випадків на екран. Порівняйте результати зі значенням вибіркового середнього. Напишіть коментар, для яких задач ви б використовували вибіркове середнє, а для яких - медіану?"
   ]
  },
  {
   "cell_type": "code",
   "execution_count": 41,
   "metadata": {
    "id": "x58BumvuT2nl"
   },
   "outputs": [
    {
     "name": "stdout",
     "output_type": "stream",
     "text": [
      "Manually calculated median: 319.0\n",
      "Numpy calculated median: 319.0\n"
     ]
    }
   ],
   "source": [
    "sorted_sum_purchases = sorted(sum_purchases)\n",
    "\n",
    "if sum_purchases_len % 2 == 0:\n",
    "    manually_calculated_median = (sorted_sum_purchases[sum_purchases_len//2 - 1] + sorted_sum_purchases[sum_purchases_len//2])/2\n",
    "else:\n",
    "    manually_calculated_median = sorted_sum_purchases[sum_purchases_len//2]\n",
    "\n",
    "print(f'Manually calculated median: {manually_calculated_median}');\n",
    "\n",
    "numpy_calculated_median = np.median(sum_purchases)\n",
    "print(f'Numpy calculated median: {numpy_calculated_median}');\n"
   ]
  },
  {
   "cell_type": "markdown",
   "metadata": {
    "id": "o1Z7az2yNDQV"
   },
   "source": [
    "**Завдання 4**. Обчислість стандартне відхилення наведеної вибірки в змінній `sum_purchases` кожним з зазначених методів:  \n",
    "\n",
    "  4.1. без використання жодних бібліотек, користуючись тільки Python.  \n",
    "  4.2. використовуючи відповідний метод бібліотеки numpy.  \n",
    "\n",
    "Виведіть результат обчислень в кожному з випадків на екран."
   ]
  },
  {
   "cell_type": "code",
   "execution_count": 52,
   "metadata": {
    "id": "X4ixtmL2T642"
   },
   "outputs": [
    {
     "name": "stdout",
     "output_type": "stream",
     "text": [
      "Manually calculated standard deviation: 1124.5433447451132\n",
      "Numpy calculated standard deviation: 1124.5433447451132\n"
     ]
    }
   ],
   "source": [
    "sum_purchases_minus_mean = [(num - numpy_calculated_sample_mean)**2 for num in sum_purchases]\n",
    "\n",
    "manually_calculated_standard_deviation = np.sqrt(sum(sum_purchases_minus_mean)/(sum_purchases_len-1))\n",
    "\n",
    "print(f'Manually calculated standard deviation: {manually_calculated_standard_deviation}');\n",
    "\n",
    "numpy_calculated_standard_deviation = np.std(sum_purchases, ddof=1)\n",
    "print(f'Numpy calculated standard deviation: {numpy_calculated_standard_deviation}');"
   ]
  },
  {
   "cell_type": "markdown",
   "metadata": {
    "id": "M1ntKTjXLVlH"
   },
   "source": [
    "**Завдання 5**. Ми провели дослідження віку студентів-першокурсників. Виявилось, що\n",
    "- 10 студентів мають вік 16 років\n",
    "- 25 студентів - 17 років\n",
    "- 20 студентів - 18 років\n",
    "- 2 студенти - 20 років\n",
    "\n",
    "Обчислість середнє значення для цієї вибірки будь-яким способом - на чистому Python або з numpy - та виведіть результат на екран."
   ]
  },
  {
   "cell_type": "code",
   "execution_count": 56,
   "metadata": {
    "id": "RdIU4M-7T8R4"
   },
   "outputs": [
    {
     "name": "stdout",
     "output_type": "stream",
     "text": [
      "The general age of freshments is: 17.280701754385966\n"
     ]
    }
   ],
   "source": [
    "students = [16]*10 + [17]*25 + [18]*20 + [20]*2\n",
    "students_mean = np.mean(students)\n",
    "print(f'The general age of freshments is: {students_mean}')"
   ]
  },
  {
   "cell_type": "markdown",
   "metadata": {
    "id": "Xx8MFkkVM53z"
   },
   "source": [
    "**Завдання 6**. Крім даних про суму покупок, ми зібрали ще дані про кількість відвідувань кожного з кожного покупця, які знаходяться в змінній `visits`. Обчисліть коефіцієнт кореляції Пірсона для суми покупок і кількості відвідувань кожним з зазначених методів:  \n",
    "\n",
    "  6.1. без використання жодних бібліотек, користуючись тільки Python.  \n",
    "  6.2. використовуючи відповідний метод бібліотеки numpy.  \n",
    "  \n",
    "Виведіть результат на екран. Проаналізуйте результат.\n",
    "\n",
    "Виведіть додатково графік розсіювання викликавши код нижче і зробіть заключення, чи варто щось змінити при підрахунку кореляції, аби коефіцієнт Пірсона показував коректну оцінку лінійної залежності?"
   ]
  },
  {
   "cell_type": "code",
   "execution_count": 62,
   "metadata": {
    "id": "4OIGBT7UOWhO"
   },
   "outputs": [],
   "source": [
    "visits = [ 6,  2, 10,  3,  9,  9,  2,  3,  6,  6, 10,  2,  5, 10,  3,  5,  4,\n",
    "        7,  4,  2]"
   ]
  },
  {
   "cell_type": "code",
   "execution_count": 69,
   "metadata": {
    "id": "YLNF7VbeT97Q"
   },
   "outputs": [
    {
     "name": "stdout",
     "output_type": "stream",
     "text": [
      "Manually calculated Pearson correlation coefficient: -0.30265844687666454\n",
      "Numpy calculated Pearson correlation coefficient: -0.3026584468766646\n"
     ]
    }
   ],
   "source": [
    "sum_purchases_minus_mean = [num - manually_calculated_sample_mean for num in sum_purchases]\n",
    "\n",
    "visits_len = len(visits)\n",
    "visits_mean = sum(visits)/visits_len\n",
    "visits_minus_mean = [num - visits_mean for num in visits]\n",
    "\n",
    "sum_purchases_visits = [sum_purchases_minus_mean[i]*visits_minus_mean[i] for i in range(sum_purchases_len)]\n",
    "sum_purchases_visits_cov = sum(sum_purchases_visits)/(sum_purchases_len-1)\n",
    "\n",
    "\n",
    "#print(f'Manually calculated covariance: {sum_purchases_visits_cov}');\n",
    "#print(f'Numpy calculated covariance: {np.cov(sum_purchases, visits)[0,1]}');\n",
    "\n",
    "sum_purchases_std = np.sqrt(sum([num**2 for num in sum_purchases_minus_mean])/(sum_purchases_len-1))\n",
    "visits_std = np.sqrt(sum([num**2 for num in visits_minus_mean])/(visits_len-1))\n",
    "\n",
    "sum_purchases_visits_corrcoef = sum_purchases_visits_cov/(sum_purchases_std*visits_std)\n",
    "      \n",
    "print(f'Manually calculated Pearson correlation coefficient: {sum_purchases_visits_corrcoef}');\n",
    "print(f'Numpy calculated Pearson correlation coefficient: {np.corrcoef(sum_purchases, visits)[0,1]}');      "
   ]
  },
  {
   "cell_type": "code",
   "execution_count": 72,
   "metadata": {
    "colab": {
     "base_uri": "https://localhost:8080/",
     "height": 472
    },
    "id": "gaeoGA-5Prr1",
    "outputId": "0c910a7f-0e96-449a-881d-1efa453b3c8d"
   },
   "outputs": [
    {
     "data": {
      "image/png": "[encoded data removed]",
      "text/plain": [
       "<Figure size 640x480 with 1 Axes>"
      ]
     },
     "metadata": {},
     "output_type": "display_data"
    }
   ],
   "source": [
    "import matplotlib.pyplot as plt\n",
    "\n",
    "plt.scatter(sum_purchases, visits)\n",
    "plt.title('Scatter Plot of Purchases vs. Visits')\n",
    "plt.xlabel('Sum of Purchases')\n",
    "plt.ylabel('Number of Visits');"
   ]
  },
  {
   "cell_type": "markdown",
   "metadata": {
    "id": "4pEg0KzSQ6KA"
   },
   "source": [
    "**Завдання 7**. В попередньому завданні ми помітили, що викиди нам заважають отримати \"правдиве\" значення кореляції. Давайте вилучимо записи, які відповідають значенням з викидами в сумі покупок і обчисліть коеф. кореляції. Для цього поставте `threshold`, який дорінює середньому значенню + 2 стандартних вдіхилля суми покупок і всі значення, які більше за нього, будемо вважати викидами (є і інші правила для визначення викидів - з ним и познайомимось пізніше).\n",
    "\n",
    "Вилучіть значення з обох масивів і обчисліть коеф. кореляції Пірсона з допомогою `numpy` для кількості візитів і суми покупок без записів-викидів. Виведіть результат на екран, побудуйте діаграму розсіювання і проаналізуйте результат: що можемо сказати про залежність в даних?"
   ]
  },
  {
   "cell_type": "code",
   "execution_count": 98,
   "metadata": {
    "editable": true,
    "id": "Yj3Yfaf7UBbc",
    "slideshow": {
     "slide_type": ""
    },
    "tags": []
   },
   "outputs": [
    {
     "name": "stdout",
     "output_type": "stream",
     "text": [
      "Treshold: 2917.0366894902263\n",
      "Pearson correlation coefficient for cleaned data: -0.3685212078127798. \n",
      "The coefficient says that the dependency between the sum of purchases and the number of visits is negative and not strong.\n",
      "The more visits a visitor did the smaller purchases he had which is better represented with the edge values: the most frequent visits and the biggest sum of purchases.\n"
     ]
    },
    {
     "data": {
      "image/png": "[encoded data removed]",
      "text/plain": [
       "<Figure size 640x480 with 1 Axes>"
      ]
     },
     "metadata": {},
     "output_type": "display_data"
    }
   ],
   "source": [
    "sum_purchases_mean = np.mean(sum_purchases)\n",
    "sum_purchases_std = np.std(sum_purchases, ddof=1)\n",
    "sum_purchases_treshold = sum_purchases_mean + 2 * sum_purchases_std\n",
    "\n",
    "valid_values =[not num > sum_purchases_treshold for num in sum_purchases]\n",
    "print(f'Treshold: {sum_purchases_treshold}')\n",
    " \n",
    "sum_purchases_cleaned = np.array(sum_purchases)[valid_values]\n",
    "visits_cleaned = np.array(visits)[valid_values]\n",
    "\n",
    "print(f'Pearson correlation coefficient for cleaned data: {np.corrcoef(sum_purchases_cleaned, visits_cleaned)[0,1]}. \\nThe coefficient says that the dependency between the sum of purchases and the number of visits is negative and not strong.\\nThe more visits a visitor did the smaller purchases he had which is better represented with the edge values: the most frequent visits and the biggest sum of purchases.')\n",
    "\n",
    "import matplotlib.pyplot as plt\n",
    "\n",
    "plt.scatter(sum_purchases_cleaned, visits_cleaned)\n",
    "plt.title('Scatter Plot of Purchases vs. Visits with cleaned data')\n",
    "plt.xlabel('Sum of Purchases')\n",
    "plt.ylabel('Number of Visits');"
   ]
  }
 ],
 "metadata": {
  "colab": {
   "provenance": []
  },
  "kernelspec": {
   "display_name": "Python 3 (ipykernel)",
   "language": "python",
   "name": "python3"
  },
  "language_info": {
   "codemirror_mode": {
    "name": "ipython",
    "version": 3
   },
   "file_extension": ".py",
   "mimetype": "text/x-python",
   "name": "python",
   "nbconvert_exporter": "python",
   "pygments_lexer": "ipython3",
   "version": "3.12.3"
  }
 },
 "nbformat": 4,
 "nbformat_minor": 4
}
